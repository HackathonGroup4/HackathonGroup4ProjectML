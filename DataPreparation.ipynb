{
  "nbformat": 4,
  "nbformat_minor": 0,
  "metadata": {
    "colab": {
      "name": "DataPrep.ipynb",
      "provenance": [],
      "collapsed_sections": []
    },
    "kernelspec": {
      "name": "python3",
      "display_name": "Python 3"
    },
    "language_info": {
      "name": "python"
    }
  },
  "cells": [
    {
      "cell_type": "markdown",
      "metadata": {
        "id": "P6utSxOxTlJU"
      },
      "source": [
        "# Test Text Augmentation Libraries"
      ]
    },
    {
      "cell_type": "code",
      "metadata": {
        "colab": {
          "base_uri": "https://localhost:8080/"
        },
        "id": "W3h6-iM3q0lh",
        "outputId": "f85a5053-f665-486a-b3bb-6e4997092005"
      },
      "source": [
        "!pip install transformers textaugment augly -q\n",
        "!sudo apt-get install python3-magic -q"
      ],
      "execution_count": null,
      "outputs": [
        {
          "output_type": "stream",
          "text": [
            "\u001b[K     |████████████████████████████████| 2.6 MB 5.0 MB/s \n",
            "\u001b[K     |████████████████████████████████| 40.1 MB 16 kB/s \n",
            "\u001b[K     |████████████████████████████████| 895 kB 46.4 MB/s \n",
            "\u001b[K     |████████████████████████████████| 3.3 MB 23.0 MB/s \n",
            "\u001b[K     |████████████████████████████████| 636 kB 44.8 MB/s \n",
            "\u001b[K     |████████████████████████████████| 3.0 MB 37.1 MB/s \n",
            "\u001b[K     |████████████████████████████████| 721 kB 45.4 MB/s \n",
            "\u001b[K     |████████████████████████████████| 394 kB 44.6 MB/s \n",
            "\u001b[K     |████████████████████████████████| 55 kB 2.9 MB/s \n",
            "\u001b[K     |████████████████████████████████| 1.2 MB 30.4 MB/s \n",
            "\u001b[K     |████████████████████████████████| 42 kB 1.0 MB/s \n",
            "\u001b[K     |████████████████████████████████| 53 kB 1.9 MB/s \n",
            "\u001b[K     |████████████████████████████████| 65 kB 3.3 MB/s \n",
            "\u001b[?25h  Building wheel for googletrans (setup.py) ... \u001b[?25l\u001b[?25hdone\n",
            "\u001b[31mERROR: pip's dependency resolver does not currently take into account all the packages that are installed. This behaviour is the source of the following dependency conflicts.\n",
            "albumentations 0.1.12 requires imgaug<0.2.7,>=0.2.5, but you have imgaug 0.2.9 which is incompatible.\u001b[0m\n",
            "Reading package lists...\n",
            "Building dependency tree...\n",
            "Reading state information...\n",
            "The following additional packages will be installed:\n",
            "  libmagic-mgc libmagic1\n",
            "Suggested packages:\n",
            "  file\n",
            "The following NEW packages will be installed:\n",
            "  libmagic-mgc libmagic1 python3-magic\n",
            "0 upgraded, 3 newly installed, 0 to remove and 40 not upgraded.\n",
            "Need to get 262 kB of archives.\n",
            "After this operation, 5,257 kB of additional disk space will be used.\n",
            "Get:1 http://archive.ubuntu.com/ubuntu bionic-updates/main amd64 libmagic-mgc amd64 1:5.32-2ubuntu0.4 [184 kB]\n",
            "Get:2 http://archive.ubuntu.com/ubuntu bionic-updates/main amd64 libmagic1 amd64 1:5.32-2ubuntu0.4 [68.6 kB]\n",
            "Get:3 http://archive.ubuntu.com/ubuntu bionic/main amd64 python3-magic all 2:0.4.15-1 [9,280 B]\n",
            "Fetched 262 kB in 1s (381 kB/s)\n",
            "debconf: unable to initialize frontend: Dialog\n",
            "debconf: (No usable dialog-like program is installed, so the dialog based frontend cannot be used. at /usr/share/perl5/Debconf/FrontEnd/Dialog.pm line 76, <> line 3.)\n",
            "debconf: falling back to frontend: Readline\n",
            "debconf: unable to initialize frontend: Readline\n",
            "debconf: (This frontend requires a controlling tty.)\n",
            "debconf: falling back to frontend: Teletype\n",
            "dpkg-preconfigure: unable to re-open stdin: \n",
            "Selecting previously unselected package libmagic-mgc.\n",
            "(Reading database ... 160837 files and directories currently installed.)\n",
            "Preparing to unpack .../libmagic-mgc_1%3a5.32-2ubuntu0.4_amd64.deb ...\n",
            "Unpacking libmagic-mgc (1:5.32-2ubuntu0.4) ...\n",
            "Selecting previously unselected package libmagic1:amd64.\n",
            "Preparing to unpack .../libmagic1_1%3a5.32-2ubuntu0.4_amd64.deb ...\n",
            "Unpacking libmagic1:amd64 (1:5.32-2ubuntu0.4) ...\n",
            "Selecting previously unselected package python3-magic.\n",
            "Preparing to unpack .../python3-magic_2%3a0.4.15-1_all.deb ...\n",
            "Unpacking python3-magic (2:0.4.15-1) ...\n",
            "Setting up libmagic-mgc (1:5.32-2ubuntu0.4) ...\n",
            "Setting up libmagic1:amd64 (1:5.32-2ubuntu0.4) ...\n",
            "Setting up python3-magic (2:0.4.15-1) ...\n",
            "Processing triggers for man-db (2.8.3-2ubuntu0.1) ...\n",
            "Processing triggers for libc-bin (2.27-3ubuntu1.2) ...\n",
            "/sbin/ldconfig.real: /usr/local/lib/python3.7/dist-packages/ideep4py/lib/libmkldnn.so.0 is not a symbolic link\n",
            "\n"
          ],
          "name": "stdout"
        }
      ]
    },
    {
      "cell_type": "code",
      "metadata": {
        "colab": {
          "base_uri": "https://localhost:8080/"
        },
        "id": "52Ic0Qjiq4za",
        "outputId": "1fd69ab9-d7d8-4b6d-ca93-751b7670673f"
      },
      "source": [
        "import augly.text as txtaugs\n",
        "from textaugment import Wordnet, Translate\n",
        "import nltk\n",
        "nltk.download('punkt')\n",
        "nltk.download('wordnet')\n",
        "nltk.download('averaged_perceptron_tagger')"
      ],
      "execution_count": null,
      "outputs": [
        {
          "output_type": "stream",
          "text": [
            "[nltk_data] Downloading package punkt to /root/nltk_data...\n",
            "[nltk_data]   Unzipping tokenizers/punkt.zip.\n",
            "[nltk_data] Downloading package wordnet to /root/nltk_data...\n",
            "[nltk_data]   Unzipping corpora/wordnet.zip.\n",
            "[nltk_data] Downloading package averaged_perceptron_tagger to\n",
            "[nltk_data]     /root/nltk_data...\n",
            "[nltk_data]   Unzipping taggers/averaged_perceptron_tagger.zip.\n"
          ],
          "name": "stdout"
        },
        {
          "output_type": "execute_result",
          "data": {
            "text/plain": [
              "True"
            ]
          },
          "metadata": {
            "tags": []
          },
          "execution_count": 2
        }
      ]
    },
    {
      "cell_type": "code",
      "metadata": {
        "colab": {
          "base_uri": "https://localhost:8080/"
        },
        "id": "l_3tY6nTrEbK",
        "outputId": "49879d28-f61b-48be-92b9-5083a9d1de80"
      },
      "source": [
        "texts = [\"hello world\", \"bye planet\"]\n",
        "a1 = txtaugs.simulate_typos(\"hello world\", aug_char_p=0.01, aug_word_p=0.01)\n",
        "a2 = txtaugs.split_words(texts, aug_word_p=0.01)\n",
        "print(a1, a2)"
      ],
      "execution_count": null,
      "outputs": [
        {
          "output_type": "stream",
          "text": [
            "hello worls ['hello wor ld', 'bye pla net']\n"
          ],
          "name": "stdout"
        }
      ]
    },
    {
      "cell_type": "code",
      "metadata": {
        "colab": {
          "base_uri": "https://localhost:8080/",
          "height": 35
        },
        "id": "P6hrlV0ArL0D",
        "outputId": "792ff889-1df3-4790-b7f0-4d7d02ddca86"
      },
      "source": [
        "t = Wordnet(runs=5)\n",
        "t.augment('where can i find guides')"
      ],
      "execution_count": null,
      "outputs": [
        {
          "output_type": "execute_result",
          "data": {
            "application/vnd.google.colaboratory.intrinsic+json": {
              "type": "string"
            },
            "text/plain": [
              "'where can i happen guides'"
            ]
          },
          "metadata": {
            "tags": []
          },
          "execution_count": 4
        }
      ]
    },
    {
      "cell_type": "code",
      "metadata": {
        "colab": {
          "base_uri": "https://localhost:8080/",
          "height": 35
        },
        "id": "ids6NFT2rbyn",
        "outputId": "7aacf4e8-ddd4-43dd-e7ce-2c9398df14a2"
      },
      "source": [
        "t = Translate(src=\"en\", to=\"fr\")\n",
        "t.augment('how can i get the kerberos id of callista')"
      ],
      "execution_count": null,
      "outputs": [
        {
          "output_type": "execute_result",
          "data": {
            "application/vnd.google.colaboratory.intrinsic+json": {
              "type": "string"
            },
            "text/plain": [
              "'how can i get kerberos id from callista'"
            ]
          },
          "metadata": {
            "tags": []
          },
          "execution_count": 5
        }
      ]
    },
    {
      "cell_type": "markdown",
      "metadata": {
        "id": "wyuocUwitUqL"
      },
      "source": [
        "# Data Preparation Begins Here"
      ]
    },
    {
      "cell_type": "code",
      "metadata": {
        "colab": {
          "base_uri": "https://localhost:8080/",
          "height": 204
        },
        "id": "f2HKzJ6PrcUJ",
        "outputId": "b11c5188-afc3-400f-d621-4dc07ad00c07"
      },
      "source": [
        "import pandas as pd\n",
        "df = pd.read_csv(\"commands.csv\").iloc[:, :2]\n",
        "df.sample(5, random_state=0)"
      ],
      "execution_count": null,
      "outputs": [
        {
          "output_type": "execute_result",
          "data": {
            "text/html": [
              "<div>\n",
              "<style scoped>\n",
              "    .dataframe tbody tr th:only-of-type {\n",
              "        vertical-align: middle;\n",
              "    }\n",
              "\n",
              "    .dataframe tbody tr th {\n",
              "        vertical-align: top;\n",
              "    }\n",
              "\n",
              "    .dataframe thead th {\n",
              "        text-align: right;\n",
              "    }\n",
              "</style>\n",
              "<table border=\"1\" class=\"dataframe\">\n",
              "  <thead>\n",
              "    <tr style=\"text-align: right;\">\n",
              "      <th></th>\n",
              "      <th>Question</th>\n",
              "      <th>Command</th>\n",
              "    </tr>\n",
              "  </thead>\n",
              "  <tbody>\n",
              "    <tr>\n",
              "      <th>49</th>\n",
              "      <td>Require assistance on rebooting NDS</td>\n",
              "      <td>help rebooting NDS</td>\n",
              "    </tr>\n",
              "    <tr>\n",
              "      <th>27</th>\n",
              "      <td>how can I request a vendor review?</td>\n",
              "      <td>techrisk</td>\n",
              "    </tr>\n",
              "    <tr>\n",
              "      <th>30</th>\n",
              "      <td>How do I draft new email</td>\n",
              "      <td>mail</td>\n",
              "    </tr>\n",
              "    <tr>\n",
              "      <th>63</th>\n",
              "      <td>how can I telephone Ernest</td>\n",
              "      <td>call Ernest</td>\n",
              "    </tr>\n",
              "    <tr>\n",
              "      <th>45</th>\n",
              "      <td>What is helpdesk?</td>\n",
              "      <td>help</td>\n",
              "    </tr>\n",
              "  </tbody>\n",
              "</table>\n",
              "</div>"
            ],
            "text/plain": [
              "                               Question             Command\n",
              "49  Require assistance on rebooting NDS  help rebooting NDS\n",
              "27   how can I request a vendor review?            techrisk\n",
              "30             How do I draft new email                mail\n",
              "63           how can I telephone Ernest         call Ernest\n",
              "45                    What is helpdesk?                help"
            ]
          },
          "metadata": {
            "tags": []
          },
          "execution_count": 60
        }
      ]
    },
    {
      "cell_type": "code",
      "metadata": {
        "colab": {
          "base_uri": "https://localhost:8080/"
        },
        "id": "jHWhNnElsq1x",
        "outputId": "f220b507-0d61-409b-e0cf-aab5c740c00c"
      },
      "source": [
        "df['BaseCommand'] = df['Command'].apply(lambda x: x.split()[0])\n",
        "value_counts = df['BaseCommand'].value_counts()\n",
        "print(\"Number of unique commands:\", len(value_counts))\n",
        "value_counts"
      ],
      "execution_count": null,
      "outputs": [
        {
          "output_type": "stream",
          "text": [
            "Number of unique commands: 10\n"
          ],
          "name": "stdout"
        },
        {
          "output_type": "execute_result",
          "data": {
            "text/plain": [
              "call        14\n",
              "techrisk    10\n",
              "teutr       10\n",
              "im          10\n",
              "help         7\n",
              "engHub       7\n",
              "Orbit        6\n",
              "kerb         5\n",
              "mail         5\n",
              "time         5\n",
              "Name: BaseCommand, dtype: int64"
            ]
          },
          "metadata": {
            "tags": []
          },
          "execution_count": 61
        }
      ]
    },
    {
      "cell_type": "code",
      "metadata": {
        "colab": {
          "base_uri": "https://localhost:8080/"
        },
        "id": "WUm4OGKhHSPL",
        "outputId": "e54662bf-56f3-4cdc-daaa-297889c4b9e9"
      },
      "source": [
        "values = df[['BaseCommand', 'CommandID']].value_counts().keys().tolist()\n",
        "mapper = {k: v for k, v in values}\n",
        "print(mapper)"
      ],
      "execution_count": null,
      "outputs": [
        {
          "output_type": "stream",
          "text": [
            "{'call': 1, 'teutr': 8, 'techrisk': 7, 'im': 4, 'help': 3, 'engHub': 2, 'Orbit': 0, 'time': 9, 'mail': 6, 'kerb': 5}\n"
          ],
          "name": "stdout"
        }
      ]
    },
    {
      "cell_type": "code",
      "metadata": {
        "id": "gehFswqMLM4P"
      },
      "source": [
        "reverse_mapper = {v: k for k, v in values}"
      ],
      "execution_count": null,
      "outputs": []
    },
    {
      "cell_type": "code",
      "metadata": {
        "id": "M2F784Xmsru6"
      },
      "source": [
        "from sklearn.preprocessing import LabelEncoder\n",
        "import string\n",
        "\n",
        "def transform_question_column(text):\n",
        "    for punctuation in string.punctuation:\n",
        "        text = text.replace(punctuation, '').lower()\n",
        "    return text\n",
        "\n",
        "df['CommandID'] = LabelEncoder().fit_transform(df['BaseCommand'].values)\n",
        "df['Question'] = df['Question'].apply(transform_question_column)"
      ],
      "execution_count": null,
      "outputs": []
    },
    {
      "cell_type": "code",
      "metadata": {
        "colab": {
          "base_uri": "https://localhost:8080/",
          "height": 204
        },
        "id": "SwKBwk56s_MD",
        "outputId": "6337af1a-44fa-4333-8c5c-5c1668bd209b"
      },
      "source": [
        "df.sample(5, random_state=0)"
      ],
      "execution_count": null,
      "outputs": [
        {
          "output_type": "execute_result",
          "data": {
            "text/html": [
              "<div>\n",
              "<style scoped>\n",
              "    .dataframe tbody tr th:only-of-type {\n",
              "        vertical-align: middle;\n",
              "    }\n",
              "\n",
              "    .dataframe tbody tr th {\n",
              "        vertical-align: top;\n",
              "    }\n",
              "\n",
              "    .dataframe thead th {\n",
              "        text-align: right;\n",
              "    }\n",
              "</style>\n",
              "<table border=\"1\" class=\"dataframe\">\n",
              "  <thead>\n",
              "    <tr style=\"text-align: right;\">\n",
              "      <th></th>\n",
              "      <th>Question</th>\n",
              "      <th>Command</th>\n",
              "      <th>BaseCommand</th>\n",
              "      <th>CommandID</th>\n",
              "    </tr>\n",
              "  </thead>\n",
              "  <tbody>\n",
              "    <tr>\n",
              "      <th>49</th>\n",
              "      <td>require assistance on rebooting nds</td>\n",
              "      <td>help rebooting NDS</td>\n",
              "      <td>help</td>\n",
              "      <td>3</td>\n",
              "    </tr>\n",
              "    <tr>\n",
              "      <th>27</th>\n",
              "      <td>how can i request a vendor review</td>\n",
              "      <td>techrisk</td>\n",
              "      <td>techrisk</td>\n",
              "      <td>7</td>\n",
              "    </tr>\n",
              "    <tr>\n",
              "      <th>30</th>\n",
              "      <td>how do i draft new email</td>\n",
              "      <td>mail</td>\n",
              "      <td>mail</td>\n",
              "      <td>6</td>\n",
              "    </tr>\n",
              "    <tr>\n",
              "      <th>63</th>\n",
              "      <td>how can i telephone ernest</td>\n",
              "      <td>call Ernest</td>\n",
              "      <td>call</td>\n",
              "      <td>1</td>\n",
              "    </tr>\n",
              "    <tr>\n",
              "      <th>45</th>\n",
              "      <td>what is helpdesk</td>\n",
              "      <td>help</td>\n",
              "      <td>help</td>\n",
              "      <td>3</td>\n",
              "    </tr>\n",
              "  </tbody>\n",
              "</table>\n",
              "</div>"
            ],
            "text/plain": [
              "                               Question  ... CommandID\n",
              "49  require assistance on rebooting nds  ...         3\n",
              "27    how can i request a vendor review  ...         7\n",
              "30             how do i draft new email  ...         6\n",
              "63           how can i telephone ernest  ...         1\n",
              "45                     what is helpdesk  ...         3\n",
              "\n",
              "[5 rows x 4 columns]"
            ]
          },
          "metadata": {
            "tags": []
          },
          "execution_count": 63
        }
      ]
    },
    {
      "cell_type": "code",
      "metadata": {
        "colab": {
          "base_uri": "https://localhost:8080/",
          "height": 419
        },
        "id": "9TUlTmZOtS0H",
        "outputId": "95802d84-06e9-4a6a-b33e-5e7c4fba45e4"
      },
      "source": [
        "df"
      ],
      "execution_count": null,
      "outputs": [
        {
          "output_type": "execute_result",
          "data": {
            "text/html": [
              "<div>\n",
              "<style scoped>\n",
              "    .dataframe tbody tr th:only-of-type {\n",
              "        vertical-align: middle;\n",
              "    }\n",
              "\n",
              "    .dataframe tbody tr th {\n",
              "        vertical-align: top;\n",
              "    }\n",
              "\n",
              "    .dataframe thead th {\n",
              "        text-align: right;\n",
              "    }\n",
              "</style>\n",
              "<table border=\"1\" class=\"dataframe\">\n",
              "  <thead>\n",
              "    <tr style=\"text-align: right;\">\n",
              "      <th></th>\n",
              "      <th>Question</th>\n",
              "      <th>Command</th>\n",
              "      <th>BaseCommand</th>\n",
              "      <th>CommandID</th>\n",
              "    </tr>\n",
              "  </thead>\n",
              "  <tbody>\n",
              "    <tr>\n",
              "      <th>0</th>\n",
              "      <td>how do i access email on my phone</td>\n",
              "      <td>Orbit</td>\n",
              "      <td>Orbit</td>\n",
              "      <td>0</td>\n",
              "    </tr>\n",
              "    <tr>\n",
              "      <th>1</th>\n",
              "      <td>how do i share documents with colleagues</td>\n",
              "      <td>Orbit</td>\n",
              "      <td>Orbit</td>\n",
              "      <td>0</td>\n",
              "    </tr>\n",
              "    <tr>\n",
              "      <th>2</th>\n",
              "      <td>access work from mobile device</td>\n",
              "      <td>Orbit</td>\n",
              "      <td>Orbit</td>\n",
              "      <td>0</td>\n",
              "    </tr>\n",
              "    <tr>\n",
              "      <th>3</th>\n",
              "      <td>how do i get orbit suite</td>\n",
              "      <td>Orbit</td>\n",
              "      <td>Orbit</td>\n",
              "      <td>0</td>\n",
              "    </tr>\n",
              "    <tr>\n",
              "      <th>4</th>\n",
              "      <td>android work applications</td>\n",
              "      <td>Orbit</td>\n",
              "      <td>Orbit</td>\n",
              "      <td>0</td>\n",
              "    </tr>\n",
              "    <tr>\n",
              "      <th>...</th>\n",
              "      <td>...</td>\n",
              "      <td>...</td>\n",
              "      <td>...</td>\n",
              "      <td>...</td>\n",
              "    </tr>\n",
              "    <tr>\n",
              "      <th>74</th>\n",
              "      <td>report a security incident</td>\n",
              "      <td>techrisk</td>\n",
              "      <td>techrisk</td>\n",
              "      <td>7</td>\n",
              "    </tr>\n",
              "    <tr>\n",
              "      <th>75</th>\n",
              "      <td>how do i request a site unblock</td>\n",
              "      <td>techrisk</td>\n",
              "      <td>techrisk</td>\n",
              "      <td>7</td>\n",
              "    </tr>\n",
              "    <tr>\n",
              "      <th>76</th>\n",
              "      <td>where do i request a control override</td>\n",
              "      <td>techrisk</td>\n",
              "      <td>techrisk</td>\n",
              "      <td>7</td>\n",
              "    </tr>\n",
              "    <tr>\n",
              "      <th>77</th>\n",
              "      <td>request a security review</td>\n",
              "      <td>techrisk</td>\n",
              "      <td>techrisk</td>\n",
              "      <td>7</td>\n",
              "    </tr>\n",
              "    <tr>\n",
              "      <th>78</th>\n",
              "      <td>how can i request a vendor review</td>\n",
              "      <td>techrisk</td>\n",
              "      <td>techrisk</td>\n",
              "      <td>7</td>\n",
              "    </tr>\n",
              "  </tbody>\n",
              "</table>\n",
              "<p>79 rows × 4 columns</p>\n",
              "</div>"
            ],
            "text/plain": [
              "                                    Question   Command BaseCommand  CommandID\n",
              "0          how do i access email on my phone     Orbit       Orbit          0\n",
              "1   how do i share documents with colleagues     Orbit       Orbit          0\n",
              "2             access work from mobile device     Orbit       Orbit          0\n",
              "3                   how do i get orbit suite     Orbit       Orbit          0\n",
              "4                  android work applications     Orbit       Orbit          0\n",
              "..                                       ...       ...         ...        ...\n",
              "74                report a security incident  techrisk    techrisk          7\n",
              "75           how do i request a site unblock  techrisk    techrisk          7\n",
              "76     where do i request a control override  techrisk    techrisk          7\n",
              "77                 request a security review  techrisk    techrisk          7\n",
              "78         how can i request a vendor review  techrisk    techrisk          7\n",
              "\n",
              "[79 rows x 4 columns]"
            ]
          },
          "metadata": {
            "tags": []
          },
          "execution_count": 64
        }
      ]
    },
    {
      "cell_type": "code",
      "metadata": {
        "colab": {
          "base_uri": "https://localhost:8080/"
        },
        "id": "9ICeXwB1tiMN",
        "outputId": "538889c1-28a2-4613-a1f5-310a9da101b5"
      },
      "source": [
        "import random\n",
        "\n",
        "augmented_df = df.copy()\n",
        "\n",
        "for command in df['BaseCommand'].unique():\n",
        "  print(command + \"...\")\n",
        "  temp = df[df['BaseCommand'] == command]\n",
        "  questions = temp['Question'].values\n",
        "\n",
        "  augmented_questions = list(questions)\n",
        "  num_questions = len(augmented_questions)\n",
        "  i = 0\n",
        "  while i < (25 - num_questions):\n",
        "    q = questions[i%num_questions]\n",
        "    if 0 <= random.random() <= 0.2:\n",
        "      typo_q = txtaugs.simulate_typos(q, aug_char_p=random.uniform(0, 0.25), aug_word_p=random.uniform(0, 0.25))\n",
        "      if typo_q not in augmented_questions:\n",
        "        augmented_questions.append(typo_q)\n",
        "      i += 1\n",
        "\n",
        "    if 0 <= random.random() <= 0.1:\n",
        "      q = txtaugs.split_words(q, aug_word_p=0.1)\n",
        "      augmented_questions.append(q)\n",
        "      i += 1\n",
        "      \n",
        "    wordnet_augmenter = Wordnet(runs=random.randint(1, 2), p=random.uniform(0, 0.4))\n",
        "    wordnet_q = wordnet_augmenter.augment(q)\n",
        "    if wordnet_q not in augmented_questions:\n",
        "      augmented_questions.append(wordnet_q)\n",
        "      i += 1\n",
        "\n",
        "  data = {\n",
        "      'Question': augmented_questions,\n",
        "      'BaseCommand': [command] * len(augmented_questions),\n",
        "      'CommandID': [mapper[command]] * len(augmented_questions)\n",
        "  }\n",
        "  to_append = pd.DataFrame.from_dict(data)\n",
        "  augmented_df = augmented_df.append(to_append)"
      ],
      "execution_count": null,
      "outputs": [
        {
          "output_type": "stream",
          "text": [
            "Orbit...\n",
            "teutr...\n",
            "engHub...\n",
            "techrisk...\n",
            "mail...\n",
            "kerb...\n",
            "time...\n",
            "help...\n",
            "im...\n",
            "call...\n"
          ],
          "name": "stdout"
        }
      ]
    },
    {
      "cell_type": "code",
      "metadata": {
        "id": "3BrI6t55IJ15"
      },
      "source": [
        "augmented_df = augmented_df.drop(columns=['Command'])"
      ],
      "execution_count": null,
      "outputs": []
    },
    {
      "cell_type": "code",
      "metadata": {
        "colab": {
          "base_uri": "https://localhost:8080/",
          "height": 204
        },
        "id": "rg5mOHCtIAbe",
        "outputId": "b0157610-ce36-4a73-c859-71b61b60b76d"
      },
      "source": [
        "def lmao(x):\n",
        "  if x in ['kerb', 'im', 'mail', 'call']:\n",
        "    return 'name'\n",
        "  elif x in ['help', 'teutr']:\n",
        "    return 'command,none'\n",
        "  elif x == 'time':\n",
        "    return 'place,none'\n",
        "  elif x in ['engHub', 'Orbit', 'techrisk']:\n",
        "    return 'none'\n",
        "augmented_df['CommandType'] = augmented_df['BaseCommand'].apply(lmao)\n",
        "augmented_df.sample(5)"
      ],
      "execution_count": null,
      "outputs": [
        {
          "output_type": "execute_result",
          "data": {
            "text/html": [
              "<div>\n",
              "<style scoped>\n",
              "    .dataframe tbody tr th:only-of-type {\n",
              "        vertical-align: middle;\n",
              "    }\n",
              "\n",
              "    .dataframe tbody tr th {\n",
              "        vertical-align: top;\n",
              "    }\n",
              "\n",
              "    .dataframe thead th {\n",
              "        text-align: right;\n",
              "    }\n",
              "</style>\n",
              "<table border=\"1\" class=\"dataframe\">\n",
              "  <thead>\n",
              "    <tr style=\"text-align: right;\">\n",
              "      <th></th>\n",
              "      <th>Question</th>\n",
              "      <th>BaseCommand</th>\n",
              "      <th>CommandID</th>\n",
              "      <th>CommandType</th>\n",
              "    </tr>\n",
              "  </thead>\n",
              "  <tbody>\n",
              "    <tr>\n",
              "      <th>22</th>\n",
              "      <td>engeneer onboard</td>\n",
              "      <td>engHub</td>\n",
              "      <td>2</td>\n",
              "      <td>none</td>\n",
              "    </tr>\n",
              "    <tr>\n",
              "      <th>9</th>\n",
              "      <td>wha t is helpdesk</td>\n",
              "      <td>help</td>\n",
              "      <td>3</td>\n",
              "      <td>command,none</td>\n",
              "    </tr>\n",
              "    <tr>\n",
              "      <th>10</th>\n",
              "      <td>how do i take time panel</td>\n",
              "      <td>time</td>\n",
              "      <td>9</td>\n",
              "      <td>place,none</td>\n",
              "    </tr>\n",
              "    <tr>\n",
              "      <th>6</th>\n",
              "      <td>where to get selfservice tech support</td>\n",
              "      <td>teutr</td>\n",
              "      <td>8</td>\n",
              "      <td>command,none</td>\n",
              "    </tr>\n",
              "    <tr>\n",
              "      <th>6</th>\n",
              "      <td>require assistance on rebooting nds</td>\n",
              "      <td>help</td>\n",
              "      <td>3</td>\n",
              "      <td>command,none</td>\n",
              "    </tr>\n",
              "  </tbody>\n",
              "</table>\n",
              "</div>"
            ],
            "text/plain": [
              "                                 Question BaseCommand  CommandID   CommandType\n",
              "22                       engeneer onboard      engHub          2          none\n",
              "9                       wha t is helpdesk        help          3  command,none\n",
              "10               how do i take time panel        time          9    place,none\n",
              "6   where to get selfservice tech support       teutr          8  command,none\n",
              "6     require assistance on rebooting nds        help          3  command,none"
            ]
          },
          "metadata": {
            "tags": []
          },
          "execution_count": 103
        }
      ]
    },
    {
      "cell_type": "code",
      "metadata": {
        "colab": {
          "base_uri": "https://localhost:8080/",
          "height": 204
        },
        "id": "L8VZaOCnymX9",
        "outputId": "9cf0b8cc-0938-4da1-cd87-aa7e65a63edc"
      },
      "source": [
        "augmented_df['BaseCommand'] = augmented_df['BaseCommand'].apply(lambda x: x.lower())\n",
        "augmented_df.sample(5)"
      ],
      "execution_count": null,
      "outputs": [
        {
          "output_type": "execute_result",
          "data": {
            "text/html": [
              "<div>\n",
              "<style scoped>\n",
              "    .dataframe tbody tr th:only-of-type {\n",
              "        vertical-align: middle;\n",
              "    }\n",
              "\n",
              "    .dataframe tbody tr th {\n",
              "        vertical-align: top;\n",
              "    }\n",
              "\n",
              "    .dataframe thead th {\n",
              "        text-align: right;\n",
              "    }\n",
              "</style>\n",
              "<table border=\"1\" class=\"dataframe\">\n",
              "  <thead>\n",
              "    <tr style=\"text-align: right;\">\n",
              "      <th></th>\n",
              "      <th>Question</th>\n",
              "      <th>BaseCommand</th>\n",
              "      <th>CommandID</th>\n",
              "      <th>CommandType</th>\n",
              "    </tr>\n",
              "  </thead>\n",
              "  <tbody>\n",
              "    <tr>\n",
              "      <th>4</th>\n",
              "      <td>send message to binitha</td>\n",
              "      <td>im</td>\n",
              "      <td>4</td>\n",
              "      <td>name</td>\n",
              "    </tr>\n",
              "    <tr>\n",
              "      <th>4</th>\n",
              "      <td>how to access helpdesk tickets</td>\n",
              "      <td>help</td>\n",
              "      <td>3</td>\n",
              "      <td>command,none</td>\n",
              "    </tr>\n",
              "    <tr>\n",
              "      <th>5</th>\n",
              "      <td>iphone work applications</td>\n",
              "      <td>orbit</td>\n",
              "      <td>0</td>\n",
              "      <td>none</td>\n",
              "    </tr>\n",
              "    <tr>\n",
              "      <th>19</th>\n",
              "      <td>how manage i retrieve kerberos of binitha</td>\n",
              "      <td>kerb</td>\n",
              "      <td>5</td>\n",
              "      <td>name</td>\n",
              "    </tr>\n",
              "    <tr>\n",
              "      <th>67</th>\n",
              "      <td>speak to callista</td>\n",
              "      <td>call</td>\n",
              "      <td>1</td>\n",
              "      <td>name</td>\n",
              "    </tr>\n",
              "  </tbody>\n",
              "</table>\n",
              "</div>"
            ],
            "text/plain": [
              "                                     Question  ...   CommandType\n",
              "4                     send message to binitha  ...          name\n",
              "4              how to access helpdesk tickets  ...  command,none\n",
              "5                    iphone work applications  ...          none\n",
              "19  how manage i retrieve kerberos of binitha  ...          name\n",
              "67                          speak to callista  ...          name\n",
              "\n",
              "[5 rows x 4 columns]"
            ]
          },
          "metadata": {
            "tags": []
          },
          "execution_count": 108
        }
      ]
    },
    {
      "cell_type": "code",
      "metadata": {
        "id": "TvLlW2huLDoh"
      },
      "source": [
        "augmented_df.to_csv('augmented_commands.csv', index=False)"
      ],
      "execution_count": null,
      "outputs": []
    }
  ]
}