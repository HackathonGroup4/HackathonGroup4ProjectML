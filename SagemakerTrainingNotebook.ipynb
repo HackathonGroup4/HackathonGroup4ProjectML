{
 "cells": [
  {
   "cell_type": "code",
   "execution_count": 25,
   "metadata": {},
   "outputs": [
    {
     "name": "stdout",
     "output_type": "stream",
     "text": [
      "Requirement already satisfied: sagemaker in /home/ec2-user/anaconda3/envs/pytorch_p36/lib/python3.6/site-packages (2.49.2)\n",
      "Requirement already satisfied: packaging>=20.0 in /home/ec2-user/anaconda3/envs/pytorch_p36/lib/python3.6/site-packages (from sagemaker) (20.9)\n",
      "Requirement already satisfied: smdebug-rulesconfig==1.0.1 in /home/ec2-user/anaconda3/envs/pytorch_p36/lib/python3.6/site-packages (from sagemaker) (1.0.1)\n",
      "Requirement already satisfied: numpy>=1.9.0 in /home/ec2-user/anaconda3/envs/pytorch_p36/lib/python3.6/site-packages (from sagemaker) (1.19.5)\n",
      "Requirement already satisfied: protobuf3-to-dict>=0.1.5 in /home/ec2-user/anaconda3/envs/pytorch_p36/lib/python3.6/site-packages (from sagemaker) (0.1.5)\n",
      "Requirement already satisfied: pandas in /home/ec2-user/anaconda3/envs/pytorch_p36/lib/python3.6/site-packages (from sagemaker) (1.1.5)\n",
      "Requirement already satisfied: pathos in /home/ec2-user/anaconda3/envs/pytorch_p36/lib/python3.6/site-packages (from sagemaker) (0.2.7)\n",
      "Requirement already satisfied: attrs in /home/ec2-user/anaconda3/envs/pytorch_p36/lib/python3.6/site-packages (from sagemaker) (20.3.0)\n",
      "Requirement already satisfied: importlib-metadata>=1.4.0 in /home/ec2-user/anaconda3/envs/pytorch_p36/lib/python3.6/site-packages (from sagemaker) (3.7.0)\n",
      "Requirement already satisfied: boto3>=1.16.32 in /home/ec2-user/anaconda3/envs/pytorch_p36/lib/python3.6/site-packages (from sagemaker) (1.17.99)\n",
      "Requirement already satisfied: protobuf>=3.1 in /home/ec2-user/anaconda3/envs/pytorch_p36/lib/python3.6/site-packages (from sagemaker) (3.15.2)\n",
      "Requirement already satisfied: google-pasta in /home/ec2-user/anaconda3/envs/pytorch_p36/lib/python3.6/site-packages (from sagemaker) (0.2.0)\n",
      "Requirement already satisfied: jmespath<1.0.0,>=0.7.1 in /home/ec2-user/anaconda3/envs/pytorch_p36/lib/python3.6/site-packages (from boto3>=1.16.32->sagemaker) (0.10.0)\n",
      "Requirement already satisfied: s3transfer<0.5.0,>=0.4.0 in /home/ec2-user/anaconda3/envs/pytorch_p36/lib/python3.6/site-packages (from boto3>=1.16.32->sagemaker) (0.4.2)\n",
      "Requirement already satisfied: botocore<1.21.0,>=1.20.99 in /home/ec2-user/anaconda3/envs/pytorch_p36/lib/python3.6/site-packages (from boto3>=1.16.32->sagemaker) (1.20.99)\n",
      "Requirement already satisfied: python-dateutil<3.0.0,>=2.1 in /home/ec2-user/anaconda3/envs/pytorch_p36/lib/python3.6/site-packages (from botocore<1.21.0,>=1.20.99->boto3>=1.16.32->sagemaker) (2.8.1)\n",
      "Requirement already satisfied: urllib3<1.27,>=1.25.4 in /home/ec2-user/anaconda3/envs/pytorch_p36/lib/python3.6/site-packages (from botocore<1.21.0,>=1.20.99->boto3>=1.16.32->sagemaker) (1.26.5)\n",
      "Requirement already satisfied: zipp>=0.5 in /home/ec2-user/anaconda3/envs/pytorch_p36/lib/python3.6/site-packages (from importlib-metadata>=1.4.0->sagemaker) (3.4.0)\n",
      "Requirement already satisfied: typing-extensions>=3.6.4 in /home/ec2-user/anaconda3/envs/pytorch_p36/lib/python3.6/site-packages (from importlib-metadata>=1.4.0->sagemaker) (3.7.4.3)\n",
      "Requirement already satisfied: pyparsing>=2.0.2 in /home/ec2-user/anaconda3/envs/pytorch_p36/lib/python3.6/site-packages (from packaging>=20.0->sagemaker) (2.4.7)\n",
      "Requirement already satisfied: six>=1.9 in /home/ec2-user/anaconda3/envs/pytorch_p36/lib/python3.6/site-packages (from protobuf>=3.1->sagemaker) (1.15.0)\n",
      "Requirement already satisfied: pytz>=2017.2 in /home/ec2-user/anaconda3/envs/pytorch_p36/lib/python3.6/site-packages (from pandas->sagemaker) (2021.1)\n",
      "Requirement already satisfied: multiprocess>=0.70.11 in /home/ec2-user/anaconda3/envs/pytorch_p36/lib/python3.6/site-packages (from pathos->sagemaker) (0.70.11.1)\n",
      "Requirement already satisfied: ppft>=1.6.6.3 in /home/ec2-user/anaconda3/envs/pytorch_p36/lib/python3.6/site-packages (from pathos->sagemaker) (1.6.6.3)\n",
      "Requirement already satisfied: pox>=0.2.9 in /home/ec2-user/anaconda3/envs/pytorch_p36/lib/python3.6/site-packages (from pathos->sagemaker) (0.2.9)\n",
      "Requirement already satisfied: dill>=0.3.3 in /home/ec2-user/anaconda3/envs/pytorch_p36/lib/python3.6/site-packages (from pathos->sagemaker) (0.3.3)\n",
      "\u001b[33mWARNING: You are using pip version 21.1.2; however, version 21.1.3 is available.\n",
      "You should consider upgrading via the '/home/ec2-user/anaconda3/envs/pytorch_p36/bin/python -m pip install --upgrade pip' command.\u001b[0m\n",
      "Note: you may need to restart the kernel to use updated packages.\n"
     ]
    }
   ],
   "source": [
    "pip install sagemaker --upgrade"
   ]
  },
  {
   "cell_type": "code",
   "execution_count": 26,
   "metadata": {},
   "outputs": [
    {
     "name": "stdout",
     "output_type": "stream",
     "text": [
      "arn:aws:iam::204222797759:role/service-role/AmazonSageMaker-ExecutionRole-20210626T194361\n"
     ]
    }
   ],
   "source": [
    "import sagemaker\r\n",
    "import boto3\r\n",
    "\r\n",
    "sess = sagemaker.Session()\r\n",
    "role = sagemaker.get_execution_role()"
   ]
  },
  {
   "cell_type": "code",
   "execution_count": 27,
   "metadata": {},
   "outputs": [],
   "source": [
    "from sagemaker.huggingface import HuggingFace, HuggingFaceModel"
   ]
  },
  {
   "cell_type": "code",
   "execution_count": 28,
   "metadata": {},
   "outputs": [],
   "source": [
    "hyperparameters = {}\n",
    "\n",
    "huggingface_estimator = HuggingFace(\n",
    "    entry_point='train.py',\n",
    "    source_dir='./scripts',\n",
    "    instance_type='ml.p3.2xlarge',\n",
    "    instance_count=1,\n",
    "    role=role,\n",
    "    transformers_version='4.6',\n",
    "    pytorch_version='1.7',\n",
    "    py_version='py36',\n",
    "    hyperparameters=hyperparameters,\n",
    ")"
   ]
  },
  {
   "cell_type": "code",
   "execution_count": 29,
   "metadata": {},
   "outputs": [
    {
     "name": "stdout",
     "output_type": "stream",
     "text": [
      "2021-07-23 11:01:09 Starting - Starting the training job...\n",
      "2021-07-23 11:01:32 Starting - Launching requested ML instancesProfilerReport-1627038068: InProgress\n",
      "...\n",
      "2021-07-23 11:02:02 Starting - Preparing the instances for training.........\n",
      "2021-07-23 11:03:39 Downloading - Downloading input data...\n",
      "2021-07-23 11:04:03 Training - Downloading the training image................\u001b[34mbash: cannot set terminal process group (-1): Inappropriate ioctl for device\u001b[0m\n",
      "\u001b[34mbash: no job control in this shell\u001b[0m\n",
      "\u001b[34m2021-07-23 11:06:44,277 sagemaker-training-toolkit INFO     Imported framework sagemaker_pytorch_container.training\u001b[0m\n",
      "\u001b[34m2021-07-23 11:06:44,300 sagemaker_pytorch_container.training INFO     Block until all host DNS lookups succeed.\u001b[0m\n",
      "\u001b[34m2021-07-23 11:06:44,307 sagemaker_pytorch_container.training INFO     Invoking user training script.\u001b[0m\n",
      "\u001b[34m2021-07-23 11:06:44,733 sagemaker-training-toolkit INFO     Invoking user script\n",
      "\u001b[0m\n",
      "\u001b[34mTraining Env:\n",
      "\u001b[0m\n",
      "\u001b[34m{\n",
      "    \"additional_framework_parameters\": {},\n",
      "    \"channel_input_dirs\": {\n",
      "        \"train\": \"/opt/ml/input/data/train\"\n",
      "    },\n",
      "    \"current_host\": \"algo-1\",\n",
      "    \"framework_module\": \"sagemaker_pytorch_container.training:main\",\n",
      "    \"hosts\": [\n",
      "        \"algo-1\"\n",
      "    ],\n",
      "    \"hyperparameters\": {},\n",
      "    \"input_config_dir\": \"/opt/ml/input/config\",\n",
      "    \"input_data_config\": {\n",
      "        \"train\": {\n",
      "            \"TrainingInputMode\": \"File\",\n",
      "            \"S3DistributionType\": \"FullyReplicated\",\n",
      "            \"RecordWrapperType\": \"None\"\n",
      "        }\n",
      "    },\n",
      "    \"input_dir\": \"/opt/ml/input\",\n",
      "    \"is_master\": true,\n",
      "    \"job_name\": \"huggingface-pytorch-training-2021-07-23-11-01-08-350\",\n",
      "    \"log_level\": 20,\n",
      "    \"master_hostname\": \"algo-1\",\n",
      "    \"model_dir\": \"/opt/ml/model\",\n",
      "    \"module_dir\": \"s3://sagemaker-ap-southeast-1-204222797759/huggingface-pytorch-training-2021-07-23-11-01-08-350/source/sourcedir.tar.gz\",\n",
      "    \"module_name\": \"train\",\n",
      "    \"network_interface_name\": \"eth0\",\n",
      "    \"num_cpus\": 8,\n",
      "    \"num_gpus\": 1,\n",
      "    \"output_data_dir\": \"/opt/ml/output/data\",\n",
      "    \"output_dir\": \"/opt/ml/output\",\n",
      "    \"output_intermediate_dir\": \"/opt/ml/output/intermediate\",\n",
      "    \"resource_config\": {\n",
      "        \"current_host\": \"algo-1\",\n",
      "        \"hosts\": [\n",
      "            \"algo-1\"\n",
      "        ],\n",
      "        \"network_interface_name\": \"eth0\"\n",
      "    },\n",
      "    \"user_entry_point\": \"train.py\"\u001b[0m\n",
      "\u001b[34m}\n",
      "\u001b[0m\n",
      "\u001b[34mEnvironment variables:\n",
      "\u001b[0m\n",
      "\u001b[34mSM_HOSTS=[\"algo-1\"]\u001b[0m\n",
      "\u001b[34mSM_NETWORK_INTERFACE_NAME=eth0\u001b[0m\n",
      "\u001b[34mSM_HPS={}\u001b[0m\n",
      "\u001b[34mSM_USER_ENTRY_POINT=train.py\u001b[0m\n",
      "\u001b[34mSM_FRAMEWORK_PARAMS={}\u001b[0m\n",
      "\u001b[34mSM_RESOURCE_CONFIG={\"current_host\":\"algo-1\",\"hosts\":[\"algo-1\"],\"network_interface_name\":\"eth0\"}\u001b[0m\n",
      "\u001b[34mSM_INPUT_DATA_CONFIG={\"train\":{\"RecordWrapperType\":\"None\",\"S3DistributionType\":\"FullyReplicated\",\"TrainingInputMode\":\"File\"}}\u001b[0m\n",
      "\u001b[34mSM_OUTPUT_DATA_DIR=/opt/ml/output/data\u001b[0m\n",
      "\u001b[34mSM_CHANNELS=[\"train\"]\u001b[0m\n",
      "\u001b[34mSM_CURRENT_HOST=algo-1\u001b[0m\n",
      "\u001b[34mSM_MODULE_NAME=train\u001b[0m\n",
      "\u001b[34mSM_LOG_LEVEL=20\u001b[0m\n",
      "\u001b[34mSM_FRAMEWORK_MODULE=sagemaker_pytorch_container.training:main\u001b[0m\n",
      "\u001b[34mSM_INPUT_DIR=/opt/ml/input\u001b[0m\n",
      "\u001b[34mSM_INPUT_CONFIG_DIR=/opt/ml/input/config\u001b[0m\n",
      "\u001b[34mSM_OUTPUT_DIR=/opt/ml/output\u001b[0m\n",
      "\u001b[34mSM_NUM_CPUS=8\u001b[0m\n",
      "\u001b[34mSM_NUM_GPUS=1\u001b[0m\n",
      "\u001b[34mSM_MODEL_DIR=/opt/ml/model\u001b[0m\n",
      "\u001b[34mSM_MODULE_DIR=s3://sagemaker-ap-southeast-1-204222797759/huggingface-pytorch-training-2021-07-23-11-01-08-350/source/sourcedir.tar.gz\u001b[0m\n",
      "\u001b[34mSM_TRAINING_ENV={\"additional_framework_parameters\":{},\"channel_input_dirs\":{\"train\":\"/opt/ml/input/data/train\"},\"current_host\":\"algo-1\",\"framework_module\":\"sagemaker_pytorch_container.training:main\",\"hosts\":[\"algo-1\"],\"hyperparameters\":{},\"input_config_dir\":\"/opt/ml/input/config\",\"input_data_config\":{\"train\":{\"RecordWrapperType\":\"None\",\"S3DistributionType\":\"FullyReplicated\",\"TrainingInputMode\":\"File\"}},\"input_dir\":\"/opt/ml/input\",\"is_master\":true,\"job_name\":\"huggingface-pytorch-training-2021-07-23-11-01-08-350\",\"log_level\":20,\"master_hostname\":\"algo-1\",\"model_dir\":\"/opt/ml/model\",\"module_dir\":\"s3://sagemaker-ap-southeast-1-204222797759/huggingface-pytorch-training-2021-07-23-11-01-08-350/source/sourcedir.tar.gz\",\"module_name\":\"train\",\"network_interface_name\":\"eth0\",\"num_cpus\":8,\"num_gpus\":1,\"output_data_dir\":\"/opt/ml/output/data\",\"output_dir\":\"/opt/ml/output\",\"output_intermediate_dir\":\"/opt/ml/output/intermediate\",\"resource_config\":{\"current_host\":\"algo-1\",\"hosts\":[\"algo-1\"],\"network_interface_name\":\"eth0\"},\"user_entry_point\":\"train.py\"}\u001b[0m\n",
      "\u001b[34mSM_USER_ARGS=[]\u001b[0m\n",
      "\u001b[34mSM_OUTPUT_INTERMEDIATE_DIR=/opt/ml/output/intermediate\u001b[0m\n",
      "\u001b[34mSM_CHANNEL_TRAIN=/opt/ml/input/data/train\u001b[0m\n",
      "\u001b[34mPYTHONPATH=/opt/ml/code:/opt/conda/bin:/opt/conda/lib/python36.zip:/opt/conda/lib/python3.6:/opt/conda/lib/python3.6/lib-dynload:/opt/conda/lib/python3.6/site-packages\n",
      "\u001b[0m\n",
      "\u001b[34mInvoking script with the following command:\n",
      "\u001b[0m\n",
      "\u001b[34m/opt/conda/bin/python3.6 train.py\n",
      "\n",
      "\u001b[0m\n",
      "\u001b[34m2021-07-23 11:06:50,238 - filelock - INFO - Lock 139834026772576 acquired on /root/.cache/huggingface/transformers/0e1bbfda7f63a99bb52e3915dcf10c3c92122b827d92eb2d34ce94ee79ba486c.d789d64ebfe299b0e416afc4a169632f903f693095b4629a7ea271d5a0cf2c99.lock\u001b[0m\n",
      "\u001b[34m2021-07-23 11:06:51,712 - filelock - INFO - Lock 139834026772576 released on /root/.cache/huggingface/transformers/0e1bbfda7f63a99bb52e3915dcf10c3c92122b827d92eb2d34ce94ee79ba486c.d789d64ebfe299b0e416afc4a169632f903f693095b4629a7ea271d5a0cf2c99.lock\u001b[0m\n",
      "\u001b[34m2021-07-23 11:06:52,695 - filelock - INFO - Lock 139834026772576 acquired on /root/.cache/huggingface/transformers/75abb59d7a06f4f640158a9bfcde005264e59e8d566781ab1415b139d2e4c603.7f2721073f19841be16f41b0a70b600ca6b880c8f3df6f3535cbc704371bdfa4.lock\u001b[0m\n",
      "\u001b[34m2021-07-23 11:06:54,409 - filelock - INFO - Lock 139834026772576 released on /root/.cache/huggingface/transformers/75abb59d7a06f4f640158a9bfcde005264e59e8d566781ab1415b139d2e4c603.7f2721073f19841be16f41b0a70b600ca6b880c8f3df6f3535cbc704371bdfa4.lock\u001b[0m\n",
      "\n",
      "2021-07-23 11:06:54 Training - Training image download completed. Training in progress.\u001b[34m2021-07-23 11:06:57,380 - filelock - INFO - Lock 139834026772576 acquired on /root/.cache/huggingface/transformers/8c8624b8ac8aa99c60c912161f8332de003484428c47906d7ff7eb7f73eecdbb.20430bd8e10ef77a7d2977accefe796051e01bc2fc4aa146bc862997a1a15e79.lock\u001b[0m\n",
      "\u001b[34m2021-07-23 11:06:58,364 - filelock - INFO - Lock 139834026772576 released on /root/.cache/huggingface/transformers/8c8624b8ac8aa99c60c912161f8332de003484428c47906d7ff7eb7f73eecdbb.20430bd8e10ef77a7d2977accefe796051e01bc2fc4aa146bc862997a1a15e79.lock\u001b[0m\n",
      "\u001b[34m2021-07-23 11:06:59,634 - filelock - INFO - Lock 139831188405888 acquired on /root/.cache/huggingface/transformers/23454919702d26495337f3da04d1655c7ee010d5ec9d77bdb9e399e00302c0a1.d423bdf2f58dc8b77d5f5d18028d7ae4a72dcfd8f468e81fe979ada957a8c361.lock\u001b[0m\n",
      "\u001b[34m2021-07-23 11:07:00,616 - filelock - INFO - Lock 139831188405888 released on /root/.cache/huggingface/transformers/23454919702d26495337f3da04d1655c7ee010d5ec9d77bdb9e399e00302c0a1.d423bdf2f58dc8b77d5f5d18028d7ae4a72dcfd8f468e81fe979ada957a8c361.lock\u001b[0m\n",
      "\u001b[34m2021-07-23 11:07:01,606 - filelock - INFO - Lock 139831185263024 acquired on /root/.cache/huggingface/transformers/9c169103d7e5a73936dd2b627e42851bec0831212b677c637033ee4bce9ab5ee.126183e36667471617ae2f0835fab707baa54b731f991507ebbb55ea85adb12a.lock\u001b[0m\n",
      "\u001b[34m2021-07-23 11:07:07,009 - filelock - INFO - Lock 139831185263024 released on /root/.cache/huggingface/transformers/9c169103d7e5a73936dd2b627e42851bec0831212b677c637033ee4bce9ab5ee.126183e36667471617ae2f0835fab707baa54b731f991507ebbb55ea85adb12a.lock\u001b[0m\n",
      "\u001b[34mSome weights of the model checkpoint at distilbert-base-uncased were not used when initializing DistilBertForSequenceClassification: ['vocab_projector.bias', 'vocab_transform.bias', 'vocab_transform.weight', 'vocab_layer_norm.weight', 'vocab_layer_norm.bias', 'vocab_projector.weight']\u001b[0m\n",
      "\u001b[34m- This IS expected if you are initializing DistilBertForSequenceClassification from the checkpoint of a model trained on another task or with another architecture (e.g. initializing a BertForSequenceClassification model from a BertForPreTraining model).\u001b[0m\n",
      "\u001b[34m- This IS NOT expected if you are initializing DistilBertForSequenceClassification from the checkpoint of a model that you expect to be exactly identical (initializing a BertForSequenceClassification model from a BertForSequenceClassification model).\u001b[0m\n",
      "\u001b[34mSome weights of DistilBertForSequenceClassification were not initialized from the model checkpoint at distilbert-base-uncased and are newly initialized: ['pre_classifier.bias', 'classifier.bias', 'classifier.weight', 'pre_classifier.weight']\u001b[0m\n",
      "\u001b[34mYou should probably TRAIN this model on a down-stream task to be able to use it for predictions and inference.\u001b[0m\n",
      "\u001b[34m2021-07-23 11:07:10,768 - __main__ - INFO - Start training...\u001b[0m\n",
      "\u001b[34m[2021-07-23 11:07:11.026 algo-1:25 INFO utils.py:27] RULE_JOB_STOP_SIGNAL_FILENAME: None\u001b[0m\n",
      "\u001b[34m[2021-07-23 11:07:11.173 algo-1:25 INFO profiler_config_parser.py:102] User has disabled profiler.\u001b[0m\n",
      "\u001b[34m[2021-07-23 11:07:11.174 algo-1:25 INFO json_config.py:91] Creating hook from json_config at /opt/ml/input/config/debughookconfig.json.\u001b[0m\n",
      "\u001b[34m[2021-07-23 11:07:11.174 algo-1:25 INFO hook.py:201] tensorboard_dir has not been set for the hook. SMDebug will not be exporting tensorboard summaries.\u001b[0m\n",
      "\u001b[34m[2021-07-23 11:07:11.175 algo-1:25 INFO hook.py:255] Saving to /opt/ml/output/tensors\u001b[0m\n",
      "\u001b[34m[2021-07-23 11:07:11.175 algo-1:25 INFO state_store.py:77] The checkpoint config file /opt/ml/input/config/checkpointconfig.json does not exist.\u001b[0m\n",
      "\u001b[34m[2021-07-23 11:07:11.326 algo-1:25 INFO hook.py:591] name:distilbert.embeddings.word_embeddings.weight count_params:23440896\u001b[0m\n",
      "\u001b[34m[2021-07-23 11:07:11.326 algo-1:25 INFO hook.py:591] name:distilbert.embeddings.position_embeddings.weight count_params:393216\u001b[0m\n",
      "\u001b[34m[2021-07-23 11:07:11.327 algo-1:25 INFO hook.py:591] name:distilbert.embeddings.LayerNorm.weight count_params:768\u001b[0m\n",
      "\u001b[34m[2021-07-23 11:07:11.327 algo-1:25 INFO hook.py:591] name:distilbert.embeddings.LayerNorm.bias count_params:768\u001b[0m\n",
      "\u001b[34m[2021-07-23 11:07:11.327 algo-1:25 INFO hook.py:591] name:distilbert.transformer.layer.0.attention.q_lin.weight count_params:589824\u001b[0m\n",
      "\u001b[34m[2021-07-23 11:07:11.327 algo-1:25 INFO hook.py:591] name:distilbert.transformer.layer.0.attention.q_lin.bias count_params:768\u001b[0m\n",
      "\u001b[34m[2021-07-23 11:07:11.327 algo-1:25 INFO hook.py:591] name:distilbert.transformer.layer.0.attention.k_lin.weight count_params:589824\u001b[0m\n",
      "\u001b[34m[2021-07-23 11:07:11.327 algo-1:25 INFO hook.py:591] name:distilbert.transformer.layer.0.attention.k_lin.bias count_params:768\u001b[0m\n",
      "\u001b[34m[2021-07-23 11:07:11.327 algo-1:25 INFO hook.py:591] name:distilbert.transformer.layer.0.attention.v_lin.weight count_params:589824\u001b[0m\n",
      "\u001b[34m[2021-07-23 11:07:11.327 algo-1:25 INFO hook.py:591] name:distilbert.transformer.layer.0.attention.v_lin.bias count_params:768\u001b[0m\n",
      "\u001b[34m[2021-07-23 11:07:11.327 algo-1:25 INFO hook.py:591] name:distilbert.transformer.layer.0.attention.out_lin.weight count_params:589824\u001b[0m\n",
      "\u001b[34m[2021-07-23 11:07:11.328 algo-1:25 INFO hook.py:591] name:distilbert.transformer.layer.0.attention.out_lin.bias count_params:768\u001b[0m\n",
      "\u001b[34m[2021-07-23 11:07:11.328 algo-1:25 INFO hook.py:591] name:distilbert.transformer.layer.0.sa_layer_norm.weight count_params:768\u001b[0m\n",
      "\u001b[34m[2021-07-23 11:07:11.328 algo-1:25 INFO hook.py:591] name:distilbert.transformer.layer.0.sa_layer_norm.bias count_params:768\u001b[0m\n",
      "\u001b[34m[2021-07-23 11:07:11.328 algo-1:25 INFO hook.py:591] name:distilbert.transformer.layer.0.ffn.lin1.weight count_params:2359296\u001b[0m\n",
      "\u001b[34m[2021-07-23 11:07:11.328 algo-1:25 INFO hook.py:591] name:distilbert.transformer.layer.0.ffn.lin1.bias count_params:3072\u001b[0m\n",
      "\u001b[34m[2021-07-23 11:07:11.328 algo-1:25 INFO hook.py:591] name:distilbert.transformer.layer.0.ffn.lin2.weight count_params:2359296\u001b[0m\n",
      "\u001b[34m[2021-07-23 11:07:11.328 algo-1:25 INFO hook.py:591] name:distilbert.transformer.layer.0.ffn.lin2.bias count_params:768\u001b[0m\n",
      "\u001b[34m[2021-07-23 11:07:11.328 algo-1:25 INFO hook.py:591] name:distilbert.transformer.layer.0.output_layer_norm.weight count_params:768\u001b[0m\n",
      "\u001b[34m[2021-07-23 11:07:11.329 algo-1:25 INFO hook.py:591] name:distilbert.transformer.layer.0.output_layer_norm.bias count_params:768\u001b[0m\n",
      "\u001b[34m[2021-07-23 11:07:11.329 algo-1:25 INFO hook.py:591] name:distilbert.transformer.layer.1.attention.q_lin.weight count_params:589824\u001b[0m\n",
      "\u001b[34m[2021-07-23 11:07:11.329 algo-1:25 INFO hook.py:591] name:distilbert.transformer.layer.1.attention.q_lin.bias count_params:768\u001b[0m\n",
      "\u001b[34m[2021-07-23 11:07:11.329 algo-1:25 INFO hook.py:591] name:distilbert.transformer.layer.1.attention.k_lin.weight count_params:589824\u001b[0m\n",
      "\u001b[34m[2021-07-23 11:07:11.329 algo-1:25 INFO hook.py:591] name:distilbert.transformer.layer.1.attention.k_lin.bias count_params:768\u001b[0m\n",
      "\u001b[34m[2021-07-23 11:07:11.329 algo-1:25 INFO hook.py:591] name:distilbert.transformer.layer.1.attention.v_lin.weight count_params:589824\u001b[0m\n",
      "\u001b[34m[2021-07-23 11:07:11.329 algo-1:25 INFO hook.py:591] name:distilbert.transformer.layer.1.attention.v_lin.bias count_params:768\u001b[0m\n",
      "\u001b[34m[2021-07-23 11:07:11.329 algo-1:25 INFO hook.py:591] name:distilbert.transformer.layer.1.attention.out_lin.weight count_params:589824\u001b[0m\n",
      "\u001b[34m[2021-07-23 11:07:11.329 algo-1:25 INFO hook.py:591] name:distilbert.transformer.layer.1.attention.out_lin.bias count_params:768\u001b[0m\n",
      "\u001b[34m[2021-07-23 11:07:11.330 algo-1:25 INFO hook.py:591] name:distilbert.transformer.layer.1.sa_layer_norm.weight count_params:768\u001b[0m\n",
      "\u001b[34m[2021-07-23 11:07:11.330 algo-1:25 INFO hook.py:591] name:distilbert.transformer.layer.1.sa_layer_norm.bias count_params:768\u001b[0m\n",
      "\u001b[34m[2021-07-23 11:07:11.330 algo-1:25 INFO hook.py:591] name:distilbert.transformer.layer.1.ffn.lin1.weight count_params:2359296\u001b[0m\n",
      "\u001b[34m[2021-07-23 11:07:11.330 algo-1:25 INFO hook.py:591] name:distilbert.transformer.layer.1.ffn.lin1.bias count_params:3072\u001b[0m\n",
      "\u001b[34m[2021-07-23 11:07:11.330 algo-1:25 INFO hook.py:591] name:distilbert.transformer.layer.1.ffn.lin2.weight count_params:2359296\u001b[0m\n",
      "\u001b[34m[2021-07-23 11:07:11.330 algo-1:25 INFO hook.py:591] name:distilbert.transformer.layer.1.ffn.lin2.bias count_params:768\u001b[0m\n",
      "\u001b[34m[2021-07-23 11:07:11.330 algo-1:25 INFO hook.py:591] name:distilbert.transformer.layer.1.output_layer_norm.weight count_params:768\u001b[0m\n",
      "\u001b[34m[2021-07-23 11:07:11.330 algo-1:25 INFO hook.py:591] name:distilbert.transformer.layer.1.output_layer_norm.bias count_params:768\u001b[0m\n",
      "\u001b[34m[2021-07-23 11:07:11.330 algo-1:25 INFO hook.py:591] name:distilbert.transformer.layer.2.attention.q_lin.weight count_params:589824\u001b[0m\n",
      "\u001b[34m[2021-07-23 11:07:11.330 algo-1:25 INFO hook.py:591] name:distilbert.transformer.layer.2.attention.q_lin.bias count_params:768\u001b[0m\n",
      "\u001b[34m[2021-07-23 11:07:11.331 algo-1:25 INFO hook.py:591] name:distilbert.transformer.layer.2.attention.k_lin.weight count_params:589824\u001b[0m\n",
      "\u001b[34m[2021-07-23 11:07:11.331 algo-1:25 INFO hook.py:591] name:distilbert.transformer.layer.2.attention.k_lin.bias count_params:768\u001b[0m\n",
      "\u001b[34m[2021-07-23 11:07:11.331 algo-1:25 INFO hook.py:591] name:distilbert.transformer.layer.2.attention.v_lin.weight count_params:589824\u001b[0m\n",
      "\u001b[34m[2021-07-23 11:07:11.331 algo-1:25 INFO hook.py:591] name:distilbert.transformer.layer.2.attention.v_lin.bias count_params:768\u001b[0m\n",
      "\u001b[34m[2021-07-23 11:07:11.331 algo-1:25 INFO hook.py:591] name:distilbert.transformer.layer.2.attention.out_lin.weight count_params:589824\u001b[0m\n",
      "\u001b[34m[2021-07-23 11:07:11.331 algo-1:25 INFO hook.py:591] name:distilbert.transformer.layer.2.attention.out_lin.bias count_params:768\u001b[0m\n",
      "\u001b[34m[2021-07-23 11:07:11.331 algo-1:25 INFO hook.py:591] name:distilbert.transformer.layer.2.sa_layer_norm.weight count_params:768\u001b[0m\n",
      "\u001b[34m[2021-07-23 11:07:11.331 algo-1:25 INFO hook.py:591] name:distilbert.transformer.layer.2.sa_layer_norm.bias count_params:768\u001b[0m\n",
      "\u001b[34m[2021-07-23 11:07:11.331 algo-1:25 INFO hook.py:591] name:distilbert.transformer.layer.2.ffn.lin1.weight count_params:2359296\u001b[0m\n",
      "\u001b[34m[2021-07-23 11:07:11.332 algo-1:25 INFO hook.py:591] name:distilbert.transformer.layer.2.ffn.lin1.bias count_params:3072\u001b[0m\n",
      "\u001b[34m[2021-07-23 11:07:11.332 algo-1:25 INFO hook.py:591] name:distilbert.transformer.layer.2.ffn.lin2.weight count_params:2359296\u001b[0m\n",
      "\u001b[34m[2021-07-23 11:07:11.332 algo-1:25 INFO hook.py:591] name:distilbert.transformer.layer.2.ffn.lin2.bias count_params:768\u001b[0m\n",
      "\u001b[34m[2021-07-23 11:07:11.332 algo-1:25 INFO hook.py:591] name:distilbert.transformer.layer.2.output_layer_norm.weight count_params:768\u001b[0m\n",
      "\u001b[34m[2021-07-23 11:07:11.332 algo-1:25 INFO hook.py:591] name:distilbert.transformer.layer.2.output_layer_norm.bias count_params:768\u001b[0m\n",
      "\u001b[34m[2021-07-23 11:07:11.332 algo-1:25 INFO hook.py:591] name:distilbert.transformer.layer.3.attention.q_lin.weight count_params:589824\u001b[0m\n",
      "\u001b[34m[2021-07-23 11:07:11.332 algo-1:25 INFO hook.py:591] name:distilbert.transformer.layer.3.attention.q_lin.bias count_params:768\u001b[0m\n",
      "\u001b[34m[2021-07-23 11:07:11.332 algo-1:25 INFO hook.py:591] name:distilbert.transformer.layer.3.attention.k_lin.weight count_params:589824\u001b[0m\n",
      "\u001b[34m[2021-07-23 11:07:11.333 algo-1:25 INFO hook.py:591] name:distilbert.transformer.layer.3.attention.k_lin.bias count_params:768\u001b[0m\n",
      "\u001b[34m[2021-07-23 11:07:11.333 algo-1:25 INFO hook.py:591] name:distilbert.transformer.layer.3.attention.v_lin.weight count_params:589824\u001b[0m\n",
      "\u001b[34m[2021-07-23 11:07:11.333 algo-1:25 INFO hook.py:591] name:distilbert.transformer.layer.3.attention.v_lin.bias count_params:768\u001b[0m\n",
      "\u001b[34m[2021-07-23 11:07:11.333 algo-1:25 INFO hook.py:591] name:distilbert.transformer.layer.3.attention.out_lin.weight count_params:589824\u001b[0m\n",
      "\u001b[34m[2021-07-23 11:07:11.333 algo-1:25 INFO hook.py:591] name:distilbert.transformer.layer.3.attention.out_lin.bias count_params:768\u001b[0m\n",
      "\u001b[34m[2021-07-23 11:07:11.333 algo-1:25 INFO hook.py:591] name:distilbert.transformer.layer.3.sa_layer_norm.weight count_params:768\u001b[0m\n",
      "\u001b[34m[2021-07-23 11:07:11.333 algo-1:25 INFO hook.py:591] name:distilbert.transformer.layer.3.sa_layer_norm.bias count_params:768\u001b[0m\n",
      "\u001b[34m[2021-07-23 11:07:11.333 algo-1:25 INFO hook.py:591] name:distilbert.transformer.layer.3.ffn.lin1.weight count_params:2359296\u001b[0m\n",
      "\u001b[34m[2021-07-23 11:07:11.333 algo-1:25 INFO hook.py:591] name:distilbert.transformer.layer.3.ffn.lin1.bias count_params:3072\u001b[0m\n",
      "\u001b[34m[2021-07-23 11:07:11.333 algo-1:25 INFO hook.py:591] name:distilbert.transformer.layer.3.ffn.lin2.weight count_params:2359296\u001b[0m\n",
      "\u001b[34m[2021-07-23 11:07:11.334 algo-1:25 INFO hook.py:591] name:distilbert.transformer.layer.3.ffn.lin2.bias count_params:768\u001b[0m\n",
      "\u001b[34m[2021-07-23 11:07:11.334 algo-1:25 INFO hook.py:591] name:distilbert.transformer.layer.3.output_layer_norm.weight count_params:768\u001b[0m\n",
      "\u001b[34m[2021-07-23 11:07:11.334 algo-1:25 INFO hook.py:591] name:distilbert.transformer.layer.3.output_layer_norm.bias count_params:768\u001b[0m\n",
      "\u001b[34m[2021-07-23 11:07:11.334 algo-1:25 INFO hook.py:591] name:distilbert.transformer.layer.4.attention.q_lin.weight count_params:589824\u001b[0m\n",
      "\u001b[34m[2021-07-23 11:07:11.334 algo-1:25 INFO hook.py:591] name:distilbert.transformer.layer.4.attention.q_lin.bias count_params:768\u001b[0m\n",
      "\u001b[34m[2021-07-23 11:07:11.334 algo-1:25 INFO hook.py:591] name:distilbert.transformer.layer.4.attention.k_lin.weight count_params:589824\u001b[0m\n",
      "\u001b[34m[2021-07-23 11:07:11.334 algo-1:25 INFO hook.py:591] name:distilbert.transformer.layer.4.attention.k_lin.bias count_params:768\u001b[0m\n",
      "\u001b[34m[2021-07-23 11:07:11.334 algo-1:25 INFO hook.py:591] name:distilbert.transformer.layer.4.attention.v_lin.weight count_params:589824\u001b[0m\n",
      "\u001b[34m[2021-07-23 11:07:11.334 algo-1:25 INFO hook.py:591] name:distilbert.transformer.layer.4.attention.v_lin.bias count_params:768\u001b[0m\n",
      "\u001b[34m[2021-07-23 11:07:11.335 algo-1:25 INFO hook.py:591] name:distilbert.transformer.layer.4.attention.out_lin.weight count_params:589824\u001b[0m\n",
      "\u001b[34m[2021-07-23 11:07:11.335 algo-1:25 INFO hook.py:591] name:distilbert.transformer.layer.4.attention.out_lin.bias count_params:768\u001b[0m\n",
      "\u001b[34m[2021-07-23 11:07:11.335 algo-1:25 INFO hook.py:591] name:distilbert.transformer.layer.4.sa_layer_norm.weight count_params:768\u001b[0m\n",
      "\u001b[34m[2021-07-23 11:07:11.335 algo-1:25 INFO hook.py:591] name:distilbert.transformer.layer.4.sa_layer_norm.bias count_params:768\u001b[0m\n",
      "\u001b[34m[2021-07-23 11:07:11.335 algo-1:25 INFO hook.py:591] name:distilbert.transformer.layer.4.ffn.lin1.weight count_params:2359296\u001b[0m\n",
      "\u001b[34m[2021-07-23 11:07:11.335 algo-1:25 INFO hook.py:591] name:distilbert.transformer.layer.4.ffn.lin1.bias count_params:3072\u001b[0m\n",
      "\u001b[34m[2021-07-23 11:07:11.335 algo-1:25 INFO hook.py:591] name:distilbert.transformer.layer.4.ffn.lin2.weight count_params:2359296\u001b[0m\n",
      "\u001b[34m[2021-07-23 11:07:11.335 algo-1:25 INFO hook.py:591] name:distilbert.transformer.layer.4.ffn.lin2.bias count_params:768\u001b[0m\n",
      "\u001b[34m[2021-07-23 11:07:11.335 algo-1:25 INFO hook.py:591] name:distilbert.transformer.layer.4.output_layer_norm.weight count_params:768\u001b[0m\n",
      "\u001b[34m[2021-07-23 11:07:11.336 algo-1:25 INFO hook.py:591] name:distilbert.transformer.layer.4.output_layer_norm.bias count_params:768\u001b[0m\n",
      "\u001b[34m[2021-07-23 11:07:11.336 algo-1:25 INFO hook.py:591] name:distilbert.transformer.layer.5.attention.q_lin.weight count_params:589824\u001b[0m\n",
      "\u001b[34m[2021-07-23 11:07:11.336 algo-1:25 INFO hook.py:591] name:distilbert.transformer.layer.5.attention.q_lin.bias count_params:768\u001b[0m\n",
      "\u001b[34m[2021-07-23 11:07:11.336 algo-1:25 INFO hook.py:591] name:distilbert.transformer.layer.5.attention.k_lin.weight count_params:589824\u001b[0m\n",
      "\u001b[34m[2021-07-23 11:07:11.336 algo-1:25 INFO hook.py:591] name:distilbert.transformer.layer.5.attention.k_lin.bias count_params:768\u001b[0m\n",
      "\u001b[34m[2021-07-23 11:07:11.336 algo-1:25 INFO hook.py:591] name:distilbert.transformer.layer.5.attention.v_lin.weight count_params:589824\u001b[0m\n",
      "\u001b[34m[2021-07-23 11:07:11.336 algo-1:25 INFO hook.py:591] name:distilbert.transformer.layer.5.attention.v_lin.bias count_params:768\u001b[0m\n",
      "\u001b[34m[2021-07-23 11:07:11.336 algo-1:25 INFO hook.py:591] name:distilbert.transformer.layer.5.attention.out_lin.weight count_params:589824\u001b[0m\n",
      "\u001b[34m[2021-07-23 11:07:11.337 algo-1:25 INFO hook.py:591] name:distilbert.transformer.layer.5.attention.out_lin.bias count_params:768\u001b[0m\n",
      "\u001b[34m[2021-07-23 11:07:11.337 algo-1:25 INFO hook.py:591] name:distilbert.transformer.layer.5.sa_layer_norm.weight count_params:768\u001b[0m\n",
      "\u001b[34m[2021-07-23 11:07:11.337 algo-1:25 INFO hook.py:591] name:distilbert.transformer.layer.5.sa_layer_norm.bias count_params:768\u001b[0m\n",
      "\u001b[34m[2021-07-23 11:07:11.337 algo-1:25 INFO hook.py:591] name:distilbert.transformer.layer.5.ffn.lin1.weight count_params:2359296\u001b[0m\n",
      "\u001b[34m[2021-07-23 11:07:11.337 algo-1:25 INFO hook.py:591] name:distilbert.transformer.layer.5.ffn.lin1.bias count_params:3072\u001b[0m\n",
      "\u001b[34m[2021-07-23 11:07:11.337 algo-1:25 INFO hook.py:591] name:distilbert.transformer.layer.5.ffn.lin2.weight count_params:2359296\u001b[0m\n",
      "\u001b[34m[2021-07-23 11:07:11.337 algo-1:25 INFO hook.py:591] name:distilbert.transformer.layer.5.ffn.lin2.bias count_params:768\u001b[0m\n",
      "\u001b[34m[2021-07-23 11:07:11.337 algo-1:25 INFO hook.py:591] name:distilbert.transformer.layer.5.output_layer_norm.weight count_params:768\u001b[0m\n",
      "\u001b[34m[2021-07-23 11:07:11.337 algo-1:25 INFO hook.py:591] name:distilbert.transformer.layer.5.output_layer_norm.bias count_params:768\u001b[0m\n",
      "\u001b[34m[2021-07-23 11:07:11.338 algo-1:25 INFO hook.py:591] name:pre_classifier.weight count_params:589824\u001b[0m\n",
      "\u001b[34m[2021-07-23 11:07:11.338 algo-1:25 INFO hook.py:591] name:pre_classifier.bias count_params:768\u001b[0m\n",
      "\u001b[34m[2021-07-23 11:07:11.338 algo-1:25 INFO hook.py:591] name:classifier.weight count_params:7680\u001b[0m\n",
      "\u001b[34m[2021-07-23 11:07:11.338 algo-1:25 INFO hook.py:591] name:classifier.bias count_params:10\u001b[0m\n",
      "\u001b[34m[2021-07-23 11:07:11.338 algo-1:25 INFO hook.py:593] Total Trainable Params: 66961162\u001b[0m\n",
      "\u001b[34m[2021-07-23 11:07:11.338 algo-1:25 INFO hook.py:425] Monitoring the collections: losses\u001b[0m\n",
      "\u001b[34m[2021-07-23 11:07:11.341 algo-1:25 INFO hook.py:488] Hook is writing from the hook with pid: 25\n",
      "\u001b[0m\n",
      "\u001b[34m{'eval_loss': 0.958066463470459, 'eval_runtime': 0.469, 'eval_samples_per_second': 136.474, 'epoch': 1.0}\u001b[0m\n",
      "\u001b[34m{'eval_loss': 0.11628507077693939, 'eval_runtime': 0.4794, 'eval_samples_per_second': 133.492, 'epoch': 2.0}\u001b[0m\n",
      "\u001b[34m{'eval_loss': 0.01947549358010292, 'eval_runtime': 0.4744, 'eval_samples_per_second': 134.91, 'epoch': 3.0}\u001b[0m\n",
      "\u001b[34m{'eval_loss': 0.01361941359937191, 'eval_runtime': 0.4553, 'eval_samples_per_second': 140.556, 'epoch': 4.0}\u001b[0m\n",
      "\u001b[34m{'eval_loss': 0.008291918784379959, 'eval_runtime': 0.4761, 'eval_samples_per_second': 134.42, 'epoch': 5.0}\u001b[0m\n",
      "\u001b[34m{'eval_loss': 0.005803300999104977, 'eval_runtime': 0.4744, 'eval_samples_per_second': 134.903, 'epoch': 6.0}\u001b[0m\n",
      "\u001b[34m{'eval_loss': 0.0049275499768555164, 'eval_runtime': 0.4491, 'eval_samples_per_second': 142.513, 'epoch': 7.0}\u001b[0m\n",
      "\u001b[34m{'loss': 0.3083, 'learning_rate': 3.0468750000000002e-05, 'epoch': 7.81}\u001b[0m\n",
      "\u001b[34m{'eval_loss': 0.004214453510940075, 'eval_runtime': 0.5476, 'eval_samples_per_second': 116.87, 'epoch': 8.0}\u001b[0m\n",
      "\u001b[34m{'eval_loss': 0.0035153243225067854, 'eval_runtime': 0.5157, 'eval_samples_per_second': 124.1, 'epoch': 9.0}\u001b[0m\n",
      "\u001b[34m{'eval_loss': 0.0031095966696739197, 'eval_runtime': 0.5053, 'eval_samples_per_second': 126.647, 'epoch': 10.0}\u001b[0m\n",
      "\u001b[34m{'eval_loss': 0.0025677476078271866, 'eval_runtime': 0.4853, 'eval_samples_per_second': 131.867, 'epoch': 11.0}\u001b[0m\n",
      "\u001b[34m{'eval_loss': 0.0024355044588446617, 'eval_runtime': 0.4758, 'eval_samples_per_second': 134.499, 'epoch': 12.0}\u001b[0m\n",
      "\u001b[34m{'eval_loss': 0.0023996380623430014, 'eval_runtime': 0.4804, 'eval_samples_per_second': 133.236, 'epoch': 13.0}\u001b[0m\n",
      "\u001b[34m{'eval_loss': 0.0021253852173686028, 'eval_runtime': 0.5382, 'eval_samples_per_second': 118.925, 'epoch': 14.0}\u001b[0m\n",
      "\u001b[34m{'eval_loss': 0.0020137401297688484, 'eval_runtime': 0.4737, 'eval_samples_per_second': 135.121, 'epoch': 15.0}\u001b[0m\n",
      "\u001b[34m{'loss': 0.0017, 'learning_rate': 1.09375e-05, 'epoch': 15.62}\u001b[0m\n",
      "\u001b[34m{'eval_loss': 0.0019008928211405873, 'eval_runtime': 0.4666, 'eval_samples_per_second': 137.175, 'epoch': 16.0}\u001b[0m\n",
      "\u001b[34m{'eval_loss': 0.0017684937920421362, 'eval_runtime': 0.538, 'eval_samples_per_second': 118.954, 'epoch': 17.0}\u001b[0m\n",
      "\u001b[34m{'eval_loss': 0.0017691911198198795, 'eval_runtime': 0.5461, 'eval_samples_per_second': 117.203, 'epoch': 18.0}\u001b[0m\n",
      "\u001b[34m{'eval_loss': 0.0017437008209526539, 'eval_runtime': 0.5023, 'eval_samples_per_second': 127.41, 'epoch': 19.0}\u001b[0m\n",
      "\u001b[34m{'eval_loss': 0.001732175936922431, 'eval_runtime': 0.5453, 'eval_samples_per_second': 117.367, 'epoch': 20.0}\u001b[0m\n",
      "\u001b[34m{'train_runtime': 193.969, 'train_samples_per_second': 6.599, 'epoch': 20.0}\u001b[0m\n",
      "\u001b[34m2021-07-23 11:10:24,836 - __main__ - INFO - Stop training...\u001b[0m\n",
      "\u001b[34m2021-07-23 11:10:24,836 - __main__ - INFO - Saving model...\u001b[0m\n",
      "\u001b[34m#015Downloading:   0%|          | 0.00/232k [00:00<?, ?B/s]#015Downloading:  19%|█▉        | 45.1k/232k [00:00<00:00, 187kB/s]#015Downloading:  87%|████████▋ | 201k/232k [00:00<00:00, 238kB/s] #015Downloading: 100%|██████████| 232k/232k [00:00<00:00, 477kB/s]\u001b[0m\n",
      "\u001b[34m#015Downloading:   0%|          | 0.00/466k [00:00<?, ?B/s]#015Downloading:  10%|▉         | 45.1k/466k [00:00<00:02, 187kB/s]#015Downloading:  45%|████▍     | 209k/466k [00:00<00:01, 239kB/s] #015Downloading:  83%|████████▎ | 389k/466k [00:00<00:00, 300kB/s]#015Downloading: 100%|██████████| 466k/466k [00:00<00:00, 639kB/s]\u001b[0m\n",
      "\u001b[34m#015Downloading:   0%|          | 0.00/28.0 [00:00<?, ?B/s]#015Downloading: 100%|██████████| 28.0/28.0 [00:00<00:00, 25.8kB/s]\u001b[0m\n",
      "\u001b[34m#015Downloading:   0%|          | 0.00/442 [00:00<?, ?B/s]#015Downloading: 100%|██████████| 442/442 [00:00<00:00, 429kB/s]\u001b[0m\n",
      "\u001b[34m#015Downloading:   0%|          | 0.00/268M [00:00<?, ?B/s]#015Downloading:   2%|▏         | 4.54M/268M [00:00<00:05, 45.4MB/s]#015Downloading:   3%|▎         | 9.02M/268M [00:00<00:05, 45.2MB/s]#015Downloading:   5%|▌         | 14.1M/268M [00:00<00:05, 46.8MB/s]#015Downloading:   7%|▋         | 19.4M/268M [00:00<00:05, 48.4MB/s]#015Downloading:   9%|▉         | 24.7M/268M [00:00<00:04, 49.9MB/s]#015Downloading:  11%|█         | 30.1M/268M [00:00<00:04, 50.9MB/s]#015Downloading:  13%|█▎        | 35.5M/268M [00:00<00:04, 51.9MB/s]#015Downloading:  15%|█▌        | 40.4M/268M [00:00<00:04, 50.8MB/s]#015Downloading:  17%|█▋        | 45.7M/268M [00:00<00:04, 51.5MB/s]#015Downloading:  19%|█▉        | 51.0M/268M [00:01<00:04, 51.9MB/s]#015Downloading:  21%|██        | 56.3M/268M [00:01<00:04, 52.3MB/s]#015Downloading:  23%|██▎       | 61.5M/268M [00:01<00:03, 52.0MB/s]#015Downloading:  25%|██▍       | 66.8M/268M [00:01<00:03, 52.3MB/s]#015Downloading:  27%|██▋       | 72.1M/268M [00:01<00:03, 52.6MB/s]#015Downloading:  29%|██▉       | 77.4M/268M [00:01<00:03, 52.8MB/s]#015Downloading:  31%|███       | 82.7M/268M [00:01<00:03, 52.9MB/s]#015Downloading:  33%|███▎      | 88.1M/268M [00:01<00:03, 53.0MB/s]#015Downloading:  35%|███▍      | 93.4M/268M [00:01<00:03, 53.0MB/s]#015Downloading:  37%|███▋      | 98.7M/268M [00:01<00:03, 53.0MB/s]#015Downloading:  39%|███▉      | 104M/268M [00:02<00:03, 53.1MB/s] #015Downloading:  41%|████      | 109M/268M [00:02<00:02, 53.1MB/s]#015Downloading:  43%|████▎     | 115M/268M [00:02<00:02, 52.7MB/s]#015Downloading:  45%|████▍     | 120M/268M [00:02<00:02, 52.8MB/s]#015Downloading:  47%|████▋     | 125M/268M [00:02<00:02, 53.1MB/s]#015Downloading:  49%|████▉     | 131M/268M [00:02<00:02, 53.2MB/s]#015Downloading:  51%|█████     | 136M/268M [00:02<00:02, 53.1MB/s]#015Downloading:  53%|█████▎    | 141M/268M [00:02<00:02, 53.1MB/s]#015Downloading:  55%|█████▍    | 147M/268M [00:02<00:02, 52.3MB/s]#015Downloading:  57%|█████▋    | 152M/268M [00:02<00:02, 49.7MB/s]#015Downloading:  59%|█████▊    | 157M/268M [00:03<00:02, 48.4MB/s]#015Downloading:  61%|██████    | 162M/268M [00:03<00:02, 49.7MB/s]#015Downloading:  62%|██████▏   | 167M/268M [00:03<00:02, 49.3MB/s]#015Downloading:  64%|██████▍   | 172M/268M [00:03<00:01, 49.7MB/s]#015Downloading:  66%|██████▋   | 178M/268M [00:03<00:01, 50.5MB/s]#015Downloading:  68%|██████▊   | 183M/268M [00:03<00:01, 51.3MB/s]#015Downloading:  70%|███████   | 188M/268M [00:03<00:01, 51.8MB/s]#015Downloading:  72%|███████▏  | 194M/268M [00:03<00:01, 51.9MB/s]#015Downloading:  74%|███████▍  | 199M/268M [00:03<00:01, 51.6MB/s]#015Downloading:  76%|███████▌  | 204M/268M [00:03<00:01, 51.0MB/s]#015Downloading:  78%|███████▊  | 209M/268M [00:04<00:01, 50.5MB/s]#015Downloading:  80%|███████▉  | 214M/268M [00:04<00:01, 51.2MB/s]#015Downloading:  82%|████████▏ | 219M/268M [00:04<00:00, 50.8MB/s]#015Downloading:  84%|████████▍ | 225M/268M [00:04<00:00, 50.9MB/s]#015Downloading:  86%|████████▌ | 230M/268M [00:04<00:00, 51.2MB/s]#015Downloading:  88%|████████▊ | 235M/268M [00:04<00:00, 51.6MB/s]#015Downloading:  90%|████████▉ | 240M/268M [00:04<00:00, 50.7MB/s]#015Downloading:  92%|█████████▏| 245M/268M [00:04<00:00, 50.9MB/s]#015Downloading:  93%|█████████▎| 250M/268M [00:04<00:00, 50.7MB/s]#015Downloading:  95%|█████████▌| 255M/268M [00:04<00:00, 50.7MB/s]#015Downloading:  97%|█████████▋| 261M/268M [00:05<00:00, 49.5MB/s]#015Downloading:  99%|█████████▉| 265M/268M [00:05<00:00, 49.4MB/s]#015Downloading: 100%|██████████| 268M/268M [00:05<00:00, 51.4MB/s]\u001b[0m\n",
      "\u001b[34mSome weights of the model checkpoint at distilbert-base-uncased were not used when initializing DistilBertForSequenceClassification: ['vocab_projector.bias', 'vocab_transform.bias', 'vocab_transform.weight', 'vocab_layer_norm.weight', 'vocab_layer_norm.bias', 'vocab_projector.weight']\u001b[0m\n",
      "\u001b[34m- This IS expected if you are initializing DistilBertForSequenceClassification from the checkpoint of a model trained on another task or with another architecture (e.g. initializing a BertForSequenceClassification model from a BertForPreTraining model).\u001b[0m\n",
      "\u001b[34m- This IS NOT expected if you are initializing DistilBertForSequenceClassification from the checkpoint of a model that you expect to be exactly identical (initializing a BertForSequenceClassification model from a BertForSequenceClassification model).\u001b[0m\n",
      "\u001b[34mSome weights of DistilBertForSequenceClassification were not initialized from the model checkpoint at distilbert-base-uncased and are newly initialized: ['pre_classifier.bias', 'classifier.bias', 'classifier.weight', 'pre_classifier.weight']\u001b[0m\n",
      "\u001b[34mYou should probably TRAIN this model on a down-stream task to be able to use it for predictions and inference.\u001b[0m\n",
      "\u001b[34m#015  0%|          | 0/1280 [00:00<?, ?it/s]#015  0%|          | 1/1280 [00:02<49:38,  2.33s/it]#015  0%|          | 2/1280 [00:02<35:45,  1.68s/it]#015  0%|          | 3/1280 [00:02<25:58,  1.22s/it]#015  0%|          | 4/1280 [00:02<19:10,  1.11it/s]#015  0%|          | 5/1280 [00:02<14:30,  1.46it/s]#015  0%|          | 6/1280 [00:03<11:14,  1.89it/s]#015  1%|          | 7/1280 [00:03<09:01,  2.35it/s]#015  1%|          | 8/1280 [00:03<07:18,  2.90it/s]#015  1%|          | 9/1280 [00:03<06:08,  3.45it/s]#015  1%|          | 10/1280 [00:03<05:20,  3.96it/s]#015  1%|          | 11/1280 [00:03<04:44,  4.46it/s]#015  1%|          | 12/1280 [00:04<04:19,  4.89it/s]#015  1%|          | 13/1280 [00:04<03:51,  5.46it/s]#015  1%|          | 14/1280 [00:04<03:35,  5.89it/s]#015  1%|          | 15/1280 [00:04<03:24,  6.19it/s]#015  1%|▏         | 16/1280 [00:04<03:16,  6.43it/s]#015  1%|▏         | 17/1280 [00:04<03:11,  6.60it/s]#015  1%|▏         | 18/1280 [00:04<03:07,  6.72it/s]#015  1%|▏         | 19/1280 [00:05<03:04,  6.85it/s]#015  2%|▏         | 20/1280 [00:05<02:58,  7.05it/s]#015  2%|▏         | 21/1280 [00:05<03:00,  6.97it/s]#015  2%|▏         | 22/1280 [00:05<02:56,  7.13it/s]#015  2%|▏         | 23/1280 [00:05<02:53,  7.23it/s]#015  2%|▏         | 24/1280 [00:05<03:08,  6.68it/s]#015  2%|▏         | 25/1280 [00:05<03:04,  6.82it/s]#015  2%|▏         | 26/1280 [00:06<03:03,  6.82it/s]#015  2%|▏         | 27/1280 [00:06<02:59,  6.97it/s]#015  2%|▏         | 28/1280 [00:06<03:01,  6.89it/s]#015  2%|▏         | 29/1280 [00:06<02:56,  7.07it/s]#015  2%|▏         | 30/1280 [00:06<02:54,  7.17it/s]#015  2%|▏         | 31/1280 [00:06<02:58,  7.00it/s]#015  2%|▎         | 32/1280 [00:06<02:56,  7.06it/s]#015  3%|▎         | 33/1280 [00:07<02:55,  7.09it/s]#015  3%|▎         | 34/1280 [00:07<02:53,  7.19it/s]#015  3%|▎         | 35/1280 [00:07<02:55,  7.08it/s]#015  3%|▎         | 36/1280 [00:07<02:54,  7.15it/s]#015  3%|▎         | 37/1280 [00:07<02:54,  7.13it/s]#015  3%|▎         | 38/1280 [00:07<02:57,  6.99it/s]#015  3%|▎         | 39/1280 [00:07<02:58,  6.95it/s]#015  3%|▎         | 40/1280 [00:08<02:54,  7.09it/s]#015  3%|▎         | 41/1280 [00:08<02:53,  7.13it/s]#015  3%|▎         | 42/1280 [00:08<02:58,  6.94it/s]#015  3%|▎         | 43/1280 [00:08<03:01,  6.82it/s]#015  3%|▎         | 44/1280 [00:08<03:08,  6.56it/s]#015  4%|▎         | 45/1280 [00:08<03:06,  6.63it/s]#015  4%|▎         | 46/1280 [00:08<03:01,  6.82it/s]#015  4%|▎         | 47/1280 [00:09<03:06,  6.60it/s]#015  4%|▍         | 48/1280 [00:09<03:07,  6.59it/s]#015  4%|▍         | 49/1280 [00:09<03:08,  6.53it/s]#015  4%|▍         | 50/1280 [00:09<03:03,  6.69it/s]#015  4%|▍         | 51/1280 [00:09<03:00,  6.81it/s]#015  4%|▍         | 52/1280 [00:09<02:57,  6.92it/s]#015  4%|▍         | 53/1280 [00:10<02:55,  7.00it/s]#015  4%|▍         | 54/1280 [00:10<02:54,  7.02it/s]#015  4%|▍         | 55/1280 [00:10<02:55,  6.98it/s]#015  4%|▍         | 56/1280 [00:10<03:05,  6.61it/s]#015  4%|▍         | 57/1280 [00:10<02:58,  6.86it/s]#015  5%|▍         | 58/1280 [00:10<02:52,  7.07it/s]#015  5%|▍         | 59/1280 [00:10<02:56,  6.91it/s]#015  5%|▍         | 60/1280 [00:11<02:51,  7.12it/s]#015  5%|▍         | 61/1280 [00:11<02:50,  7.14it/s]#015  5%|▍         | 62/1280 [00:11<02:49,  7.18it/s]#015  5%|▍         | 63/1280 [00:11<02:51,  7.10it/s]#015  5%|▌         | 64/1280 [00:11<02:50,  7.12it/s]\u001b[0m\n",
      "\u001b[34m#015  0%|          | 0/16 [00:00<?, ?it/s]#033[A\u001b[0m\n",
      "\u001b[34m#015 31%|███▏      | 5/16 [00:00<00:00, 43.99it/s]#033[A\u001b[0m\n",
      "\u001b[34m#015 56%|█████▋    | 9/16 [00:00<00:00, 40.98it/s]#033[A\u001b[0m\n",
      "\u001b[34m#015 81%|████████▏ | 13/16 [00:00<00:00, 38.05it/s]#033[A#015                                                 #015\u001b[0m\n",
      "\u001b[34m#015                                               #015#033[A#015  5%|▌         | 64/1280 [00:12<02:50,  7.12it/s]\u001b[0m\n",
      "\u001b[34m#015100%|██████████| 16/16 [00:00<00:00, 38.05it/s]#033[A\u001b[0m\n",
      "\u001b[34m#015                                               #033[A#015  5%|▌         | 65/1280 [00:12<05:44,  3.53it/s]#015  5%|▌         | 66/1280 [00:12<04:50,  4.17it/s]#015  5%|▌         | 67/1280 [00:12<04:17,  4.71it/s]#015  5%|▌         | 68/1280 [00:12<03:53,  5.18it/s]#015  5%|▌         | 69/1280 [00:12<03:32,  5.71it/s]#015  5%|▌         | 70/1280 [00:12<03:18,  6.09it/s]#015  6%|▌         | 71/1280 [00:13<03:11,  6.32it/s]#015  6%|▌         | 72/1280 [00:13<03:01,  6.65it/s]#015  6%|▌         | 73/1280 [00:13<02:55,  6.88it/s]#015  6%|▌         | 74/1280 [00:13<02:55,  6.88it/s]#015  6%|▌         | 75/1280 [00:13<03:02,  6.62it/s]#015  6%|▌         | 76/1280 [00:13<03:04,  6.51it/s]#015  6%|▌         | 77/1280 [00:13<03:01,  6.62it/s]#015  6%|▌         | 78/1280 [00:14<02:58,  6.75it/s]#015  6%|▌         | 79/1280 [00:14<02:57,  6.78it/s]#015  6%|▋         | 80/1280 [00:14<02:55,  6.84it/s]#015  6%|▋         | 81/1280 [00:14<02:56,  6.79it/s]#015  6%|▋         | 82/1280 [00:14<02:54,  6.86it/s]#015  6%|▋         | 83/1280 [00:14<02:54,  6.86it/s]#015  7%|▋         | 84/1280 [00:14<02:54,  6.84it/s]#015  7%|▋         | 85/1280 [00:15<02:51,  6.96it/s]#015  7%|▋         | 86/1280 [00:15<02:49,  7.02it/s]#015  7%|▋         | 87/1280 [00:15<02:49,  7.04it/s]#015  7%|▋         | 88/1280 [00:15<02:50,  7.00it/s]#015  7%|▋         | 89/1280 [00:15<02:48,  7.09it/s]#015  7%|▋         | 90/1280 [00:15<02:46,  7.15it/s]#015  7%|▋         | 91/1280 [00:15<02:46,  7.13it/s]#015  7%|▋         | 92/1280 [00:16<02:51,  6.95it/s]#015  7%|▋         | 93/1280 [00:16<02:49,  7.00it/s]#015  7%|▋         | 94/1280 [00:16<02:50,  6.97it/s]#015  7%|▋         | 95/1280 [00:16<02:55,  6.76it/s]#015  8%|▊         | 96/1280 [00:16<02:55,  6.76it/s]#015  8%|▊         | 97/1280 [00:16<02:51,  6.90it/s]#015  8%|▊         | 98/1280 [00:16<02:48,  7.01it/s]#015  8%|▊         | 99/1280 [00:17<02:49,  6.99it/s]#015  8%|▊         | 100/1280 [00:17<02:48,  7.00it/s]#015  8%|▊         | 101/1280 [00:17<02:48,  7.01it/s]#015  8%|▊         | 102/1280 [00:17<02:49,  6.94it/s]#015  8%|▊         | 103/1280 [00:17<02:47,  7.01it/s]#015  8%|▊         | 104/1280 [00:17<02:48,  6.99it/s]#015  8%|▊         | 105/1280 [00:17<02:52,  6.83it/s]#015  8%|▊         | 106/1280 [00:18<02:50,  6.88it/s]#015  8%|▊         | 107/1280 [00:18<02:46,  7.05it/s]#015  8%|▊         | 108/1280 [00:18<02:44,  7.11it/s]#015  9%|▊         | 109/1280 [00:18<02:47,  6.98it/s]#015  9%|▊         | 110/1280 [00:18<02:49,  6.91it/s]#015  9%|▊         | 111/1280 [00:18<02:48,  6.92it/s]#015  9%|▉         | 112/1280 [00:18<02:57,  6.56it/s]#015  9%|▉         | 113/1280 [00:19<02:55,  6.64it/s]#015  9%|▉         | 114/1280 [00:19<03:01,  6.43it/s]#015  9%|▉         | 115/1280 [00:19<03:02,  6.38it/s]#015  9%|▉         | 116/1280 [00:19<03:00,  6.45it/s]#015  9%|▉         | 117/1280 [00:19<02:55,  6.62it/s]#015  9%|▉         | 118/1280 [00:19<02:51,  6.78it/s]#015  9%|▉         | 119/1280 [00:20<02:46,  6.96it/s]#015  9%|▉         | 120/1280 [00:20<02:44,  7.07it/s]#015  9%|▉         | 121/1280 [00:20<02:42,  7.14it/s]#015 10%|▉         | 122/1280 [00:20<02:41,  7.18it/s]#015 10%|▉         | 123/1280 [00:20<02:42,  7.12it/s]#015 10%|▉         | 124/1280 [00:20<02:41,  7.15it/s]#015 10%|▉         | 125/1280 [00:20<02:41,  7.16it/s]#015 10%|▉         | 126/1280 [00:20<02:40,  7.19it/s]#015 10%|▉         | 127/1280 [00:21<02:52,  6.70it/s]#015 10%|█         | 128/1280 [00:21<02:48,  6.82it/s]\u001b[0m\n",
      "\u001b[34m#015  0%|          | 0/16 [00:00<?, ?it/s]#033[A\u001b[0m\n",
      "\u001b[34m#015 31%|███▏      | 5/16 [00:00<00:00, 40.89it/s]#033[A\u001b[0m\n",
      "\u001b[34m#015 56%|█████▋    | 9/16 [00:00<00:00, 38.76it/s]#033[A\u001b[0m\n",
      "\u001b[34m#015 81%|████████▏ | 13/16 [00:00<00:00, 37.94it/s]#033[A#015                                                  #015\u001b[0m\n",
      "\u001b[34m2021-07-23 11:10:26,286 sagemaker-training-toolkit INFO     Reporting training SUCCESS\u001b[0m\n",
      "\u001b[34m#015                                               #015#033[A#015 10%|█         | 128/1280 [00:21<02:48,  6.82it/s]\u001b[0m\n",
      "\u001b[34m#015100%|██████████| 16/16 [00:00<00:00, 37.94it/s]#033[A\u001b[0m\n",
      "\u001b[34m#015                                               #033[A#015 10%|█         | 129/1280 [00:21<05:39,  3.39it/s]#015 10%|█         | 130/1280 [00:22<04:45,  4.03it/s]#015 10%|█         | 131/1280 [00:22<04:08,  4.63it/s]#015 10%|█         | 132/1280 [00:22<03:41,  5.18it/s]#015 10%|█         | 133/1280 [00:22<03:23,  5.64it/s]#015 10%|█         | 134/1280 [00:22<03:10,  6.01it/s]#015 11%|█         | 135/1280 [00:22<02:59,  6.38it/s]#015 11%|█         | 136/1280 [00:22<02:51,  6.68it/s]#015 11%|█         | 137/1280 [00:23<02:48,  6.79it/s]#015 11%|█         | 138/1280 [00:23<02:42,  7.04it/s]#015 11%|█         | 139/1280 [00:23<02:38,  7.21it/s]#015 11%|█         | 140/1280 [00:23<02:38,  7.21it/s]#015 11%|█         | 141/1280 [00:23<02:38,  7.19it/s]#015 11%|█         | 142/1280 [00:23<02:34,  7.39it/s]#015 11%|█         | 143/1280 [00:23<02:29,  7.60it/s]#015 11%|█▏        | 144/1280 [00:23<02:29,  7.60it/s]#015 11%|█▏        | 145/1280 [00:24<02:34,  7.36it/s]#015 11%|█▏        | 146/1280 [00:24<02:38,  7.14it/s]#015 11%|█▏        | 147/1280 [00:24<02:48,  6.74it/s]#015 12%|█▏        | 148/1280 [00:24<02:39,  7.11it/s]#015 12%|█▏        | 149/1280 [00:24<02:56,  6.41it/s]#015 12%|█▏        | 150/1280 [00:24<02:46,  6.77it/s]#015 12%|█▏        | 151/1280 [00:25<02:42,  6.93it/s]#015 12%|█▏        | 152/1280 [00:25<02:41,  6.99it/s]#015 12%|█▏        | 153/1280 [00:25<02:41,  6.98it/s]#015 12%|█▏        | 154/1280 [00:25<02:38,  7.11it/s]#015 12%|█▏        | 155/1280 [00:25<02:34,  7.28it/s]#015 12%|█▏        | 156/1280 [00:25<02:43,  6.89it/s]#015 12%|█▏        | 157/1280 [00:25<02:38,  7.07it/s]#015 12%|█▏        | 158/1280 [00:25<02:35,  7.20it/s]#015 12%|█▏        | 159/1280 [00:26<02:31,  7.39it/s]#015 12%|█▎        | 160/1280 [00:26<02:29,  7.51it/s]#015 13%|█▎        | 161/1280 [00:26<02:28,  7.55it/s]#015 13%|█▎        | 162/1280 [00:26<02:30,  7.44it/s]#015 13%|█▎        | 163/1280 [00:26<02:34,  7.21it/s]#015 13%|█▎        | 164/1280 [00:26<02:30,  7.39it/s]#015 13%|█▎        | 165/1280 [00:26<02:30,  7.40it/s]#015 13%|█▎        | 166/1280 [00:27<02:49,  6.58it/s]#015 13%|█▎        | 167/1280 [00:27<02:42,  6.87it/s]#015 13%|█▎        | 168/1280 [00:27<02:37,  7.05it/s]#015 13%|█▎        | 169/1280 [00:27<02:33,  7.23it/s]#015 13%|█▎        | 170/1280 [00:27<02:34,  7.18it/s]#015 13%|█▎        | 171/1280 [00:27<02:34,  7.18it/s]#015 13%|█▎        | 172/1280 [00:27<02:30,  7.34it/s]#015 14%|█▎        | 173/1280 [00:28<02:32,  7.25it/s]#015 14%|█▎        | 174/1280 [00:28<02:30,  7.37it/s]#015 14%|█▎        | 175/1280 [00:28<02:30,  7.34it/s]#015 14%|█▍        | 176/1280 [00:28<02:29,  7.38it/s]#015 14%|█▍        | 177/1280 [00:28<02:28,  7.41it/s]#015 14%|█▍        | 178/1280 [00:28<02:33,  7.17it/s]#015 14%|█▍        | 179/1280 [00:28<02:28,  7.40it/s]#015 14%|█▍        | 180/1280 [00:29<02:29,  7.35it/s]#015 14%|█▍        | 181/1280 [00:29<02:30,  7.32it/s]#015 14%|█▍        | 182/1280 [00:29<02:31,  7.27it/s]#015 14%|█▍        | 183/1280 [00:29<02:27,  7.45it/s]#015 14%|█▍        | 184/1280 [00:29<02:40,  6.84it/s]#015 14%|█▍        | 185/1280 [00:29<02:35,  7.05it/s]#015 15%|█▍        | 186/1280 [00:29<02:31,  7.24it/s]#015 15%|█▍        | 187/1280 [00:29<02:28,  7.35it/s]#015 15%|█▍        | 188/1280 [00:30<02:26,  7.47it/s]#015 15%|█▍        | 189/1280 [00:30<02:28,  7.36it/s]#015 15%|█▍        | 190/1280 [00:30<02:30,  7.24it/s]#015 15%|█▍        | 191/1280 [00:30<02:31,  7.17it/s]#015 15%|█▌        | 192/1280 [00:30<02:28,  7.33it/s]\u001b[0m\n",
      "\u001b[34m#015  0%|          | 0/16 [00:00<?, ?it/s]#033[A\u001b[0m\n",
      "\u001b[34m#015 31%|███▏      | 5/16 [00:00<00:00, 43.32it/s]#033[A\u001b[0m\n",
      "\u001b[34m#015 56%|█████▋    | 9/16 [00:00<00:00, 40.76it/s]#033[A\u001b[0m\n",
      "\u001b[34m#015 81%|████████▏ | 13/16 [00:00<00:00, 37.77it/s]#033[A#015                                                  #015\u001b[0m\n",
      "\u001b[34m#015                                               #015#033[A#015 15%|█▌        | 192/1280 [00:31<02:28,  7.33it/s]\u001b[0m\n",
      "\u001b[34m#015100%|██████████| 16/16 [00:00<00:00, 37.77it/s]#033[A\u001b[0m\n",
      "\u001b[34m#015                                               #033[A#015 15%|█▌        | 193/1280 [00:31<05:02,  3.59it/s]#015 15%|█▌        | 194/1280 [00:31<04:13,  4.29it/s]#015 15%|█▌        | 195/1280 [00:31<03:39,  4.94it/s]#015 15%|█▌        | 196/1280 [00:31<03:16,  5.51it/s]#015 15%|█▌        | 197/1280 [00:31<03:05,  5.83it/s]#015 15%|█▌        | 198/1280 [00:31<03:02,  5.93it/s]#015 16%|█▌        | 199/1280 [00:32<03:00,  6.00it/s]#015 16%|█▌        | 200/1280 [00:32<02:48,  6.40it/s]#015 16%|█▌        | 201/1280 [00:32<02:40,  6.70it/s]#015 16%|█▌        | 202/1280 [00:32<02:34,  6.98it/s]#015 16%|█▌        | 203/1280 [00:32<02:28,  7.24it/s]#015 16%|█▌        | 204/1280 [00:32<02:29,  7.22it/s]#015 16%|█▌        | 205/1280 [00:32<02:27,  7.27it/s]#015 16%|█▌        | 206/1280 [00:33<02:26,  7.35it/s]#015 16%|█▌        | 207/1280 [00:33<02:25,  7.37it/s]#015 16%|█▋        | 208/1280 [00:33<02:24,  7.40it/s]#015 16%|█▋        | 209/1280 [00:33<02:22,  7.51it/s]#015 16%|█▋        | 210/1280 [00:33<02:21,  7.57it/s]#015 16%|█▋        | 211/1280 [00:33<02:23,  7.45it/s]#015 17%|█▋        | 212/1280 [00:33<02:21,  7.53it/s]#015 17%|█▋        | 213/1280 [00:33<02:18,  7.71it/s]#015 17%|█▋        | 214/1280 [00:34<02:18,  7.69it/s]#015 17%|█▋        | 215/1280 [00:34<02:19,  7.65it/s]#015 17%|█▋        | 216/1280 [00:34<02:22,  7.46it/s]#015 17%|█▋        | 217/1280 [00:34<02:22,  7.46it/s]#015 17%|█▋        | 218/1280 [00:34<02:28,  7.17it/s]#015 17%|█▋        | 219/1280 [00:34<02:25,  7.28it/s]#015 17%|█▋        | 220/1280 [00:34<02:25,  7.28it/s]#015 17%|█▋        | 221/1280 [00:35<02:22,  7.44it/s]#015 17%|█▋        | 222/1280 [00:35<02:26,  7.25it/s]#015 17%|█▋        | 223/1280 [00:35<02:23,  7.39it/s]#015 18%|█▊        | 224/1280 [00:35<02:23,  7.35it/s]#015 18%|█▊        | 225/1280 [00:35<02:23,  7.34it/s]#015 18%|█▊        | 226/1280 [00:35<02:29,  7.06it/s]#015 18%|█▊        | 227/1280 [00:35<02:30,  7.02it/s]#015 18%|█▊        | 228/1280 [00:36<02:28,  7.07it/s]#015 18%|█▊        | 229/1280 [00:36<02:27,  7.10it/s]#015 18%|█▊        | 230/1280 [00:36<02:24,  7.26it/s]#015 18%|█▊        | 231/1280 [00:36<02:24,  7.28it/s]#015 18%|█▊        | 232/1280 [00:36<02:22,  7.38it/s]#015 18%|█▊        | 233/1280 [00:36<02:21,  7.38it/s]#015 18%|█▊        | 234/1280 [00:36<02:19,  7.49it/s]#015 18%|█▊        | 235/1280 [00:36<02:20,  7.41it/s]#015 18%|█▊        | 236/1280 [00:37<02:16,  7.63it/s]#015 19%|█▊        | 237/1280 [00:37<02:16,  7.65it/s]#015 19%|█▊        | 238/1280 [00:37<02:17,  7.57it/s]#015 19%|█▊        | 239/1280 [00:37<02:37,  6.63it/s]#015 19%|█▉        | 240/1280 [00:37<02:30,  6.92it/s]#015 19%|█▉        | 241/1280 [00:37<02:28,  7.01it/s]#015 19%|█▉        | 242/1280 [00:37<02:24,  7.18it/s]#015 19%|█▉        | 243/1280 [00:38<02:26,  7.09it/s]#015 19%|█▉        | 244/1280 [00:38<02:23,  7.22it/s]#015 19%|█▉        | 245/1280 [00:38<02:23,  7.23it/s]#015 19%|█▉        | 246/1280 [00:38<02:22,  7.24it/s]#015 19%|█▉        | 247/1280 [00:38<02:21,  7.30it/s]#015 19%|█▉        | 248/1280 [00:38<02:28,  6.96it/s]#015 19%|█▉        | 249/1280 [00:38<02:24,  7.14it/s]#015 20%|█▉        | 250/1280 [00:39<02:21,  7.27it/s]#015 20%|█▉        | 251/1280 [00:39<02:20,  7.34it/s]#015 20%|█▉        | 252/1280 [00:39<02:17,  7.47it/s]#015 20%|█▉        | 253/1280 [00:39<02:16,  7.55it/s]#015 20%|█▉        | 254/1280 [00:39<02:14,  7.62it/s]#015 20%|█▉        | 255/1280 [00:39<02:19,  7.34it/s]#015 20%|██        | 256/1280 [00:39<02:18,  7.37it/s]\u001b[0m\n",
      "\u001b[34m#015  0%|          | 0/16 [00:00<?, ?it/s]#033[A\u001b[0m\n",
      "\u001b[34m#015 31%|███▏      | 5/16 [00:00<00:00, 44.96it/s]#033[A\u001b[0m\n",
      "\u001b[34m#015 56%|█████▋    | 9/16 [00:00<00:00, 41.99it/s]#033[A\u001b[0m\n",
      "\u001b[34m#015 81%|████████▏ | 13/16 [00:00<00:00, 38.70it/s]#033[A#015                                                  #015\u001b[0m\n",
      "\u001b[34m#015                                               #015#033[A#015 20%|██        | 256/1280 [00:40<02:18,  7.37it/s]\u001b[0m\n",
      "\u001b[34m#015100%|██████████| 16/16 [00:00<00:00, 38.70it/s]#033[A\u001b[0m\n",
      "\u001b[34m#015                                               #033[A#015 20%|██        | 257/1280 [00:40<04:44,  3.59it/s]#015 20%|██        | 258/1280 [00:40<03:58,  4.29it/s]#015 20%|██        | 259/1280 [00:40<03:26,  4.95it/s]#015 20%|██        | 260/1280 [00:40<03:04,  5.54it/s]#015 20%|██        | 261/1280 [00:41<02:48,  6.06it/s]#015 20%|██        | 262/1280 [00:41<02:37,  6.46it/s]#015 21%|██        | 263/1280 [00:41<02:27,  6.89it/s]#015 21%|██        | 264/1280 [00:41<02:22,  7.14it/s]#015 21%|██        | 265/1280 [00:41<02:19,  7.27it/s]#015 21%|██        | 266/1280 [00:41<02:16,  7.41it/s]#015 21%|██        | 267/1280 [00:41<02:14,  7.51it/s]#015 21%|██        | 268/1280 [00:41<02:14,  7.50it/s]#015 21%|██        | 269/1280 [00:42<02:12,  7.64it/s]#015 21%|██        | 270/1280 [00:42<02:11,  7.67it/s]#015 21%|██        | 271/1280 [00:42<02:16,  7.39it/s]#015 21%|██▏       | 272/1280 [00:42<02:12,  7.62it/s]#015 21%|██▏       | 273/1280 [00:42<02:13,  7.57it/s]#015 21%|██▏       | 274/1280 [00:42<02:12,  7.57it/s]#015 21%|██▏       | 275/1280 [00:42<02:17,  7.30it/s]#015 22%|██▏       | 276/1280 [00:42<02:16,  7.37it/s]#015 22%|██▏       | 277/1280 [00:43<02:13,  7.50it/s]#015 22%|██▏       | 278/1280 [00:43<02:12,  7.58it/s]#015 22%|██▏       | 279/1280 [00:43<02:11,  7.59it/s]#015 22%|██▏       | 280/1280 [00:43<02:09,  7.74it/s]#015 22%|██▏       | 281/1280 [00:43<02:10,  7.63it/s]#015 22%|██▏       | 282/1280 [00:43<02:14,  7.43it/s]#015 22%|██▏       | 283/1280 [00:43<02:14,  7.39it/s]#015 22%|██▏       | 284/1280 [00:44<02:18,  7.18it/s]#015 22%|██▏       | 285/1280 [00:44<02:17,  7.22it/s]#015 22%|██▏       | 286/1280 [00:44<02:22,  7.00it/s]#015 22%|██▏       | 287/1280 [00:44<02:18,  7.18it/s]#015 22%|██▎       | 288/1280 [00:44<02:18,  7.15it/s]#015 23%|██▎       | 289/1280 [00:44<02:22,  6.95it/s]#015 23%|██▎       | 290/1280 [00:44<02:19,  7.08it/s]#015 23%|██▎       | 291/1280 [00:45<02:18,  7.16it/s]#015 23%|██▎       | 292/1280 [00:45<02:20,  7.03it/s]#015 23%|██▎       | 293/1280 [00:45<02:15,  7.29it/s]#015 23%|██▎       | 294/1280 [00:45<02:14,  7.32it/s]#015 23%|██▎       | 295/1280 [00:45<02:14,  7.30it/s]#015 23%|██▎       | 296/1280 [00:45<02:14,  7.34it/s]#015 23%|██▎       | 297/1280 [00:45<02:16,  7.21it/s]#015 23%|██▎       | 298/1280 [00:46<02:16,  7.18it/s]#015 23%|██▎       | 299/1280 [00:46<02:13,  7.33it/s]#015 23%|██▎       | 300/1280 [00:46<02:13,  7.36it/s]#015 24%|██▎       | 301/1280 [00:46<02:15,  7.24it/s]#015 24%|██▎       | 302/1280 [00:46<02:29,  6.56it/s]#015 24%|██▎       | 303/1280 [00:46<02:38,  6.18it/s]#015 24%|██▍       | 304/1280 [00:46<02:30,  6.49it/s]#015 24%|██▍       | 305/1280 [00:47<02:21,  6.87it/s]#015 24%|██▍       | 306/1280 [00:47<02:18,  7.03it/s]#015 24%|██▍       | 307/1280 [00:47<02:22,  6.82it/s]#015 24%|██▍       | 308/1280 [00:47<02:19,  6.96it/s]#015 24%|██▍       | 309/1280 [00:47<02:18,  7.00it/s]#015 24%|██▍       | 310/1280 [00:47<02:14,  7.20it/s]#015 24%|██▍       | 311/1280 [00:47<02:24,  6.70it/s]#015 24%|██▍       | 312/1280 [00:48<02:22,  6.79it/s]#015 24%|██▍       | 313/1280 [00:48<02:18,  6.96it/s]#015 25%|██▍       | 314/1280 [00:48<02:17,  7.04it/s]#015 25%|██▍       | 315/1280 [00:48<02:13,  7.23it/s]#015 25%|██▍       | 316/1280 [00:48<02:12,  7.26it/s]#015 25%|██▍       | 317/1280 [00:48<02:08,  7.49it/s]#015 25%|██▍       | 318/1280 [00:48<02:08,  7.50it/s]#015 25%|██▍       | 319/1280 [00:49<02:08,  7.45it/s]#015 25%|██▌       | 320/1280 [00:49<02:05,  7.62it/s]\u001b[0m\n",
      "\u001b[34m#015  0%|          | 0/16 [00:00<?, ?it/s]#033[A\u001b[0m\n",
      "\u001b[34m#015 31%|███▏      | 5/16 [00:00<00:00, 43.22it/s]#033[A\u001b[0m\n",
      "\u001b[34m#015 56%|█████▋    | 9/16 [00:00<00:00, 40.33it/s]#033[A\u001b[0m\n",
      "\u001b[34m#015 81%|████████▏ | 13/16 [00:00<00:00, 38.46it/s]#033[A\u001b[0m\n",
      "\u001b[34m#015100%|██████████| 16/16 [00:00<00:00, 35.23it/s]#033[A#015                                                  #015\u001b[0m\n",
      "\u001b[34m#015                                               #015#033[A#015 25%|██▌       | 320/1280 [00:49<02:05,  7.62it/s]\u001b[0m\n",
      "\u001b[34m#015100%|██████████| 16/16 [00:00<00:00, 35.23it/s]#033[A\u001b[0m\n",
      "\u001b[34m#015                                               #033[A#015 25%|██▌       | 321/1280 [00:49<04:28,  3.58it/s]#015 25%|██▌       | 322/1280 [00:49<03:53,  4.09it/s]#015 25%|██▌       | 323/1280 [00:50<03:20,  4.78it/s]#015 25%|██▌       | 324/1280 [00:50<02:57,  5.39it/s]#015 25%|██▌       | 325/1280 [00:50<02:41,  5.90it/s]#015 25%|██▌       | 326/1280 [00:50<02:31,  6.31it/s]#015 26%|██▌       | 327/1280 [00:50<02:26,  6.49it/s]#015 26%|██▌       | 328/1280 [00:50<02:21,  6.74it/s]#015 26%|██▌       | 329/1280 [00:50<02:26,  6.51it/s]#015 26%|██▌       | 330/1280 [00:51<02:20,  6.76it/s]#015 26%|██▌       | 331/1280 [00:51<02:16,  6.95it/s]#015 26%|██▌       | 332/1280 [00:51<02:17,  6.91it/s]#015 26%|██▌       | 333/1280 [00:51<02:18,  6.83it/s]#015 26%|██▌       | 334/1280 [00:51<02:16,  6.93it/s]#015 26%|██▌       | 335/1280 [00:51<02:16,  6.94it/s]#015 26%|██▋       | 336/1280 [00:51<02:24,  6.55it/s]#015 26%|██▋       | 337/1280 [00:52<02:21,  6.67it/s]#015 26%|██▋       | 338/1280 [00:52<02:24,  6.51it/s]#015 26%|██▋       | 339/1280 [00:52<02:21,  6.67it/s]#015 27%|██▋       | 340/1280 [00:52<02:17,  6.86it/s]#015 27%|██▋       | 341/1280 [00:52<02:11,  7.15it/s]#015 27%|██▋       | 342/1280 [00:52<02:13,  7.03it/s]#015 27%|██▋       | 343/1280 [00:52<02:19,  6.74it/s]#015 27%|██▋       | 344/1280 [00:53<02:24,  6.46it/s]#015 27%|██▋       | 345/1280 [00:53<02:24,  6.47it/s]#015 27%|██▋       | 346/1280 [00:53<02:23,  6.50it/s]#015 27%|██▋       | 347/1280 [00:53<02:25,  6.40it/s]#015 27%|██▋       | 348/1280 [00:53<02:24,  6.47it/s]#015 27%|██▋       | 349/1280 [00:53<02:26,  6.36it/s]#015 27%|██▋       | 350/1280 [00:54<02:25,  6.39it/s]#015 27%|██▋       | 351/1280 [00:54<02:31,  6.12it/s]#015 28%|██▊       | 352/1280 [00:54<02:25,  6.37it/s]#015 28%|██▊       | 353/1280 [00:54<02:21,  6.57it/s]#015 28%|██▊       | 354/1280 [00:54<02:14,  6.88it/s]#015 28%|██▊       | 355/1280 [00:54<02:10,  7.09it/s]#015 28%|██▊       | 356/1280 [00:54<02:07,  7.25it/s]#015 28%|██▊       | 357/1280 [00:55<02:13,  6.93it/s]#015 28%|██▊       | 358/1280 [00:55<02:14,  6.86it/s]#015 28%|██▊       | 359/1280 [00:55<02:23,  6.40it/s]#015 28%|██▊       | 360/1280 [00:55<02:31,  6.08it/s]#015 28%|██▊       | 361/1280 [00:55<02:26,  6.26it/s]#015 28%|██▊       | 362/1280 [00:55<02:18,  6.62it/s]#015 28%|██▊       | 363/1280 [00:55<02:13,  6.86it/s]#015 28%|██▊       | 364/1280 [00:56<02:12,  6.93it/s]#015 29%|██▊       | 365/1280 [00:56<02:10,  6.99it/s]#015 29%|██▊       | 366/1280 [00:56<02:08,  7.11it/s]#015 29%|██▊       | 367/1280 [00:56<02:06,  7.22it/s]#015 29%|██▉       | 368/1280 [00:56<02:04,  7.31it/s]#015 29%|██▉       | 369/1280 [00:56<02:03,  7.38it/s]#015 29%|██▉       | 370/1280 [00:56<02:02,  7.43it/s]#015 29%|██▉       | 371/1280 [00:57<02:02,  7.40it/s]#015 29%|██▉       | 372/1280 [00:57<02:01,  7.50it/s]#015 29%|██▉       | 373/1280 [00:57<02:00,  7.51it/s]#015 29%|██▉       | 374/1280 [00:57<02:00,  7.50it/s]#015 29%|██▉       | 375/1280 [00:57<02:03,  7.34it/s]#015 29%|██▉       | 376/1280 [00:57<02:04,  7.27it/s]#015 29%|██▉       | 377/1280 [00:57<02:02,  7.34it/s]#015 30%|██▉       | 378/1280 [00:58<02:01,  7.42it/s]#015 30%|██▉       | 379/1280 [00:58<02:06,  7.15it/s]#015 30%|██▉       | 380/1280 [00:58<02:05,  7.20it/s]#015 30%|██▉       | 381/1280 [00:58<02:01,  7.37it/s]#015 30%|██▉       | 382/1280 [00:58<02:17,  6.52it/s]#015 30%|██▉       | 383/1280 [00:58<02:26,  6.11it/s]#015 30%|███       | 384/1280 [00:58<02:21,  6.33it/s]\u001b[0m\n",
      "\u001b[34m#015  0%|          | 0/16 [00:00<?, ?it/s]#033[A\u001b[0m\n",
      "\u001b[34m#015 31%|███▏      | 5/16 [00:00<00:00, 42.41it/s]#033[A\u001b[0m\n",
      "\u001b[34m#015 56%|█████▋    | 9/16 [00:00<00:00, 40.33it/s]#033[A\u001b[0m\n",
      "\u001b[34m#015 81%|████████▏ | 13/16 [00:00<00:00, 36.98it/s]#033[A#015                                                  #015\u001b[0m\n",
      "\u001b[34m#015                                               #015#033[A#015 30%|███       | 384/1280 [00:59<02:21,  6.33it/s]\u001b[0m\n",
      "\u001b[34m#015100%|██████████| 16/16 [00:00<00:00, 36.98it/s]#033[A\u001b[0m\n",
      "\u001b[34m#015                                               #033[A#015 30%|███       | 385/1280 [00:59<04:23,  3.39it/s]#015 30%|███       | 386/1280 [00:59<03:38,  4.10it/s]#015 30%|███       | 387/1280 [00:59<03:07,  4.77it/s]#015 30%|███       | 388/1280 [00:59<02:43,  5.44it/s]#015 30%|███       | 389/1280 [01:00<02:32,  5.84it/s]#015 30%|███       | 390/1280 [01:00<02:23,  6.21it/s]#015 31%|███       | 391/1280 [01:00<02:14,  6.61it/s]#015 31%|███       | 392/1280 [01:00<02:07,  6.96it/s]#015 31%|███       | 393/1280 [01:00<02:02,  7.21it/s]#015 31%|███       | 394/1280 [01:00<01:59,  7.40it/s]#015 31%|███       | 395/1280 [01:00<01:58,  7.50it/s]#015 31%|███       | 396/1280 [01:00<01:55,  7.65it/s]#015 31%|███       | 397/1280 [01:01<01:58,  7.46it/s]#015 31%|███       | 398/1280 [01:01<01:55,  7.64it/s]#015 31%|███       | 399/1280 [01:01<01:56,  7.58it/s]#015 31%|███▏      | 400/1280 [01:01<01:56,  7.57it/s]#015 31%|███▏      | 401/1280 [01:01<01:56,  7.52it/s]#015 31%|███▏      | 402/1280 [01:01<01:56,  7.52it/s]#015 31%|███▏      | 403/1280 [01:01<01:55,  7.59it/s]#015 32%|███▏      | 404/1280 [01:02<01:54,  7.68it/s]#015 32%|███▏      | 405/1280 [01:02<01:56,  7.54it/s]#015 32%|███▏      | 406/1280 [01:02<01:59,  7.32it/s]#015 32%|███▏      | 407/1280 [01:02<02:00,  7.26it/s]#015 32%|███▏      | 408/1280 [01:02<01:59,  7.31it/s]#015 32%|███▏      | 409/1280 [01:02<01:58,  7.37it/s]#015 32%|███▏      | 410/1280 [01:02<01:55,  7.51it/s]#015 32%|███▏      | 411/1280 [01:02<01:55,  7.53it/s]#015 32%|███▏      | 412/1280 [01:03<01:56,  7.43it/s]#015 32%|███▏      | 413/1280 [01:03<01:57,  7.35it/s]#015 32%|███▏      | 414/1280 [01:03<01:58,  7.29it/s]#015 32%|███▏      | 415/1280 [01:03<01:56,  7.42it/s]#015 32%|███▎      | 416/1280 [01:03<01:56,  7.40it/s]#015 33%|███▎      | 417/1280 [01:03<01:56,  7.40it/s]#015 33%|███▎      | 418/1280 [01:03<01:56,  7.42it/s]#015 33%|███▎      | 419/1280 [01:04<01:56,  7.40it/s]#015 33%|███▎      | 420/1280 [01:04<01:56,  7.36it/s]#015 33%|███▎      | 421/1280 [01:04<01:53,  7.58it/s]#015 33%|███▎      | 422/1280 [01:04<01:51,  7.67it/s]#015 33%|███▎      | 423/1280 [01:04<01:52,  7.62it/s]#015 33%|███▎      | 424/1280 [01:04<01:51,  7.70it/s]#015 33%|███▎      | 425/1280 [01:04<01:50,  7.73it/s]#015 33%|███▎      | 426/1280 [01:04<01:50,  7.76it/s]#015 33%|███▎      | 427/1280 [01:05<01:50,  7.74it/s]#015 33%|███▎      | 428/1280 [01:05<01:55,  7.39it/s]#015 34%|███▎      | 429/1280 [01:05<01:54,  7.42it/s]#015 34%|███▎      | 430/1280 [01:05<01:52,  7.56it/s]#015 34%|███▎      | 431/1280 [01:05<01:51,  7.63it/s]#015 34%|███▍      | 432/1280 [01:05<01:51,  7.63it/s]#015 34%|███▍      | 433/1280 [01:05<01:50,  7.64it/s]#015 34%|███▍      | 434/1280 [01:06<01:50,  7.69it/s]#015 34%|███▍      | 435/1280 [01:06<01:54,  7.39it/s]#015 34%|███▍      | 436/1280 [01:06<01:51,  7.59it/s]#015 34%|███▍      | 437/1280 [01:06<01:52,  7.48it/s]#015 34%|███▍      | 438/1280 [01:06<01:55,  7.27it/s]#015 34%|███▍      | 439/1280 [01:06<01:56,  7.24it/s]#015 34%|███▍      | 440/1280 [01:06<01:56,  7.22it/s]#015 34%|███▍      | 441/1280 [01:07<01:55,  7.24it/s]#015 35%|███▍      | 442/1280 [01:07<01:55,  7.27it/s]#015 35%|███▍      | 443/1280 [01:07<01:55,  7.27it/s]#015 35%|███▍      | 444/1280 [01:07<01:52,  7.41it/s]#015 35%|███▍      | 445/1280 [01:07<01:51,  7.52it/s]#015 35%|███▍      | 446/1280 [01:07<01:52,  7.40it/s]#015 35%|███▍      | 447/1280 [01:07<01:52,  7.37it/s]#015 35%|███▌      | 448/1280 [01:07<01:51,  7.46it/s]\u001b[0m\n",
      "\u001b[34m#015  0%|          | 0/16 [00:00<?, ?it/s]#033[A\u001b[0m\n",
      "\u001b[34m#015 31%|███▏      | 5/16 [00:00<00:00, 43.64it/s]#033[A\u001b[0m\n",
      "\u001b[34m#015 56%|█████▋    | 9/16 [00:00<00:00, 41.00it/s]#033[A\u001b[0m\n",
      "\u001b[34m#015 81%|████████▏ | 13/16 [00:00<00:00, 39.60it/s]#033[A#015                                                  #015\u001b[0m\n",
      "\u001b[34m#015                                               #015#033[A#015 35%|███▌      | 448/1280 [01:08<01:51,  7.46it/s]\u001b[0m\n",
      "\u001b[34m#015100%|██████████| 16/16 [00:00<00:00, 39.60it/s]#033[A\u001b[0m\n",
      "\u001b[34m#015                                               #033[A#015 35%|███▌      | 449/1280 [01:08<03:41,  3.74it/s]#015 35%|███▌      | 450/1280 [01:08<03:06,  4.44it/s]#015 35%|███▌      | 451/1280 [01:08<02:43,  5.08it/s]#015 35%|███▌      | 452/1280 [01:08<02:25,  5.70it/s]#015 35%|███▌      | 453/1280 [01:09<02:12,  6.25it/s]#015 35%|███▌      | 454/1280 [01:09<02:06,  6.54it/s]#015 36%|███▌      | 455/1280 [01:09<02:01,  6.77it/s]#015 36%|███▌      | 456/1280 [01:09<01:56,  7.05it/s]#015 36%|███▌      | 457/1280 [01:09<01:53,  7.23it/s]#015 36%|███▌      | 458/1280 [01:09<01:50,  7.43it/s]#015 36%|███▌      | 459/1280 [01:09<01:50,  7.40it/s]#015 36%|███▌      | 460/1280 [01:09<01:49,  7.47it/s]#015 36%|███▌      | 461/1280 [01:10<01:47,  7.64it/s]#015 36%|███▌      | 462/1280 [01:10<01:48,  7.54it/s]#015 36%|███▌      | 463/1280 [01:10<01:53,  7.18it/s]#015 36%|███▋      | 464/1280 [01:10<01:51,  7.30it/s]#015 36%|███▋      | 465/1280 [01:10<01:50,  7.38it/s]#015 36%|███▋      | 466/1280 [01:10<01:49,  7.43it/s]#015 36%|███▋      | 467/1280 [01:10<01:50,  7.38it/s]#015 37%|███▋      | 468/1280 [01:11<01:49,  7.43it/s]#015 37%|███▋      | 469/1280 [01:11<01:47,  7.53it/s]#015 37%|███▋      | 470/1280 [01:11<01:47,  7.52it/s]#015 37%|███▋      | 471/1280 [01:11<01:46,  7.62it/s]#015 37%|███▋      | 472/1280 [01:11<01:49,  7.41it/s]#015 37%|███▋      | 473/1280 [01:11<01:47,  7.53it/s]#015 37%|███▋      | 474/1280 [01:11<01:46,  7.59it/s]#015 37%|███▋      | 475/1280 [01:11<01:45,  7.64it/s]#015 37%|███▋      | 476/1280 [01:12<01:44,  7.70it/s]#015 37%|███▋      | 477/1280 [01:12<01:44,  7.70it/s]#015 37%|███▋      | 478/1280 [01:12<01:45,  7.59it/s]#015 37%|███▋      | 479/1280 [01:12<01:44,  7.66it/s]#015 38%|███▊      | 480/1280 [01:12<01:43,  7.76it/s]#015 38%|███▊      | 481/1280 [01:12<01:43,  7.76it/s]#015 38%|███▊      | 482/1280 [01:12<01:43,  7.72it/s]#015 38%|███▊      | 483/1280 [01:12<01:42,  7.76it/s]#015 38%|███▊      | 484/1280 [01:13<01:42,  7.76it/s]#015 38%|███▊      | 485/1280 [01:13<01:43,  7.65it/s]#015 38%|███▊      | 486/1280 [01:13<01:43,  7.68it/s]#015 38%|███▊      | 487/1280 [01:13<01:44,  7.59it/s]#015 38%|███▊      | 488/1280 [01:13<01:45,  7.49it/s]#015 38%|███▊      | 489/1280 [01:13<01:43,  7.64it/s]#015 38%|███▊      | 490/1280 [01:13<01:42,  7.69it/s]#015 38%|███▊      | 491/1280 [01:14<01:44,  7.53it/s]#015 38%|███▊      | 492/1280 [01:14<01:44,  7.56it/s]#015 39%|███▊      | 493/1280 [01:14<01:48,  7.28it/s]#015 39%|███▊      | 494/1280 [01:14<01:46,  7.38it/s]#015 39%|███▊      | 495/1280 [01:14<01:47,  7.29it/s]#015 39%|███▉      | 496/1280 [01:14<01:44,  7.49it/s]#015 39%|███▉      | 497/1280 [01:14<01:47,  7.32it/s]#015 39%|███▉      | 498/1280 [01:15<01:48,  7.22it/s]#015 39%|███▉      | 499/1280 [01:15<01:47,  7.25it/s]#015 39%|███▉      | 500/1280 [01:15<01:47,  7.26it/s]#015                                                  #015#015 39%|███▉      | 500/1280 [01:15<01:47,  7.26it/s]#015 39%|███▉      | 501/1280 [01:17<09:45,  1.33it/s]#015 39%|███▉      | 502/1280 [01:17<07:17,  1.78it/s]#015 39%|███▉      | 503/1280 [01:17<05:35,  2.31it/s]#015 39%|███▉      | 504/1280 [01:17<04:23,  2.94it/s]#015 39%|███▉      | 505/1280 [01:17<03:35,  3.59it/s]#015 40%|███▉      | 506/1280 [01:18<03:02,  4.25it/s]#015 40%|███▉      | 507/1280 [01:18<02:38,  4.86it/s]#015 40%|███▉      | 508/1280 [01:18<02:24,  5.35it/s]#015 40%|███▉      | 509/1280 [01:18<02:11,  5.85it/s]#015 40%|███▉      | 510/1280 [01:18<02:03,  6.25it/s]#015 40%|███▉      | 511/1280 [01:18<01:58,  6.48it/s]#015 40%|████      | 512/1280 [01:18<01:54,  6.72it/s]\u001b[0m\n",
      "\u001b[34m#015  0%|          | 0/16 [00:00<?, ?it/s]#033[A\u001b[0m\n",
      "\u001b[34m#015 25%|██▌       | 4/16 [00:00<00:00, 39.35it/s]#033[A\u001b[0m\n",
      "\u001b[34m#015 44%|████▍     | 7/16 [00:00<00:00, 35.22it/s]#033[A\u001b[0m\n",
      "\u001b[34m#015 69%|██████▉   | 11/16 [00:00<00:00, 33.56it/s]#033[A\u001b[0m\n",
      "\u001b[34m#015 88%|████████▊ | 14/16 [00:00<00:00, 32.32it/s]#033[A#015                                                  #015\u001b[0m\n",
      "\u001b[34m#015                                               #015#033[A#015 40%|████      | 512/1280 [01:19<01:54,  6.72it/s]\u001b[0m\n",
      "\u001b[34m#015100%|██████████| 16/16 [00:00<00:00, 32.32it/s]#033[A\u001b[0m\n",
      "\u001b[34m#015                                               #033[A#015 40%|████      | 513/1280 [01:19<03:57,  3.23it/s]#015 40%|████      | 514/1280 [01:19<03:18,  3.85it/s]#015 40%|████      | 515/1280 [01:19<02:49,  4.52it/s]#015 40%|████      | 516/1280 [01:20<02:30,  5.09it/s]#015 40%|████      | 517/1280 [01:20<02:14,  5.68it/s]#015 40%|████      | 518/1280 [01:20<02:03,  6.16it/s]#015 41%|████      | 519/1280 [01:20<01:59,  6.38it/s]#015 41%|████      | 520/1280 [01:20<01:55,  6.56it/s]#015 41%|████      | 521/1280 [01:20<01:49,  6.91it/s]#015 41%|████      | 522/1280 [01:20<01:45,  7.16it/s]#015 41%|████      | 523/1280 [01:20<01:43,  7.35it/s]#015 41%|████      | 524/1280 [01:21<01:40,  7.55it/s]#015 41%|████      | 525/1280 [01:21<01:39,  7.62it/s]#015 41%|████      | 526/1280 [01:21<01:44,  7.24it/s]#015 41%|████      | 527/1280 [01:21<01:44,  7.21it/s]#015 41%|████▏     | 528/1280 [01:21<01:43,  7.30it/s]#015 41%|████▏     | 529/1280 [01:21<01:39,  7.52it/s]#015 41%|████▏     | 530/1280 [01:21<01:39,  7.56it/s]#015 41%|████▏     | 531/1280 [01:22<01:37,  7.66it/s]#015 42%|████▏     | 532/1280 [01:22<01:42,  7.27it/s]#015 42%|████▏     | 533/1280 [01:22<01:45,  7.06it/s]#015 42%|████▏     | 534/1280 [01:22<01:46,  6.98it/s]#015 42%|████▏     | 535/1280 [01:22<01:56,  6.38it/s]#015 42%|████▏     | 536/1280 [01:22<01:52,  6.62it/s]#015 42%|████▏     | 537/1280 [01:22<01:45,  7.03it/s]#015 42%|████▏     | 538/1280 [01:23<01:42,  7.26it/s]#015 42%|████▏     | 539/1280 [01:23<01:41,  7.28it/s]#015 42%|████▏     | 540/1280 [01:23<01:41,  7.28it/s]#015 42%|████▏     | 541/1280 [01:23<01:43,  7.14it/s]#015 42%|████▏     | 542/1280 [01:23<01:40,  7.32it/s]#015 42%|████▏     | 543/1280 [01:23<01:39,  7.44it/s]#015 42%|████▎     | 544/1280 [01:23<01:40,  7.32it/s]#015 43%|████▎     | 545/1280 [01:23<01:38,  7.48it/s]#015 43%|████▎     | 546/1280 [01:24<01:36,  7.61it/s]#015 43%|████▎     | 547/1280 [01:24<01:35,  7.71it/s]#015 43%|████▎     | 548/1280 [01:24<01:37,  7.53it/s]#015 43%|████▎     | 549/1280 [01:24<01:37,  7.51it/s]#015 43%|████▎     | 550/1280 [01:24<01:35,  7.67it/s]#015 43%|████▎     | 551/1280 [01:24<01:34,  7.74it/s]#015 43%|████▎     | 552/1280 [01:24<01:33,  7.75it/s]#015 43%|████▎     | 553/1280 [01:25<01:31,  7.90it/s]#015 43%|████▎     | 554/1280 [01:25<01:33,  7.79it/s]#015 43%|████▎     | 555/1280 [01:25<01:33,  7.74it/s]#015 43%|████▎     | 556/1280 [01:25<01:36,  7.51it/s]#015 44%|████▎     | 557/1280 [01:25<01:38,  7.36it/s]#015 44%|████▎     | 558/1280 [01:25<01:42,  7.03it/s]#015 44%|████▎     | 559/1280 [01:25<01:44,  6.87it/s]#015 44%|████▍     | 560/1280 [01:26<01:42,  6.99it/s]#015 44%|████▍     | 561/1280 [01:26<01:40,  7.14it/s]#015 44%|████▍     | 562/1280 [01:26<01:39,  7.24it/s]#015 44%|████▍     | 563/1280 [01:26<01:38,  7.26it/s]#015 44%|████▍     | 564/1280 [01:26<01:50,  6.50it/s]#015 44%|████▍     | 565/1280 [01:26<01:46,  6.70it/s]#015 44%|████▍     | 566/1280 [01:26<01:45,  6.75it/s]#015 44%|████▍     | 567/1280 [01:27<01:40,  7.08it/s]#015 44%|████▍     | 568/1280 [01:27<01:38,  7.24it/s]#015 44%|████▍     | 569/1280 [01:27<02:13,  5.32it/s]#015 45%|████▍     | 570/1280 [01:27<02:01,  5.85it/s]#015 45%|████▍     | 571/1280 [01:27<01:52,  6.30it/s]#015 45%|████▍     | 572/1280 [01:27<01:47,  6.58it/s]#015 45%|████▍     | 573/1280 [01:27<01:42,  6.87it/s]#015 45%|████▍     | 574/1280 [01:28<01:39,  7.12it/s]#015 45%|████▍     | 575/1280 [01:28<01:37,  7.24it/s]#015 45%|████▌     | 576/1280 [01:28<01:37,  7.25it/s]\u001b[0m\n",
      "\u001b[34m#015  0%|          | 0/16 [00:00<?, ?it/s]#033[A\u001b[0m\n",
      "\u001b[34m#015 25%|██▌       | 4/16 [00:00<00:00, 37.66it/s]#033[A\u001b[0m\n",
      "\u001b[34m#015 50%|█████     | 8/16 [00:00<00:00, 35.87it/s]#033[A\u001b[0m\n",
      "\u001b[34m#015 75%|███████▌  | 12/16 [00:00<00:00, 34.38it/s]#033[A\u001b[0m\n",
      "\u001b[34m#015100%|██████████| 16/16 [00:00<00:00, 33.42it/s]#033[A#015                                                  #015\u001b[0m\n",
      "\u001b[34m#015                                               #015#033[A#015 45%|████▌     | 576/1280 [01:28<01:37,  7.25it/s]\u001b[0m\n",
      "\u001b[34m#015100%|██████████| 16/16 [00:00<00:00, 33.42it/s]#033[A\u001b[0m\n",
      "\u001b[34m#015                                               #033[A#015 45%|████▌     | 577/1280 [01:29<03:26,  3.41it/s]#015 45%|████▌     | 578/1280 [01:29<02:52,  4.06it/s]#015 45%|████▌     | 579/1280 [01:29<02:29,  4.69it/s]#015 45%|████▌     | 580/1280 [01:29<02:14,  5.21it/s]#015 45%|████▌     | 581/1280 [01:29<02:03,  5.67it/s]#015 45%|████▌     | 582/1280 [01:29<01:54,  6.08it/s]#015 46%|████▌     | 583/1280 [01:29<01:49,  6.34it/s]#015 46%|████▌     | 584/1280 [01:30<01:46,  6.57it/s]#015 46%|████▌     | 585/1280 [01:30<01:42,  6.76it/s]#015 46%|████▌     | 586/1280 [01:30<01:40,  6.88it/s]#015 46%|████▌     | 587/1280 [01:30<01:38,  7.03it/s]#015 46%|████▌     | 588/1280 [01:30<01:37,  7.09it/s]#015 46%|████▌     | 589/1280 [01:30<01:40,  6.87it/s]#015 46%|████▌     | 590/1280 [01:30<01:37,  7.11it/s]#015 46%|████▌     | 591/1280 [01:30<01:35,  7.23it/s]#015 46%|████▋     | 592/1280 [01:31<01:33,  7.36it/s]#015 46%|████▋     | 593/1280 [01:31<01:30,  7.56it/s]#015 46%|████▋     | 594/1280 [01:31<01:32,  7.45it/s]#015 46%|████▋     | 595/1280 [01:31<01:34,  7.23it/s]#015 47%|████▋     | 596/1280 [01:31<01:33,  7.35it/s]#015 47%|████▋     | 597/1280 [01:31<01:32,  7.38it/s]#015 47%|████▋     | 598/1280 [01:31<01:32,  7.37it/s]#015 47%|████▋     | 599/1280 [01:32<01:31,  7.46it/s]#015 47%|████▋     | 600/1280 [01:32<01:31,  7.42it/s]#015 47%|████▋     | 601/1280 [01:32<01:30,  7.47it/s]#015 47%|████▋     | 602/1280 [01:32<01:32,  7.31it/s]#015 47%|████▋     | 603/1280 [01:32<01:32,  7.29it/s]#015 47%|████▋     | 604/1280 [01:32<01:31,  7.42it/s]#015 47%|████▋     | 605/1280 [01:32<01:32,  7.31it/s]#015 47%|████▋     | 606/1280 [01:33<01:31,  7.34it/s]#015 47%|████▋     | 607/1280 [01:33<01:33,  7.21it/s]#015 48%|████▊     | 608/1280 [01:33<01:32,  7.25it/s]#015 48%|████▊     | 609/1280 [01:33<01:33,  7.15it/s]#015 48%|████▊     | 610/1280 [01:33<01:35,  7.03it/s]#015 48%|████▊     | 611/1280 [01:33<01:32,  7.26it/s]#015 48%|████▊     | 612/1280 [01:33<01:31,  7.34it/s]#015 48%|████▊     | 613/1280 [01:33<01:31,  7.30it/s]#015 48%|████▊     | 614/1280 [01:34<01:35,  7.00it/s]#015 48%|████▊     | 615/1280 [01:34<01:34,  7.03it/s]#015 48%|████▊     | 616/1280 [01:34<01:32,  7.18it/s]#015 48%|████▊     | 617/1280 [01:34<01:32,  7.14it/s]#015 48%|████▊     | 618/1280 [01:34<01:32,  7.19it/s]#015 48%|████▊     | 619/1280 [01:34<01:31,  7.25it/s]#015 48%|████▊     | 620/1280 [01:34<01:29,  7.37it/s]#015 49%|████▊     | 621/1280 [01:35<01:27,  7.55it/s]#015 49%|████▊     | 622/1280 [01:35<01:26,  7.62it/s]#015 49%|████▊     | 623/1280 [01:35<01:25,  7.66it/s]#015 49%|████▉     | 624/1280 [01:35<01:24,  7.73it/s]#015 49%|████▉     | 625/1280 [01:35<01:27,  7.48it/s]#015 49%|████▉     | 626/1280 [01:35<01:29,  7.30it/s]#015 49%|████▉     | 627/1280 [01:35<01:30,  7.21it/s]#015 49%|████▉     | 628/1280 [01:36<01:29,  7.29it/s]#015 49%|████▉     | 629/1280 [01:36<01:27,  7.42it/s]#015 49%|████▉     | 630/1280 [01:36<01:28,  7.37it/s]#015 49%|████▉     | 631/1280 [01:36<01:26,  7.51it/s]#015 49%|████▉     | 632/1280 [01:36<01:26,  7.46it/s]#015 49%|████▉     | 633/1280 [01:36<01:26,  7.48it/s]#015 50%|████▉     | 634/1280 [01:36<01:25,  7.60it/s]#015 50%|████▉     | 635/1280 [01:36<01:24,  7.63it/s]#015 50%|████▉     | 636/1280 [01:37<01:23,  7.72it/s]#015 50%|████▉     | 637/1280 [01:37<01:23,  7.71it/s]#015 50%|████▉     | 638/1280 [01:37<01:25,  7.55it/s]#015 50%|████▉     | 639/1280 [01:37<01:27,  7.32it/s]#015 50%|█████     | 640/1280 [01:37<01:29,  7.17it/s]\u001b[0m\n",
      "\u001b[34m#015  0%|          | 0/16 [00:00<?, ?it/s]#033[A\u001b[0m\n",
      "\u001b[34m#015 31%|███▏      | 5/16 [00:00<00:00, 40.99it/s]#033[A\u001b[0m\n",
      "\u001b[34m#015 50%|█████     | 8/16 [00:00<00:00, 36.43it/s]#033[A\u001b[0m\n",
      "\u001b[34m#015 75%|███████▌  | 12/16 [00:00<00:00, 34.90it/s]#033[A\u001b[0m\n",
      "\u001b[34m#015100%|██████████| 16/16 [00:00<00:00, 34.38it/s]#033[A#015                                                  #015\u001b[0m\n",
      "\u001b[34m#015                                               #015#033[A#015 50%|█████     | 640/1280 [01:38<01:29,  7.17it/s]\u001b[0m\n",
      "\u001b[34m#015100%|██████████| 16/16 [00:00<00:00, 34.38it/s]#033[A\u001b[0m\n",
      "\u001b[34m#015                                               #033[A#015 50%|█████     | 641/1280 [01:38<03:04,  3.47it/s]#015 50%|█████     | 642/1280 [01:38<02:32,  4.19it/s]#015 50%|█████     | 643/1280 [01:38<02:10,  4.87it/s]#015 50%|█████     | 644/1280 [01:38<01:57,  5.43it/s]#015 50%|█████     | 645/1280 [01:38<01:48,  5.85it/s]#015 50%|█████     | 646/1280 [01:38<01:43,  6.16it/s]#015 51%|█████     | 647/1280 [01:39<01:38,  6.44it/s]#015 51%|█████     | 648/1280 [01:39<01:36,  6.57it/s]#015 51%|█████     | 649/1280 [01:39<01:32,  6.85it/s]#015 51%|█████     | 650/1280 [01:39<01:28,  7.10it/s]#015 51%|█████     | 651/1280 [01:39<01:29,  7.01it/s]#015 51%|█████     | 652/1280 [01:39<01:27,  7.14it/s]#015 51%|█████     | 653/1280 [01:39<01:28,  7.10it/s]#015 51%|█████     | 654/1280 [01:40<01:26,  7.27it/s]#015 51%|█████     | 655/1280 [01:40<01:24,  7.38it/s]#015 51%|█████▏    | 656/1280 [01:40<01:22,  7.54it/s]#015 51%|█████▏    | 657/1280 [01:40<01:21,  7.60it/s]#015 51%|█████▏    | 658/1280 [01:40<01:22,  7.57it/s]#015 51%|█████▏    | 659/1280 [01:40<01:25,  7.30it/s]#015 52%|█████▏    | 660/1280 [01:40<01:29,  6.94it/s]#015 52%|█████▏    | 661/1280 [01:41<01:30,  6.84it/s]#015 52%|█████▏    | 662/1280 [01:41<01:26,  7.16it/s]#015 52%|█████▏    | 663/1280 [01:41<01:24,  7.33it/s]#015 52%|█████▏    | 664/1280 [01:41<01:22,  7.47it/s]#015 52%|█████▏    | 665/1280 [01:41<01:21,  7.55it/s]#015 52%|█████▏    | 666/1280 [01:41<01:21,  7.50it/s]#015 52%|█████▏    | 667/1280 [01:41<01:20,  7.60it/s]#015 52%|█████▏    | 668/1280 [01:41<01:20,  7.65it/s]#015 52%|█████▏    | 669/1280 [01:42<01:19,  7.65it/s]#015 52%|█████▏    | 670/1280 [01:42<01:19,  7.64it/s]#015 52%|█████▏    | 671/1280 [01:42<01:19,  7.62it/s]#015 52%|█████▎    | 672/1280 [01:42<01:20,  7.53it/s]#015 53%|█████▎    | 673/1280 [01:42<01:18,  7.69it/s]#015 53%|█████▎    | 674/1280 [01:42<01:20,  7.55it/s]#015 53%|█████▎    | 675/1280 [01:42<01:19,  7.57it/s]#015 53%|█████▎    | 676/1280 [01:42<01:18,  7.65it/s]#015 53%|█████▎    | 677/1280 [01:43<01:18,  7.64it/s]#015 53%|█████▎    | 678/1280 [01:43<01:17,  7.73it/s]#015 53%|█████▎    | 679/1280 [01:43<01:17,  7.73it/s]#015 53%|█████▎    | 680/1280 [01:43<01:19,  7.54it/s]#015 53%|█████▎    | 681/1280 [01:43<01:19,  7.56it/s]#015 53%|█████▎    | 682/1280 [01:43<01:22,  7.29it/s]#015 53%|█████▎    | 683/1280 [01:43<01:21,  7.34it/s]#015 53%|█████▎    | 684/1280 [01:44<01:22,  7.24it/s]#015 54%|█████▎    | 685/1280 [01:44<01:25,  6.99it/s]#015 54%|█████▎    | 686/1280 [01:44<01:23,  7.10it/s]#015 54%|█████▎    | 687/1280 [01:44<01:22,  7.19it/s]#015 54%|█████▍    | 688/1280 [01:44<01:21,  7.25it/s]#015 54%|█████▍    | 689/1280 [01:44<01:21,  7.24it/s]#015 54%|█████▍    | 690/1280 [01:44<01:22,  7.17it/s]#015 54%|█████▍    | 691/1280 [01:45<01:21,  7.23it/s]#015 54%|█████▍    | 692/1280 [01:45<01:19,  7.41it/s]#015 54%|█████▍    | 693/1280 [01:45<01:17,  7.60it/s]#015 54%|█████▍    | 694/1280 [01:45<01:27,  6.68it/s]#015 54%|█████▍    | 695/1280 [01:45<01:25,  6.85it/s]#015 54%|█████▍    | 696/1280 [01:45<01:22,  7.05it/s]#015 54%|█████▍    | 697/1280 [01:45<01:22,  7.06it/s]#015 55%|█████▍    | 698/1280 [01:46<01:22,  7.02it/s]#015 55%|█████▍    | 699/1280 [01:46<01:20,  7.18it/s]#015 55%|█████▍    | 700/1280 [01:46<01:20,  7.24it/s]#015 55%|█████▍    | 701/1280 [01:46<01:18,  7.39it/s]#015 55%|█████▍    | 702/1280 [01:46<01:17,  7.46it/s]#015 55%|█████▍    | 703/1280 [01:46<01:16,  7.53it/s]#015 55%|█████▌    | 704/1280 [01:46<01:16,  7.57it/s]\u001b[0m\n",
      "\u001b[34m#015  0%|          | 0/16 [00:00<?, ?it/s]#033[A\u001b[0m\n",
      "\u001b[34m#015 31%|███▏      | 5/16 [00:00<00:00, 43.41it/s]#033[A\u001b[0m\n",
      "\u001b[34m#015 56%|█████▋    | 9/16 [00:00<00:00, 40.18it/s]#033[A\u001b[0m\n",
      "\u001b[34m#015 81%|████████▏ | 13/16 [00:00<00:00, 37.27it/s]#033[A#015                                                  #015\u001b[0m\n",
      "\u001b[34m#015                                               #015#033[A#015 55%|█████▌    | 704/1280 [01:47<01:16,  7.57it/s]\u001b[0m\n",
      "\u001b[34m#015100%|██████████| 16/16 [00:00<00:00, 37.27it/s]#033[A\u001b[0m\n",
      "\u001b[34m#015                                               #033[A#015 55%|█████▌    | 705/1280 [01:47<02:40,  3.59it/s]#015 55%|█████▌    | 706/1280 [01:47<02:13,  4.29it/s]#015 55%|█████▌    | 707/1280 [01:47<01:56,  4.90it/s]#015 55%|█████▌    | 708/1280 [01:47<01:44,  5.48it/s]#015 55%|█████▌    | 709/1280 [01:47<01:36,  5.91it/s]#015 55%|█████▌    | 710/1280 [01:48<01:30,  6.26it/s]#015 56%|█████▌    | 711/1280 [01:48<01:26,  6.61it/s]#015 56%|█████▌    | 712/1280 [01:48<01:22,  6.92it/s]#015 56%|█████▌    | 713/1280 [01:48<01:19,  7.10it/s]#015 56%|█████▌    | 714/1280 [01:48<01:28,  6.41it/s]#015 56%|█████▌    | 715/1280 [01:48<01:30,  6.26it/s]#015 56%|█████▌    | 716/1280 [01:49<01:27,  6.44it/s]#015 56%|█████▌    | 717/1280 [01:49<01:23,  6.75it/s]#015 56%|█████▌    | 718/1280 [01:49<01:20,  7.00it/s]#015 56%|█████▌    | 719/1280 [01:49<01:17,  7.22it/s]#015 56%|█████▋    | 720/1280 [01:49<01:14,  7.50it/s]#015 56%|█████▋    | 721/1280 [01:49<01:13,  7.61it/s]#015 56%|█████▋    | 722/1280 [01:49<01:20,  6.97it/s]#015 56%|█████▋    | 723/1280 [01:49<01:26,  6.42it/s]#015 57%|█████▋    | 724/1280 [01:50<01:31,  6.07it/s]#015 57%|█████▋    | 725/1280 [01:50<01:34,  5.88it/s]#015 57%|█████▋    | 726/1280 [01:50<01:32,  6.02it/s]#015 57%|█████▋    | 727/1280 [01:50<01:26,  6.43it/s]#015 57%|█████▋    | 728/1280 [01:50<01:23,  6.59it/s]#015 57%|█████▋    | 729/1280 [01:50<01:21,  6.76it/s]#015 57%|█████▋    | 730/1280 [01:51<01:22,  6.69it/s]#015 57%|█████▋    | 731/1280 [01:51<01:18,  6.98it/s]#015 57%|█████▋    | 732/1280 [01:51<01:15,  7.24it/s]#015 57%|█████▋    | 733/1280 [01:51<01:15,  7.23it/s]#015 57%|█████▋    | 734/1280 [01:51<01:15,  7.22it/s]#015 57%|█████▋    | 735/1280 [01:51<01:16,  7.15it/s]#015 57%|█████▊    | 736/1280 [01:51<01:17,  7.04it/s]#015 58%|█████▊    | 737/1280 [01:52<01:19,  6.87it/s]#015 58%|█████▊    | 738/1280 [01:52<01:20,  6.76it/s]#015 58%|█████▊    | 739/1280 [01:52<01:19,  6.83it/s]#015 58%|█████▊    | 740/1280 [01:52<01:18,  6.88it/s]#015 58%|█████▊    | 741/1280 [01:52<01:16,  7.05it/s]#015 58%|█████▊    | 742/1280 [01:52<01:16,  7.03it/s]#015 58%|█████▊    | 743/1280 [01:52<01:19,  6.76it/s]#015 58%|█████▊    | 744/1280 [01:53<01:18,  6.81it/s]#015 58%|█████▊    | 745/1280 [01:53<01:19,  6.74it/s]#015 58%|█████▊    | 746/1280 [01:53<01:19,  6.73it/s]#015 58%|█████▊    | 747/1280 [01:53<01:20,  6.65it/s]#015 58%|█████▊    | 748/1280 [01:53<01:19,  6.67it/s]#015 59%|█████▊    | 749/1280 [01:53<01:21,  6.55it/s]#015 59%|█████▊    | 750/1280 [01:54<01:22,  6.40it/s]#015 59%|█████▊    | 751/1280 [01:54<01:22,  6.40it/s]#015 59%|█████▉    | 752/1280 [01:54<01:22,  6.43it/s]#015 59%|█████▉    | 753/1280 [01:54<01:20,  6.52it/s]#015 59%|█████▉    | 754/1280 [01:54<01:16,  6.87it/s]#015 59%|█████▉    | 755/1280 [01:54<01:14,  7.07it/s]#015 59%|█████▉    | 756/1280 [01:54<01:13,  7.16it/s]#015 59%|█████▉    | 757/1280 [01:55<01:13,  7.15it/s]#015 59%|█████▉    | 758/1280 [01:55<01:11,  7.25it/s]#015 59%|█████▉    | 759/1280 [01:55<01:10,  7.34it/s]#015 59%|█████▉    | 760/1280 [01:55<01:10,  7.41it/s]#015 59%|█████▉    | 761/1280 [01:55<01:08,  7.54it/s]#015 60%|█████▉    | 762/1280 [01:55<01:07,  7.65it/s]#015 60%|█████▉    | 763/1280 [01:55<01:08,  7.53it/s]#015 60%|█████▉    | 764/1280 [01:55<01:09,  7.45it/s]#015 60%|█████▉    | 765/1280 [01:56<01:08,  7.51it/s]#015 60%|█████▉    | 766/1280 [01:56<01:11,  7.17it/s]#015 60%|█████▉    | 767/1280 [01:56<01:11,  7.19it/s]#015 60%|██████    | 768/1280 [01:56<01:10,  7.23it/s]\u001b[0m\n",
      "\u001b[34m#015  0%|          | 0/16 [00:00<?, ?it/s]#033[A\u001b[0m\n",
      "\u001b[34m#015 31%|███▏      | 5/16 [00:00<00:00, 40.97it/s]#033[A\u001b[0m\n",
      "\u001b[34m#015 56%|█████▋    | 9/16 [00:00<00:00, 38.24it/s]#033[A\u001b[0m\n",
      "\u001b[34m#015 81%|████████▏ | 13/16 [00:00<00:00, 36.59it/s]#033[A#015                                                  #015\u001b[0m\n",
      "\u001b[34m#015                                               #015#033[A#015 60%|██████    | 768/1280 [01:56<01:10,  7.23it/s]\u001b[0m\n",
      "\u001b[34m#015100%|██████████| 16/16 [00:00<00:00, 36.59it/s]#033[A\u001b[0m\n",
      "\u001b[34m#015                                               #033[A#015 60%|██████    | 769/1280 [01:57<02:24,  3.54it/s]#015 60%|██████    | 770/1280 [01:57<02:00,  4.22it/s]#015 60%|██████    | 771/1280 [01:57<01:44,  4.85it/s]#015 60%|██████    | 772/1280 [01:57<01:33,  5.43it/s]#015 60%|██████    | 773/1280 [01:57<01:23,  6.04it/s]#015 60%|██████    | 774/1280 [01:57<01:19,  6.38it/s]#015 61%|██████    | 775/1280 [01:57<01:16,  6.61it/s]#015 61%|██████    | 776/1280 [01:58<01:13,  6.86it/s]#015 61%|██████    | 777/1280 [01:58<01:11,  7.05it/s]#015 61%|██████    | 778/1280 [01:58<01:09,  7.18it/s]#015 61%|██████    | 779/1280 [01:58<01:08,  7.29it/s]#015 61%|██████    | 780/1280 [01:58<01:06,  7.50it/s]#015 61%|██████    | 781/1280 [01:58<01:05,  7.60it/s]#015 61%|██████    | 782/1280 [01:58<01:06,  7.48it/s]#015 61%|██████    | 783/1280 [01:58<01:07,  7.31it/s]#015 61%|██████▏   | 784/1280 [01:59<01:06,  7.45it/s]#015 61%|██████▏   | 785/1280 [01:59<01:06,  7.40it/s]#015 61%|██████▏   | 786/1280 [01:59<01:08,  7.22it/s]#015 61%|██████▏   | 787/1280 [01:59<01:08,  7.20it/s]#015 62%|██████▏   | 788/1280 [01:59<01:16,  6.47it/s]#015 62%|██████▏   | 789/1280 [01:59<01:16,  6.39it/s]#015 62%|██████▏   | 790/1280 [02:00<01:12,  6.71it/s]#015 62%|██████▏   | 791/1280 [02:00<01:10,  6.89it/s]#015 62%|██████▏   | 792/1280 [02:00<01:09,  7.03it/s]#015 62%|██████▏   | 793/1280 [02:00<01:09,  7.03it/s]#015 62%|██████▏   | 794/1280 [02:00<01:11,  6.82it/s]#015 62%|██████▏   | 795/1280 [02:00<01:08,  7.08it/s]#015 62%|██████▏   | 796/1280 [02:00<01:06,  7.23it/s]#015 62%|██████▏   | 797/1280 [02:00<01:06,  7.21it/s]#015 62%|██████▏   | 798/1280 [02:01<01:05,  7.38it/s]#015 62%|██████▏   | 799/1280 [02:01<01:06,  7.20it/s]#015 62%|██████▎   | 800/1280 [02:01<01:07,  7.07it/s]#015 63%|██████▎   | 801/1280 [02:01<01:08,  6.98it/s]#015 63%|██████▎   | 802/1280 [02:01<01:06,  7.15it/s]#015 63%|██████▎   | 803/1280 [02:01<01:07,  7.11it/s]#015 63%|██████▎   | 804/1280 [02:01<01:07,  7.03it/s]#015 63%|██████▎   | 805/1280 [02:02<01:05,  7.24it/s]#015 63%|██████▎   | 806/1280 [02:02<01:04,  7.39it/s]#015 63%|██████▎   | 807/1280 [02:02<01:04,  7.33it/s]#015 63%|██████▎   | 808/1280 [02:02<01:03,  7.41it/s]#015 63%|██████▎   | 809/1280 [02:02<01:03,  7.38it/s]#015 63%|██████▎   | 810/1280 [02:02<01:03,  7.40it/s]#015 63%|██████▎   | 811/1280 [02:02<01:06,  7.09it/s]#015 63%|██████▎   | 812/1280 [02:03<01:07,  6.98it/s]#015 64%|██████▎   | 813/1280 [02:03<01:04,  7.20it/s]#015 64%|██████▎   | 814/1280 [02:03<01:02,  7.43it/s]#015 64%|██████▎   | 815/1280 [02:03<01:02,  7.47it/s]#015 64%|██████▍   | 816/1280 [02:03<01:08,  6.78it/s]#015 64%|██████▍   | 817/1280 [02:03<01:06,  6.98it/s]#015 64%|██████▍   | 818/1280 [02:03<01:04,  7.20it/s]#015 64%|██████▍   | 819/1280 [02:04<01:03,  7.28it/s]#015 64%|██████▍   | 820/1280 [02:04<01:01,  7.46it/s]#015 64%|██████▍   | 821/1280 [02:04<01:02,  7.39it/s]#015 64%|██████▍   | 822/1280 [02:04<01:02,  7.38it/s]#015 64%|██████▍   | 823/1280 [02:04<01:01,  7.37it/s]#015 64%|██████▍   | 824/1280 [02:04<01:01,  7.47it/s]#015 64%|██████▍   | 825/1280 [02:04<01:01,  7.42it/s]#015 65%|██████▍   | 826/1280 [02:04<01:04,  7.08it/s]#015 65%|██████▍   | 827/1280 [02:05<01:03,  7.14it/s]#015 65%|██████▍   | 828/1280 [02:05<01:01,  7.37it/s]#015 65%|██████▍   | 829/1280 [02:05<01:00,  7.50it/s]#015 65%|██████▍   | 830/1280 [02:05<00:59,  7.57it/s]#015 65%|██████▍   | 831/1280 [02:05<00:58,  7.68it/s]#015 65%|██████▌   | 832/1280 [02:05<00:58,  7.67it/s]\u001b[0m\n",
      "\u001b[34m#015  0%|          | 0/16 [00:00<?, ?it/s]#033[A\u001b[0m\n",
      "\u001b[34m#015 31%|███▏      | 5/16 [00:00<00:00, 41.33it/s]#033[A\u001b[0m\n",
      "\u001b[34m#015 56%|█████▋    | 9/16 [00:00<00:00, 37.48it/s]#033[A\u001b[0m\n",
      "\u001b[34m#015 81%|████████▏ | 13/16 [00:00<00:00, 36.71it/s]#033[A#015                                                  #015\u001b[0m\n",
      "\u001b[34m#015                                               #015#033[A#015 65%|██████▌   | 832/1280 [02:06<00:58,  7.67it/s]\u001b[0m\n",
      "\u001b[34m#015100%|██████████| 16/16 [00:00<00:00, 36.71it/s]#033[A\u001b[0m\n",
      "\u001b[34m#015                                               #033[A#015 65%|██████▌   | 833/1280 [02:06<02:05,  3.57it/s]#015 65%|██████▌   | 834/1280 [02:06<01:44,  4.25it/s]#015 65%|██████▌   | 835/1280 [02:06<01:30,  4.90it/s]#015 65%|██████▌   | 836/1280 [02:06<01:21,  5.47it/s]#015 65%|██████▌   | 837/1280 [02:06<01:15,  5.84it/s]#015 65%|██████▌   | 838/1280 [02:07<01:10,  6.26it/s]#015 66%|██████▌   | 839/1280 [02:07<01:06,  6.60it/s]#015 66%|██████▌   | 840/1280 [02:07<01:04,  6.81it/s]#015 66%|██████▌   | 841/1280 [02:07<01:03,  6.96it/s]#015 66%|██████▌   | 842/1280 [02:07<01:01,  7.13it/s]#015 66%|██████▌   | 843/1280 [02:07<01:00,  7.20it/s]#015 66%|██████▌   | 844/1280 [02:07<00:58,  7.40it/s]#015 66%|██████▌   | 845/1280 [02:08<00:59,  7.31it/s]#015 66%|██████▌   | 846/1280 [02:08<01:00,  7.14it/s]#015 66%|██████▌   | 847/1280 [02:08<01:00,  7.16it/s]#015 66%|██████▋   | 848/1280 [02:08<00:58,  7.39it/s]#015 66%|██████▋   | 849/1280 [02:08<00:58,  7.41it/s]#015 66%|██████▋   | 850/1280 [02:08<00:57,  7.52it/s]#015 66%|██████▋   | 851/1280 [02:08<00:56,  7.61it/s]#015 67%|██████▋   | 852/1280 [02:08<00:55,  7.67it/s]#015 67%|██████▋   | 853/1280 [02:09<01:01,  6.96it/s]#015 67%|██████▋   | 854/1280 [02:09<01:01,  6.98it/s]#015 67%|██████▋   | 855/1280 [02:09<01:00,  7.08it/s]#015 67%|██████▋   | 856/1280 [02:09<00:59,  7.16it/s]#015 67%|██████▋   | 857/1280 [02:09<00:57,  7.38it/s]#015 67%|██████▋   | 858/1280 [02:09<00:56,  7.44it/s]#015 67%|██████▋   | 859/1280 [02:09<00:55,  7.55it/s]#015 67%|██████▋   | 860/1280 [02:10<00:56,  7.45it/s]#015 67%|██████▋   | 861/1280 [02:10<00:56,  7.47it/s]#015 67%|██████▋   | 862/1280 [02:10<00:56,  7.41it/s]#015 67%|██████▋   | 863/1280 [02:10<00:56,  7.38it/s]#015 68%|██████▊   | 864/1280 [02:10<00:56,  7.41it/s]#015 68%|██████▊   | 865/1280 [02:10<00:55,  7.46it/s]#015 68%|██████▊   | 866/1280 [02:10<00:56,  7.28it/s]#015 68%|██████▊   | 867/1280 [02:11<00:55,  7.38it/s]#015 68%|██████▊   | 868/1280 [02:11<00:56,  7.33it/s]#015 68%|██████▊   | 869/1280 [02:11<00:55,  7.41it/s]#015 68%|██████▊   | 870/1280 [02:11<00:55,  7.33it/s]#015 68%|██████▊   | 871/1280 [02:11<00:56,  7.20it/s]#015 68%|██████▊   | 872/1280 [02:11<00:56,  7.20it/s]#015 68%|██████▊   | 873/1280 [02:11<00:56,  7.25it/s]#015 68%|██████▊   | 874/1280 [02:11<00:55,  7.28it/s]#015 68%|██████▊   | 875/1280 [02:12<00:56,  7.20it/s]#015 68%|██████▊   | 876/1280 [02:12<00:55,  7.28it/s]#015 69%|██████▊   | 877/1280 [02:12<00:55,  7.32it/s]#015 69%|██████▊   | 878/1280 [02:12<00:55,  7.20it/s]#015 69%|██████▊   | 879/1280 [02:12<00:56,  7.10it/s]#015 69%|██████▉   | 880/1280 [02:12<00:54,  7.30it/s]#015 69%|██████▉   | 881/1280 [02:12<00:53,  7.41it/s]#015 69%|██████▉   | 882/1280 [02:13<00:55,  7.15it/s]#015 69%|██████▉   | 883/1280 [02:13<00:54,  7.33it/s]#015 69%|██████▉   | 884/1280 [02:13<00:52,  7.48it/s]#015 69%|██████▉   | 885/1280 [02:13<00:52,  7.52it/s]#015 69%|██████▉   | 886/1280 [02:13<00:52,  7.51it/s]#015 69%|██████▉   | 887/1280 [02:13<00:51,  7.67it/s]#015 69%|██████▉   | 888/1280 [02:13<00:50,  7.78it/s]#015 69%|██████▉   | 889/1280 [02:13<00:50,  7.76it/s]#015 70%|██████▉   | 890/1280 [02:14<00:55,  6.99it/s]#015 70%|██████▉   | 891/1280 [02:14<01:01,  6.34it/s]#015 70%|██████▉   | 892/1280 [02:14<01:04,  5.98it/s]#015 70%|██████▉   | 893/1280 [02:14<01:07,  5.72it/s]#015 70%|██████▉   | 894/1280 [02:14<01:09,  5.58it/s]#015 70%|██████▉   | 895/1280 [02:15<01:05,  5.89it/s]#015 70%|███████   | 896/1280 [02:15<01:01,  6.21it/s]\u001b[0m\n",
      "\u001b[34m#015  0%|          | 0/16 [00:00<?, ?it/s]#033[A\u001b[0m\n",
      "\u001b[34m#015 25%|██▌       | 4/16 [00:00<00:00, 37.45it/s]#033[A\u001b[0m\n",
      "\u001b[34m#015 44%|████▍     | 7/16 [00:00<00:00, 34.61it/s]#033[A\u001b[0m\n",
      "\u001b[34m#015 62%|██████▎   | 10/16 [00:00<00:00, 32.22it/s]#033[A\u001b[0m\n",
      "\u001b[34m#015 88%|████████▊ | 14/16 [00:00<00:00, 32.71it/s]#033[A#015                                                  #015\u001b[0m\n",
      "\u001b[34m#015                                               #015#033[A#015 70%|███████   | 896/1280 [02:15<01:01,  6.21it/s]\u001b[0m\n",
      "\u001b[34m#015100%|██████████| 16/16 [00:00<00:00, 32.71it/s]#033[A\u001b[0m\n",
      "\u001b[34m#015                                               #033[A#015 70%|███████   | 897/1280 [02:15<01:59,  3.20it/s]#015 70%|███████   | 898/1280 [02:15<01:38,  3.88it/s]#015 70%|███████   | 899/1280 [02:16<01:24,  4.50it/s]#015 70%|███████   | 900/1280 [02:16<01:15,  5.01it/s]#015 70%|███████   | 901/1280 [02:16<01:08,  5.54it/s]#015 70%|███████   | 902/1280 [02:16<01:04,  5.84it/s]#015 71%|███████   | 903/1280 [02:16<01:00,  6.19it/s]#015 71%|███████   | 904/1280 [02:16<00:57,  6.55it/s]#015 71%|███████   | 905/1280 [02:16<00:55,  6.81it/s]#015 71%|███████   | 906/1280 [02:17<00:55,  6.73it/s]#015 71%|███████   | 907/1280 [02:17<00:54,  6.82it/s]#015 71%|███████   | 908/1280 [02:17<00:53,  7.01it/s]#015 71%|███████   | 909/1280 [02:17<00:52,  7.09it/s]#015 71%|███████   | 910/1280 [02:17<00:51,  7.21it/s]#015 71%|███████   | 911/1280 [02:17<00:51,  7.23it/s]#015 71%|███████▏  | 912/1280 [02:17<00:50,  7.22it/s]#015 71%|███████▏  | 913/1280 [02:18<00:50,  7.33it/s]#015 71%|███████▏  | 914/1280 [02:18<00:49,  7.34it/s]#015 71%|███████▏  | 915/1280 [02:18<00:50,  7.20it/s]#015 72%|███████▏  | 916/1280 [02:18<00:49,  7.33it/s]#015 72%|███████▏  | 917/1280 [02:18<00:48,  7.45it/s]#015 72%|███████▏  | 918/1280 [02:18<00:47,  7.54it/s]#015 72%|███████▏  | 919/1280 [02:18<00:47,  7.56it/s]#015 72%|███████▏  | 920/1280 [02:19<00:46,  7.72it/s]#015 72%|███████▏  | 921/1280 [02:19<00:49,  7.29it/s]#015 72%|███████▏  | 922/1280 [02:19<00:48,  7.42it/s]#015 72%|███████▏  | 923/1280 [02:19<00:47,  7.46it/s]#015 72%|███████▏  | 924/1280 [02:19<00:47,  7.49it/s]#015 72%|███████▏  | 925/1280 [02:19<00:47,  7.53it/s]#015 72%|███████▏  | 926/1280 [02:19<00:48,  7.29it/s]#015 72%|███████▏  | 927/1280 [02:20<00:53,  6.65it/s]#015 72%|███████▎  | 928/1280 [02:20<00:51,  6.85it/s]#015 73%|███████▎  | 929/1280 [02:20<00:49,  7.05it/s]#015 73%|███████▎  | 930/1280 [02:20<00:48,  7.20it/s]#015 73%|███████▎  | 931/1280 [02:20<00:48,  7.26it/s]#015 73%|███████▎  | 932/1280 [02:20<00:47,  7.33it/s]#015 73%|███████▎  | 933/1280 [02:20<00:46,  7.41it/s]#015 73%|███████▎  | 934/1280 [02:20<00:46,  7.44it/s]#015 73%|███████▎  | 935/1280 [02:21<00:45,  7.62it/s]#015 73%|███████▎  | 936/1280 [02:21<00:48,  7.11it/s]#015 73%|███████▎  | 937/1280 [02:21<00:49,  6.92it/s]#015 73%|███████▎  | 938/1280 [02:21<00:48,  7.04it/s]#015 73%|███████▎  | 939/1280 [02:21<00:49,  6.85it/s]#015 73%|███████▎  | 940/1280 [02:21<00:48,  6.96it/s]#015 74%|███████▎  | 941/1280 [02:21<00:47,  7.18it/s]#015 74%|███████▎  | 942/1280 [02:22<00:45,  7.39it/s]#015 74%|███████▎  | 943/1280 [02:22<00:45,  7.42it/s]#015 74%|███████▍  | 944/1280 [02:22<00:45,  7.37it/s]#015 74%|███████▍  | 945/1280 [02:22<00:45,  7.37it/s]#015 74%|███████▍  | 946/1280 [02:22<00:44,  7.45it/s]#015 74%|███████▍  | 947/1280 [02:22<00:43,  7.57it/s]#015 74%|███████▍  | 948/1280 [02:22<00:44,  7.54it/s]#015 74%|███████▍  | 949/1280 [02:23<00:44,  7.37it/s]#015 74%|███████▍  | 950/1280 [02:23<00:44,  7.45it/s]#015 74%|███████▍  | 951/1280 [02:23<00:44,  7.33it/s]#015 74%|███████▍  | 952/1280 [02:23<00:44,  7.35it/s]#015 74%|███████▍  | 953/1280 [02:23<00:44,  7.29it/s]#015 75%|███████▍  | 954/1280 [02:23<00:45,  7.24it/s]#015 75%|███████▍  | 955/1280 [02:23<00:44,  7.24it/s]#015 75%|███████▍  | 956/1280 [02:23<00:44,  7.28it/s]#015 75%|███████▍  | 957/1280 [02:24<00:43,  7.39it/s]#015 75%|███████▍  | 958/1280 [02:24<00:42,  7.50it/s]#015 75%|███████▍  | 959/1280 [02:24<00:42,  7.50it/s]#015 75%|███████▌  | 960/1280 [02:24<00:42,  7.55it/s]\u001b[0m\n",
      "\u001b[34m#015  0%|          | 0/16 [00:00<?, ?it/s]#033[A\u001b[0m\n",
      "\u001b[34m#015 31%|███▏      | 5/16 [00:00<00:00, 42.17it/s]#033[A\u001b[0m\n",
      "\u001b[34m#015 56%|█████▋    | 9/16 [00:00<00:00, 39.54it/s]#033[A\u001b[0m\n",
      "\u001b[34m#015 81%|████████▏ | 13/16 [00:00<00:00, 37.69it/s]#033[A#015                                                  #015\u001b[0m\n",
      "\u001b[34m#015                                               #015#033[A#015 75%|███████▌  | 960/1280 [02:24<00:42,  7.55it/s]\u001b[0m\n",
      "\u001b[34m#015100%|██████████| 16/16 [00:00<00:00, 37.69it/s]#033[A\u001b[0m\n",
      "\u001b[34m#015                                               #033[A#015 75%|███████▌  | 961/1280 [02:25<01:27,  3.66it/s]#015 75%|███████▌  | 962/1280 [02:25<01:14,  4.28it/s]#015 75%|███████▌  | 963/1280 [02:25<01:04,  4.89it/s]#015 75%|███████▌  | 964/1280 [02:25<00:57,  5.53it/s]#015 75%|███████▌  | 965/1280 [02:25<00:51,  6.06it/s]#015 75%|███████▌  | 966/1280 [02:25<00:48,  6.53it/s]#015 76%|███████▌  | 967/1280 [02:25<00:46,  6.68it/s]#015 76%|███████▌  | 968/1280 [02:26<00:44,  6.99it/s]#015 76%|███████▌  | 969/1280 [02:26<00:42,  7.28it/s]#015 76%|███████▌  | 970/1280 [02:26<00:42,  7.29it/s]#015 76%|███████▌  | 971/1280 [02:26<00:41,  7.46it/s]#015 76%|███████▌  | 972/1280 [02:26<00:41,  7.50it/s]#015 76%|███████▌  | 973/1280 [02:26<00:43,  7.06it/s]#015 76%|███████▌  | 974/1280 [02:26<00:45,  6.77it/s]#015 76%|███████▌  | 975/1280 [02:26<00:43,  7.01it/s]#015 76%|███████▋  | 976/1280 [02:27<00:46,  6.57it/s]#015 76%|███████▋  | 977/1280 [02:27<00:45,  6.69it/s]#015 76%|███████▋  | 978/1280 [02:27<00:43,  6.93it/s]#015 76%|███████▋  | 979/1280 [02:27<00:42,  7.10it/s]#015 77%|███████▋  | 980/1280 [02:27<00:41,  7.29it/s]#015 77%|███████▋  | 981/1280 [02:27<00:44,  6.68it/s]#015 77%|███████▋  | 982/1280 [02:28<00:43,  6.86it/s]#015 77%|███████▋  | 983/1280 [02:28<00:41,  7.08it/s]#015 77%|███████▋  | 984/1280 [02:28<00:42,  7.05it/s]#015 77%|███████▋  | 985/1280 [02:28<00:41,  7.12it/s]#015 77%|███████▋  | 986/1280 [02:28<00:41,  7.13it/s]#015 77%|███████▋  | 987/1280 [02:28<00:40,  7.23it/s]#015 77%|███████▋  | 988/1280 [02:28<00:39,  7.34it/s]#015 77%|███████▋  | 989/1280 [02:28<00:39,  7.30it/s]#015 77%|███████▋  | 990/1280 [02:29<00:39,  7.29it/s]#015 77%|███████▋  | 991/1280 [02:29<00:40,  7.14it/s]#015 78%|███████▊  | 992/1280 [02:29<00:40,  7.18it/s]#015 78%|███████▊  | 993/1280 [02:29<00:38,  7.37it/s]#015 78%|███████▊  | 994/1280 [02:29<00:38,  7.46it/s]#015 78%|███████▊  | 995/1280 [02:29<00:37,  7.56it/s]#015 78%|███████▊  | 996/1280 [02:29<00:36,  7.70it/s]#015 78%|███████▊  | 997/1280 [02:30<00:37,  7.62it/s]#015 78%|███████▊  | 998/1280 [02:30<00:36,  7.69it/s]#015 78%|███████▊  | 999/1280 [02:30<00:37,  7.51it/s]#015 78%|███████▊  | 1000/1280 [02:30<00:37,  7.49it/s]#015                                                   #015#015 78%|███████▊  | 1000/1280 [02:30<00:37,  7.49it/s]#015 78%|███████▊  | 1001/1280 [02:32<03:28,  1.34it/s]#015 78%|███████▊  | 1002/1280 [02:32<02:37,  1.77it/s]#015 78%|███████▊  | 1003/1280 [02:32<02:00,  2.29it/s]#015 78%|███████▊  | 1004/1280 [02:33<01:35,  2.89it/s]#015 79%|███████▊  | 1005/1280 [02:33<01:17,  3.53it/s]#015 79%|███████▊  | 1006/1280 [02:33<01:06,  4.14it/s]#015 79%|███████▊  | 1007/1280 [02:33<00:56,  4.80it/s]#015 79%|███████▉  | 1008/1280 [02:33<00:49,  5.48it/s]#015 79%|███████▉  | 1009/1280 [02:33<00:44,  6.05it/s]#015 79%|███████▉  | 1010/1280 [02:33<00:41,  6.45it/s]#015 79%|███████▉  | 1011/1280 [02:33<00:39,  6.89it/s]#015 79%|███████▉  | 1012/1280 [02:34<00:37,  7.11it/s]#015 79%|███████▉  | 1013/1280 [02:34<00:37,  7.20it/s]#015 79%|███████▉  | 1014/1280 [02:34<00:38,  6.97it/s]#015 79%|███████▉  | 1015/1280 [02:34<00:37,  7.08it/s]#015 79%|███████▉  | 1016/1280 [02:34<00:36,  7.23it/s]#015 79%|███████▉  | 1017/1280 [02:34<00:36,  7.26it/s]#015 80%|███████▉  | 1018/1280 [02:34<00:35,  7.35it/s]#015 80%|███████▉  | 1019/1280 [02:35<00:35,  7.34it/s]#015 80%|███████▉  | 1020/1280 [02:35<00:34,  7.45it/s]#015 80%|███████▉  | 1021/1280 [02:35<00:34,  7.52it/s]#015 80%|███████▉  | 1022/1280 [02:35<00:35,  7.25it/s]#015 80%|███████▉  | 1023/1280 [02:35<00:36,  6.98it/s]#015 80%|████████  | 1024/1280 [02:35<00:36,  7.05it/s]\u001b[0m\n",
      "\u001b[34m#015  0%|          | 0/16 [00:00<?, ?it/s]#033[A\u001b[0m\n",
      "\u001b[34m#015 31%|███▏      | 5/16 [00:00<00:00, 41.30it/s]#033[A\u001b[0m\n",
      "\u001b[34m#015 56%|█████▋    | 9/16 [00:00<00:00, 38.45it/s]#033[A\u001b[0m\n",
      "\u001b[34m#015 81%|████████▏ | 13/16 [00:00<00:00, 38.13it/s]#033[A#015                                                   #015\u001b[0m\n",
      "\u001b[34m#015                                               #015#033[A#015 80%|████████  | 1024/1280 [02:36<00:36,  7.05it/s]\u001b[0m\n",
      "\u001b[34m#015100%|██████████| 16/16 [00:00<00:00, 38.13it/s]#033[A\u001b[0m\n",
      "\u001b[34m#015                                               #033[A#015 80%|████████  | 1025/1280 [02:36<01:11,  3.57it/s]#015 80%|████████  | 1026/1280 [02:36<01:00,  4.22it/s]#015 80%|████████  | 1027/1280 [02:36<00:52,  4.83it/s]#015 80%|████████  | 1028/1280 [02:36<00:46,  5.41it/s]#015 80%|████████  | 1029/1280 [02:36<00:44,  5.66it/s]#015 80%|████████  | 1030/1280 [02:37<00:40,  6.10it/s]#015 81%|████████  | 1031/1280 [02:37<00:37,  6.57it/s]#015 81%|████████  | 1032/1280 [02:37<00:36,  6.83it/s]#015 81%|████████  | 1033/1280 [02:37<00:35,  7.00it/s]#015 81%|████████  | 1034/1280 [02:37<00:34,  7.15it/s]#015 81%|████████  | 1035/1280 [02:37<00:34,  7.20it/s]#015 81%|████████  | 1036/1280 [02:37<00:33,  7.24it/s]#015 81%|████████  | 1037/1280 [02:37<00:33,  7.23it/s]#015 81%|████████  | 1038/1280 [02:38<00:33,  7.23it/s]#015 81%|████████  | 1039/1280 [02:38<00:32,  7.31it/s]#015 81%|████████▏ | 1040/1280 [02:38<00:33,  7.11it/s]#015 81%|████████▏ | 1041/1280 [02:38<00:32,  7.36it/s]#015 81%|████████▏ | 1042/1280 [02:38<00:31,  7.46it/s]#015 81%|████████▏ | 1043/1280 [02:38<00:31,  7.47it/s]#015 82%|████████▏ | 1044/1280 [02:38<00:31,  7.48it/s]#015 82%|████████▏ | 1045/1280 [02:39<00:31,  7.37it/s]#015 82%|████████▏ | 1046/1280 [02:39<00:32,  7.28it/s]#015 82%|████████▏ | 1047/1280 [02:39<00:32,  7.13it/s]#015 82%|████████▏ | 1048/1280 [02:39<00:32,  7.15it/s]#015 82%|████████▏ | 1049/1280 [02:39<00:31,  7.35it/s]#015 82%|████████▏ | 1050/1280 [02:39<00:30,  7.47it/s]#015 82%|████████▏ | 1051/1280 [02:39<00:30,  7.47it/s]#015 82%|████████▏ | 1052/1280 [02:40<00:30,  7.58it/s]#015 82%|████████▏ | 1053/1280 [02:40<00:29,  7.61it/s]#015 82%|████████▏ | 1054/1280 [02:40<00:29,  7.68it/s]#015 82%|████████▏ | 1055/1280 [02:40<00:29,  7.74it/s]#015 82%|████████▎ | 1056/1280 [02:40<00:29,  7.60it/s]#015 83%|████████▎ | 1057/1280 [02:40<00:29,  7.53it/s]#015 83%|████████▎ | 1058/1280 [02:40<00:28,  7.66it/s]#015 83%|████████▎ | 1059/1280 [02:40<00:28,  7.64it/s]#015 83%|████████▎ | 1060/1280 [02:41<00:29,  7.57it/s]#015 83%|████████▎ | 1061/1280 [02:41<00:29,  7.43it/s]#015 83%|████████▎ | 1062/1280 [02:41<00:28,  7.54it/s]#015 83%|████████▎ | 1063/1280 [02:41<00:29,  7.39it/s]#015 83%|████████▎ | 1064/1280 [02:41<00:30,  7.16it/s]#015 83%|████████▎ | 1065/1280 [02:41<00:29,  7.23it/s]#015 83%|████████▎ | 1066/1280 [02:41<00:29,  7.27it/s]#015 83%|████████▎ | 1067/1280 [02:42<00:29,  7.13it/s]#015 83%|████████▎ | 1068/1280 [02:42<00:30,  6.98it/s]#015 84%|████████▎ | 1069/1280 [02:42<00:29,  7.11it/s]#015 84%|████████▎ | 1070/1280 [02:42<00:29,  7.11it/s]#015 84%|████████▎ | 1071/1280 [02:42<00:29,  6.99it/s]#015 84%|████████▍ | 1072/1280 [02:42<00:29,  7.06it/s]#015 84%|████████▍ | 1073/1280 [02:42<00:28,  7.22it/s]#015 84%|████████▍ | 1074/1280 [02:43<00:28,  7.21it/s]#015 84%|████████▍ | 1075/1280 [02:43<00:28,  7.24it/s]#015 84%|████████▍ | 1076/1280 [02:43<00:28,  7.28it/s]#015 84%|████████▍ | 1077/1280 [02:43<00:27,  7.27it/s]#015 84%|████████▍ | 1078/1280 [02:43<00:28,  7.21it/s]#015 84%|████████▍ | 1079/1280 [02:43<00:27,  7.22it/s]#015 84%|████████▍ | 1080/1280 [02:43<00:27,  7.40it/s]#015 84%|████████▍ | 1081/1280 [02:43<00:26,  7.46it/s]#015 85%|████████▍ | 1082/1280 [02:44<00:29,  6.73it/s]#015 85%|████████▍ | 1083/1280 [02:44<00:28,  6.86it/s]#015 85%|████████▍ | 1084/1280 [02:44<00:27,  7.01it/s]#015 85%|████████▍ | 1085/1280 [02:44<00:27,  6.98it/s]#015 85%|████████▍ | 1086/1280 [02:44<00:27,  7.11it/s]#015 85%|████████▍ | 1087/1280 [02:44<00:27,  7.11it/s]#015 85%|████████▌ | 1088/1280 [02:44<00:26,  7.28it/s]\u001b[0m\n",
      "\u001b[34m#015  0%|          | 0/16 [00:00<?, ?it/s]#033[A\u001b[0m\n",
      "\u001b[34m#015 25%|██▌       | 4/16 [00:00<00:00, 36.54it/s]#033[A\u001b[0m\n",
      "\u001b[34m#015 44%|████▍     | 7/16 [00:00<00:00, 33.99it/s]#033[A\u001b[0m\n",
      "\u001b[34m#015 69%|██████▉   | 11/16 [00:00<00:00, 33.02it/s]#033[A\u001b[0m\n",
      "\u001b[34m#015 88%|████████▊ | 14/16 [00:00<00:00, 31.84it/s]#033[A#015                                                   #015\u001b[0m\n",
      "\u001b[34m#015                                               #015#033[A#015 85%|████████▌ | 1088/1280 [02:45<00:26,  7.28it/s]\u001b[0m\n",
      "\u001b[34m#015100%|██████████| 16/16 [00:00<00:00, 31.84it/s]#033[A\u001b[0m\n",
      "\u001b[34m#015                                               #033[A#015 85%|████████▌ | 1089/1280 [02:45<00:56,  3.38it/s]#015 85%|████████▌ | 1090/1280 [02:45<00:46,  4.06it/s]#015 85%|████████▌ | 1091/1280 [02:45<00:40,  4.68it/s]#015 85%|████████▌ | 1092/1280 [02:46<00:36,  5.22it/s]#015 85%|████████▌ | 1093/1280 [02:46<00:32,  5.75it/s]#015 85%|████████▌ | 1094/1280 [02:46<00:30,  6.12it/s]#015 86%|████████▌ | 1095/1280 [02:46<00:28,  6.42it/s]#015 86%|████████▌ | 1096/1280 [02:46<00:27,  6.71it/s]#015 86%|████████▌ | 1097/1280 [02:46<00:26,  6.92it/s]#015 86%|████████▌ | 1098/1280 [02:46<00:25,  7.14it/s]#015 86%|████████▌ | 1099/1280 [02:46<00:24,  7.25it/s]#015 86%|████████▌ | 1100/1280 [02:47<00:25,  7.09it/s]#015 86%|████████▌ | 1101/1280 [02:47<00:24,  7.27it/s]#015 86%|████████▌ | 1102/1280 [02:47<00:24,  7.39it/s]#015 86%|████████▌ | 1103/1280 [02:47<00:24,  7.21it/s]#015 86%|████████▋ | 1104/1280 [02:47<00:23,  7.36it/s]#015 86%|████████▋ | 1105/1280 [02:47<00:23,  7.48it/s]#015 86%|████████▋ | 1106/1280 [02:47<00:22,  7.57it/s]#015 86%|████████▋ | 1107/1280 [02:48<00:23,  7.41it/s]#015 87%|████████▋ | 1108/1280 [02:48<00:22,  7.52it/s]#015 87%|████████▋ | 1109/1280 [02:48<00:22,  7.46it/s]#015 87%|████████▋ | 1110/1280 [02:48<00:23,  7.30it/s]#015 87%|████████▋ | 1111/1280 [02:48<00:22,  7.37it/s]#015 87%|████████▋ | 1112/1280 [02:48<00:22,  7.42it/s]#015 87%|████████▋ | 1113/1280 [02:48<00:22,  7.40it/s]#015 87%|████████▋ | 1114/1280 [02:49<00:22,  7.53it/s]#015 87%|████████▋ | 1115/1280 [02:49<00:21,  7.55it/s]#015 87%|████████▋ | 1116/1280 [02:49<00:21,  7.49it/s]#015 87%|████████▋ | 1117/1280 [02:49<00:21,  7.60it/s]#015 87%|████████▋ | 1118/1280 [02:49<00:21,  7.48it/s]#015 87%|████████▋ | 1119/1280 [02:49<00:21,  7.51it/s]#015 88%|████████▊ | 1120/1280 [02:49<00:21,  7.42it/s]#015 88%|████████▊ | 1121/1280 [02:49<00:21,  7.36it/s]#015 88%|████████▊ | 1122/1280 [02:50<00:21,  7.49it/s]#015 88%|████████▊ | 1123/1280 [02:50<00:20,  7.64it/s]#015 88%|████████▊ | 1124/1280 [02:50<00:20,  7.69it/s]#015 88%|████████▊ | 1125/1280 [02:50<00:21,  7.16it/s]#015 88%|████████▊ | 1126/1280 [02:50<00:21,  7.09it/s]#015 88%|████████▊ | 1127/1280 [02:50<00:22,  6.95it/s]#015 88%|████████▊ | 1128/1280 [02:50<00:21,  6.93it/s]#015 88%|████████▊ | 1129/1280 [02:51<00:22,  6.83it/s]#015 88%|████████▊ | 1130/1280 [02:51<00:21,  6.90it/s]#015 88%|████████▊ | 1131/1280 [02:51<00:21,  6.97it/s]#015 88%|████████▊ | 1132/1280 [02:51<00:20,  7.08it/s]#015 89%|████████▊ | 1133/1280 [02:51<00:20,  7.18it/s]#015 89%|████████▊ | 1134/1280 [02:51<00:19,  7.38it/s]#015 89%|████████▊ | 1135/1280 [02:51<00:19,  7.38it/s]#015 89%|████████▉ | 1136/1280 [02:52<00:19,  7.44it/s]#015 89%|████████▉ | 1137/1280 [02:52<00:19,  7.20it/s]#015 89%|████████▉ | 1138/1280 [02:52<00:20,  7.01it/s]#015 89%|████████▉ | 1139/1280 [02:52<00:19,  7.16it/s]#015 89%|████████▉ | 1140/1280 [02:52<00:19,  7.07it/s]#015 89%|████████▉ | 1141/1280 [02:52<00:20,  6.67it/s]#015 89%|████████▉ | 1142/1280 [02:52<00:20,  6.65it/s]#015 89%|████████▉ | 1143/1280 [02:53<00:20,  6.69it/s]#015 89%|████████▉ | 1144/1280 [02:53<00:20,  6.63it/s]#015 89%|████████▉ | 1145/1280 [02:53<00:20,  6.69it/s]#015 90%|████████▉ | 1146/1280 [02:53<00:19,  6.78it/s]#015 90%|████████▉ | 1147/1280 [02:53<00:19,  6.95it/s]#015 90%|████████▉ | 1148/1280 [02:53<00:18,  7.06it/s]#015 90%|████████▉ | 1149/1280 [02:53<00:18,  7.00it/s]#015 90%|████████▉ | 1150/1280 [02:54<00:19,  6.82it/s]#015 90%|████████▉ | 1151/1280 [02:54<00:19,  6.71it/s]#015 90%|█████████ | 1152/1280 [02:54<00:18,  6.98it/s]\u001b[0m\n",
      "\u001b[34m#015  0%|          | 0/16 [00:00<?, ?it/s]#033[A\u001b[0m\n",
      "\u001b[34m#015 25%|██▌       | 4/16 [00:00<00:00, 39.95it/s]#033[A\u001b[0m\n",
      "\u001b[34m#015 44%|████▍     | 7/16 [00:00<00:00, 35.43it/s]#033[A\u001b[0m\n",
      "\u001b[34m#015 62%|██████▎   | 10/16 [00:00<00:00, 33.20it/s]#033[A\u001b[0m\n",
      "\u001b[34m#015 88%|████████▊ | 14/16 [00:00<00:00, 32.41it/s]#033[A#015                                                   #015\u001b[0m\n",
      "\u001b[34m#015                                               #015#033[A#015 90%|█████████ | 1152/1280 [02:54<00:18,  6.98it/s]\u001b[0m\n",
      "\u001b[34m#015100%|██████████| 16/16 [00:00<00:00, 32.41it/s]#033[A\u001b[0m\n",
      "\u001b[34m#015                                               #033[A#015 90%|█████████ | 1153/1280 [02:55<00:39,  3.19it/s]#015 90%|█████████ | 1154/1280 [02:55<00:34,  3.66it/s]#015 90%|█████████ | 1155/1280 [02:55<00:29,  4.26it/s]#015 90%|█████████ | 1156/1280 [02:55<00:25,  4.92it/s]#015 90%|█████████ | 1157/1280 [02:55<00:22,  5.40it/s]#015 90%|█████████ | 1158/1280 [02:55<00:21,  5.80it/s]#015 91%|█████████ | 1159/1280 [02:55<00:19,  6.15it/s]#015 91%|█████████ | 1160/1280 [02:56<00:18,  6.36it/s]#015 91%|█████████ | 1161/1280 [02:56<00:17,  6.66it/s]#015 91%|█████████ | 1162/1280 [02:56<00:17,  6.88it/s]#015 91%|█████████ | 1163/1280 [02:56<00:16,  7.04it/s]#015 91%|█████████ | 1164/1280 [02:56<00:16,  7.20it/s]#015 91%|█████████ | 1165/1280 [02:56<00:15,  7.38it/s]#015 91%|█████████ | 1166/1280 [02:56<00:15,  7.47it/s]#015 91%|█████████ | 1167/1280 [02:57<00:14,  7.55it/s]#015 91%|█████████▏| 1168/1280 [02:57<00:14,  7.60it/s]#015 91%|█████████▏| 1169/1280 [02:57<00:15,  7.31it/s]#015 91%|█████████▏| 1170/1280 [02:57<00:14,  7.35it/s]#015 91%|█████████▏| 1171/1280 [02:57<00:15,  7.05it/s]#015 92%|█████████▏| 1172/1280 [02:57<00:15,  6.96it/s]#015 92%|█████████▏| 1173/1280 [02:57<00:15,  7.12it/s]#015 92%|█████████▏| 1174/1280 [02:58<00:14,  7.30it/s]#015 92%|█████████▏| 1175/1280 [02:58<00:14,  7.26it/s]#015 92%|█████████▏| 1176/1280 [02:58<00:14,  7.07it/s]#015 92%|█████████▏| 1177/1280 [02:58<00:14,  7.26it/s]#015 92%|█████████▏| 1178/1280 [02:58<00:13,  7.37it/s]#015 92%|█████████▏| 1179/1280 [02:58<00:13,  7.32it/s]#015 92%|█████████▏| 1180/1280 [02:58<00:13,  7.39it/s]#015 92%|█████████▏| 1181/1280 [02:58<00:13,  7.50it/s]#015 92%|█████████▏| 1182/1280 [02:59<00:13,  7.46it/s]#015 92%|█████████▏| 1183/1280 [02:59<00:13,  7.41it/s]#015 92%|█████████▎| 1184/1280 [02:59<00:13,  7.35it/s]#015 93%|█████████▎| 1185/1280 [02:59<00:13,  7.31it/s]#015 93%|█████████▎| 1186/1280 [02:59<00:12,  7.35it/s]#015 93%|█████████▎| 1187/1280 [02:59<00:12,  7.17it/s]#015 93%|█████████▎| 1188/1280 [02:59<00:13,  7.04it/s]#015 93%|█████████▎| 1189/1280 [03:00<00:12,  7.18it/s]#015 93%|█████████▎| 1190/1280 [03:00<00:12,  7.19it/s]#015 93%|█████████▎| 1191/1280 [03:00<00:12,  7.25it/s]#015 93%|█████████▎| 1192/1280 [03:00<00:12,  7.21it/s]#015 93%|█████████▎| 1193/1280 [03:00<00:12,  7.23it/s]#015 93%|█████████▎| 1194/1280 [03:00<00:12,  7.15it/s]#015 93%|█████████▎| 1195/1280 [03:00<00:11,  7.16it/s]#015 93%|█████████▎| 1196/1280 [03:01<00:11,  7.29it/s]#015 94%|█████████▎| 1197/1280 [03:01<00:11,  7.42it/s]#015 94%|█████████▎| 1198/1280 [03:01<00:10,  7.49it/s]#015 94%|█████████▎| 1199/1280 [03:01<00:10,  7.56it/s]#015 94%|█████████▍| 1200/1280 [03:01<00:10,  7.47it/s]#015 94%|█████████▍| 1201/1280 [03:01<00:10,  7.37it/s]#015 94%|█████████▍| 1202/1280 [03:01<00:10,  7.44it/s]#015 94%|█████████▍| 1203/1280 [03:01<00:10,  7.40it/s]#015 94%|█████████▍| 1204/1280 [03:02<00:10,  7.45it/s]#015 94%|█████████▍| 1205/1280 [03:02<00:09,  7.70it/s]#015 94%|█████████▍| 1206/1280 [03:02<00:10,  7.31it/s]#015 94%|█████████▍| 1207/1280 [03:02<00:09,  7.39it/s]#015 94%|█████████▍| 1208/1280 [03:02<00:09,  7.38it/s]#015 94%|█████████▍| 1209/1280 [03:02<00:09,  7.38it/s]#015 95%|█████████▍| 1210/1280 [03:02<00:09,  7.31it/s]#015 95%|█████████▍| 1211/1280 [03:03<00:09,  7.22it/s]#015 95%|█████████▍| 1212/1280 [03:03<00:09,  7.40it/s]#015 95%|█████████▍| 1213/1280 [03:03<00:09,  7.41it/s]#015 95%|█████████▍| 1214/1280 [03:03<00:09,  7.14it/s]#015 95%|█████████▍| 1215/1280 [03:03<00:09,  7.05it/s]#015 95%|█████████▌| 1216/1280 [03:03<00:09,  6.92it/s]\u001b[0m\n",
      "\u001b[34m#015  0%|          | 0/16 [00:00<?, ?it/s]#033[A\u001b[0m\n",
      "\u001b[34m#015 25%|██▌       | 4/16 [00:00<00:00, 39.72it/s]#033[A\u001b[0m\n",
      "\u001b[34m#015 44%|████▍     | 7/16 [00:00<00:00, 35.73it/s]#033[A\u001b[0m\n",
      "\u001b[34m#015 69%|██████▉   | 11/16 [00:00<00:00, 34.99it/s]#033[A\u001b[0m\n",
      "\u001b[34m#015 94%|█████████▍| 15/16 [00:00<00:00, 35.43it/s]#033[A#015                                                   #015\u001b[0m\n",
      "\u001b[34m#015                                               #015#033[A#015 95%|█████████▌| 1216/1280 [03:04<00:09,  6.92it/s]\u001b[0m\n",
      "\u001b[34m#015100%|██████████| 16/16 [00:00<00:00, 35.43it/s]#033[A\u001b[0m\n",
      "\u001b[34m#015                                               #033[A#015 95%|█████████▌| 1217/1280 [03:04<00:18,  3.45it/s]#015 95%|█████████▌| 1218/1280 [03:04<00:15,  3.97it/s]#015 95%|█████████▌| 1219/1280 [03:04<00:15,  3.85it/s]#015 95%|█████████▌| 1220/1280 [03:04<00:13,  4.45it/s]#015 95%|█████████▌| 1221/1280 [03:05<00:11,  5.02it/s]#015 95%|█████████▌| 1222/1280 [03:05<00:10,  5.49it/s]#015 96%|█████████▌| 1223/1280 [03:05<00:09,  5.94it/s]#015 96%|█████████▌| 1224/1280 [03:05<00:08,  6.35it/s]#015 96%|█████████▌| 1225/1280 [03:05<00:08,  6.71it/s]#015 96%|█████████▌| 1226/1280 [03:05<00:07,  6.80it/s]#015 96%|█████████▌| 1227/1280 [03:05<00:07,  6.83it/s]#015 96%|█████████▌| 1228/1280 [03:06<00:07,  7.06it/s]#015 96%|█████████▌| 1229/1280 [03:06<00:07,  7.28it/s]#015 96%|█████████▌| 1230/1280 [03:06<00:06,  7.32it/s]#015 96%|█████████▌| 1231/1280 [03:06<00:06,  7.44it/s]#015 96%|█████████▋| 1232/1280 [03:06<00:06,  7.54it/s]#015 96%|█████████▋| 1233/1280 [03:06<00:06,  6.94it/s]#015 96%|█████████▋| 1234/1280 [03:06<00:06,  7.01it/s]#015 96%|█████████▋| 1235/1280 [03:07<00:06,  7.14it/s]#015 97%|█████████▋| 1236/1280 [03:07<00:06,  7.16it/s]#015 97%|█████████▋| 1237/1280 [03:07<00:06,  7.09it/s]#015 97%|█████████▋| 1238/1280 [03:07<00:06,  6.94it/s]#015 97%|█████████▋| 1239/1280 [03:07<00:05,  7.11it/s]#015 97%|█████████▋| 1240/1280 [03:07<00:05,  7.24it/s]#015 97%|█████████▋| 1241/1280 [03:07<00:05,  7.17it/s]#015 97%|█████████▋| 1242/1280 [03:08<00:05,  7.16it/s]#015 97%|█████████▋| 1243/1280 [03:08<00:05,  7.12it/s]#015 97%|█████████▋| 1244/1280 [03:08<00:05,  6.97it/s]#015 97%|█████████▋| 1245/1280 [03:08<00:05,  6.78it/s]#015 97%|█████████▋| 1246/1280 [03:08<00:05,  6.78it/s]#015 97%|█████████▋| 1247/1280 [03:08<00:04,  7.02it/s]#015 98%|█████████▊| 1248/1280 [03:08<00:04,  6.40it/s]#015 98%|█████████▊| 1249/1280 [03:09<00:04,  6.64it/s]#015 98%|█████████▊| 1250/1280 [03:09<00:04,  6.93it/s]#015 98%|█████████▊| 1251/1280 [03:09<00:04,  7.10it/s]#015 98%|█████████▊| 1252/1280 [03:09<00:03,  7.24it/s]#015 98%|█████████▊| 1253/1280 [03:09<00:03,  7.13it/s]#015 98%|█████████▊| 1254/1280 [03:09<00:04,  6.48it/s]#015 98%|█████████▊| 1255/1280 [03:09<00:03,  6.65it/s]#015 98%|█████████▊| 1256/1280 [03:10<00:03,  6.50it/s]#015 98%|█████████▊| 1257/1280 [03:10<00:03,  6.08it/s]#015 98%|█████████▊| 1258/1280 [03:10<00:03,  6.37it/s]#015 98%|█████████▊| 1259/1280 [03:10<00:03,  6.64it/s]#015 98%|█████████▊| 1260/1280 [03:10<00:02,  6.98it/s]#015 99%|█████████▊| 1261/1280 [03:10<00:02,  7.00it/s]#015 99%|█████████▊| 1262/1280 [03:10<00:02,  7.17it/s]#015 99%|█████████▊| 1263/1280 [03:11<00:02,  7.24it/s]#015 99%|█████████▉| 1264/1280 [03:11<00:02,  7.33it/s]#015 99%|█████████▉| 1265/1280 [03:11<00:02,  7.19it/s]#015 99%|█████████▉| 1266/1280 [03:11<00:01,  7.18it/s]#015 99%|█████████▉| 1267/1280 [03:11<00:01,  7.37it/s]#015 99%|█████████▉| 1268/1280 [03:11<00:01,  7.45it/s]#015 99%|█████████▉| 1269/1280 [03:11<00:01,  7.46it/s]#015 99%|█████████▉| 1270/1280 [03:12<00:01,  7.52it/s]#015 99%|█████████▉| 1271/1280 [03:12<00:01,  7.62it/s]#015 99%|█████████▉| 1272/1280 [03:12<00:01,  7.42it/s]#015 99%|█████████▉| 1273/1280 [03:12<00:00,  7.47it/s]#015100%|█████████▉| 1274/1280 [03:12<00:00,  7.18it/s]#015100%|█████████▉| 1275/1280 [03:12<00:00,  7.10it/s]#015100%|█████████▉| 1276/1280 [03:12<00:00,  7.07it/s]#015100%|█████████▉| 1277/1280 [03:13<00:00,  7.32it/s]#015100%|█████████▉| 1278/1280 [03:13<00:00,  7.38it/s]#015100%|█████████▉| 1279/1280 [03:13<00:00,  7.48it/s]#015100%|██████████| 1280/1280 [03:13<00:00,  7.48it/s]\u001b[0m\n",
      "\u001b[34m#015  0%|          | 0/16 [00:00<?, ?it/s]#033[A\u001b[0m\n",
      "\u001b[34m#015 25%|██▌       | 4/16 [00:00<00:00, 37.67it/s]#033[A\u001b[0m\n",
      "\u001b[34m#015 44%|████▍     | 7/16 [00:00<00:00, 34.57it/s]#033[A\u001b[0m\n",
      "\u001b[34m#015 62%|██████▎   | 10/16 [00:00<00:00, 32.13it/s]#033[A\u001b[0m\n",
      "\u001b[34m#015 81%|████████▏ | 13/16 [00:00<00:00, 31.43it/s]#033[A#015                                                   #015\u001b[0m\n",
      "\u001b[34m#015                                               #015#033[A#015100%|██████████| 1280/1280 [03:13<00:00,  7.48it/s]\u001b[0m\n",
      "\u001b[34m#015100%|██████████| 16/16 [00:00<00:00, 31.43it/s]#033[A\u001b[0m\n",
      "\u001b[34m#015                                               #033[A#015                                                   #015#015100%|██████████| 1280/1280 [03:13<00:00,  7.48it/s]#015100%|██████████| 1280/1280 [03:13<00:00,  6.60it/s]\n",
      "\u001b[0m\n",
      "\n",
      "2021-07-23 11:10:35 Uploading - Uploading generated training model\n",
      "2021-07-23 11:13:55 Completed - Training job completed\n",
      "ProfilerReport-1627038068: NoIssuesFound\n",
      "Training seconds: 608\n",
      "Billable seconds: 608\n"
     ]
    }
   ],
   "source": [
    "huggingface_estimator.fit(\n",
    "    {'train': 's3://hackathongroup4/augmented_commands.csv'}\n",
    ")"
   ]
  },
  {
   "cell_type": "code",
   "execution_count": 68,
   "metadata": {},
   "outputs": [
    {
     "data": {
      "text/plain": [
       "'s3://sagemaker-ap-southeast-1-204222797759/huggingface-pytorch-training-2021-07-23-11-01-08-350/output/model.tar.gz'"
      ]
     },
     "execution_count": 68,
     "metadata": {},
     "output_type": "execute_result"
    }
   ],
   "source": [
    "huggingface_estimator.model_data"
   ]
  },
  {
   "cell_type": "code",
   "execution_count": 31,
   "metadata": {},
   "outputs": [
    {
     "name": "stdout",
     "output_type": "stream",
     "text": [
      "-------------!"
     ]
    }
   ],
   "source": [
    "# # create Hugging Face Model Class\n",
    "huggingface_model = HuggingFaceModel(\n",
    "    model_data=huggingface_estimator.model_data,\n",
    "    transformers_version='4.6',\n",
    "    pytorch_version='1.7',\n",
    "    py_version='py36',\n",
    "\trole=role, \n",
    ")\n",
    "\n",
    "# # deploy model to SageMaker Inference\n",
    "predictor = huggingface_model.deploy(\n",
    "\tinitial_instance_count=1, # number of instances\n",
    "\tinstance_type='ml.m5.xlarge' # ec2 instance type\n",
    ")"
   ]
  },
  {
   "cell_type": "code",
   "execution_count": 71,
   "metadata": {},
   "outputs": [
    {
     "name": "stderr",
     "output_type": "stream",
     "text": [
      "The endpoint attribute has been renamed in sagemaker>=2.\n",
      "See: https://sagemaker.readthedocs.io/en/stable/v2.html for details.\n"
     ]
    },
    {
     "data": {
      "text/plain": [
       "'huggingface-pytorch-inference-2021-07-23-11-14-07-476'"
      ]
     },
     "execution_count": 71,
     "metadata": {},
     "output_type": "execute_result"
    }
   ],
   "source": [
    "predictor.endpoint"
   ]
  },
  {
   "cell_type": "code",
   "execution_count": 75,
   "metadata": {},
   "outputs": [
    {
     "data": {
      "text/plain": [
       "[{'label': 'LABEL_3', 'score': 0.9333232641220093}]"
      ]
     },
     "execution_count": 75,
     "metadata": {},
     "output_type": "execute_result"
    }
   ],
   "source": [
    "predictor.predict({'inputs': \"learn stuff\"})"
   ]
  },
  {
   "cell_type": "code",
   "execution_count": 72,
   "metadata": {},
   "outputs": [],
   "source": [
    "def do_prediction(query):\n",
    "    MAPPER = {\n",
    "        'LABEL_0': 'orbit', \n",
    "        'LABEL_2': 'enghub', \n",
    "        'LABEL_7': 'techrisk', \n",
    "        'LABEL_8': 'teutr', \n",
    "        'LABEL_6': 'mail', \n",
    "        'LABEL_5': 'kerb', \n",
    "        'LABEL_9': 'time', \n",
    "        'LABEL_3': 'help', \n",
    "        'LABEL_4': 'im', \n",
    "        'LABEL_1': 'call'\n",
    "    }\n",
    "    output = predictor.predict({'inputs': query})\n",
    "    return MAPPER[output[0]['label']]"
   ]
  },
  {
   "cell_type": "code",
   "execution_count": 73,
   "metadata": {},
   "outputs": [
    {
     "data": {
      "text/plain": [
       "'call'"
      ]
     },
     "execution_count": 73,
     "metadata": {},
     "output_type": "execute_result"
    }
   ],
   "source": [
    "do_prediction(\"siu hong phone number\")"
   ]
  },
  {
   "cell_type": "code",
   "execution_count": 53,
   "metadata": {},
   "outputs": [
    {
     "data": {
      "text/plain": [
       "'mail'"
      ]
     },
     "execution_count": 53,
     "metadata": {},
     "output_type": "execute_result"
    }
   ],
   "source": [
    "do_prediction(\"send email to binitha\")"
   ]
  },
  {
   "cell_type": "code",
   "execution_count": 54,
   "metadata": {},
   "outputs": [
    {
     "data": {
      "text/plain": [
       "'techrisk'"
      ]
     },
     "execution_count": 54,
     "metadata": {},
     "output_type": "execute_result"
    }
   ],
   "source": [
    "do_prediction(\"chec k security inciedents\")"
   ]
  },
  {
   "cell_type": "code",
   "execution_count": 55,
   "metadata": {},
   "outputs": [
    {
     "data": {
      "text/plain": [
       "'help'"
      ]
     },
     "execution_count": 55,
     "metadata": {},
     "output_type": "execute_result"
    }
   ],
   "source": [
    "do_prediction(\"wjere helpdesk\")"
   ]
  },
  {
   "cell_type": "code",
   "execution_count": 57,
   "metadata": {},
   "outputs": [
    {
     "data": {
      "text/plain": [
       "'time'"
      ]
     },
     "execution_count": 57,
     "metadata": {},
     "output_type": "execute_result"
    }
   ],
   "source": [
    "do_prediction(\"what time san franc\")"
   ]
  },
  {
   "cell_type": "code",
   "execution_count": 65,
   "metadata": {},
   "outputs": [
    {
     "data": {
      "text/plain": [
       "'teutr'"
      ]
     },
     "execution_count": 65,
     "metadata": {},
     "output_type": "execute_result"
    }
   ],
   "source": [
    "do_prediction(\"get tech support\")"
   ]
  },
  {
   "cell_type": "code",
   "execution_count": 66,
   "metadata": {},
   "outputs": [
    {
     "data": {
      "text/plain": [
       "'enghub'"
      ]
     },
     "execution_count": 66,
     "metadata": {},
     "output_type": "execute_result"
    }
   ],
   "source": [
    "do_prediction(\"engineering resourcs\")"
   ]
  },
  {
   "cell_type": "code",
   "execution_count": 67,
   "metadata": {},
   "outputs": [
    {
     "data": {
      "text/plain": [
       "'im'"
      ]
     },
     "execution_count": 67,
     "metadata": {},
     "output_type": "execute_result"
    }
   ],
   "source": [
    "do_prediction(\"get in touch w pengfei\")"
   ]
  },
  {
   "cell_type": "code",
   "execution_count": null,
   "metadata": {},
   "outputs": [],
   "source": []
  }
 ],
 "metadata": {
  "interpreter": {
   "hash": "34c0989c0192b9240215dbbfec15b908a6002d980437169a556dff4f29250d04"
  },
  "kernelspec": {
   "display_name": "Python 3.8.8 64-bit ('docco-ml-5SSSzlZr-py3.8': venv)",
   "name": "python3"
  },
  "language_info": {
   "name": "python",
   "version": ""
  }
 },
 "nbformat": 4,
 "nbformat_minor": 5
}